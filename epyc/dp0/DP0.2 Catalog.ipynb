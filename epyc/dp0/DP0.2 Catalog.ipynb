{
 "cells": [
  {
   "cell_type": "code",
   "execution_count": 1,
   "id": "0d7494e5",
   "metadata": {},
   "outputs": [
    {
     "name": "stdout",
     "output_type": "stream",
     "text": [
      "CPU times: user 6.52 s, sys: 15.1 s, total: 21.6 s\n",
      "Wall time: 16.6 s\n"
     ]
    }
   ],
   "source": [
    "%%time\n",
    "\n",
    "import hipscat\n",
    "import os\n",
    "from hipscat.pixel_math import HealpixPixel\n",
    "import numpy as np\n",
    "import healpy as hp\n",
    "from matplotlib import pyplot as plt\n",
    "import pyarrow.parquet as pq\n",
    "import pandas as pd\n",
    "from hipscat.inspection import plot_pixel_list, plot_pixels\n",
    "\n",
    "catalog_dir = \"/data3/epyc/data3/hipscat/catalogs/dp02\"\n",
    "\n",
    "catalog = hipscat.read_from_hipscat(catalog_dir)"
   ]
  },
  {
   "cell_type": "code",
   "execution_count": 2,
   "id": "f085c780",
   "metadata": {},
   "outputs": [
    {
     "data": {
      "image/png": "[encoded data removed]",
      "text/plain": [
       "<Figure size 850x540 with 2 Axes>"
      ]
     },
     "metadata": {},
     "output_type": "display_data"
    }
   ],
   "source": [
    "plot_pixels(catalog)"
   ]
  },
  {
   "cell_type": "code",
   "execution_count": 3,
   "id": "90a0e883",
   "metadata": {},
   "outputs": [
    {
     "name": "stdout",
     "output_type": "stream",
     "text": [
      "CPU times: user 2.94 s, sys: 703 ms, total: 3.65 s\n",
      "Wall time: 3.65 s\n"
     ]
    },
    {
     "data": {
      "text/plain": [
       "1671"
      ]
     },
     "execution_count": 3,
     "metadata": {},
     "output_type": "execute_result"
    }
   ],
   "source": [
    "%%time\n",
    "\n",
    "metadata_file = \"/data3/epyc/data3/hipscat/catalogs/dp02/_metadata\"\n",
    "\n",
    "total_metadata = pq.read_metadata(metadata_file)\n",
    "num_row_groups = total_metadata.num_row_groups\n",
    "first_row_group = total_metadata.row_group(0)\n",
    "norder_column = -1\n",
    "npix_column = -1\n",
    "\n",
    "for i in range(0, first_row_group.num_columns):\n",
    "    column = first_row_group.column(i)\n",
    "    if column.path_in_schema == \"Norder\":\n",
    "        norder_column = i\n",
    "    elif column.path_in_schema == \"Npix\":\n",
    "        npix_column = i\n",
    "\n",
    "if norder_column == -1 or npix_column == -1:\n",
    "    raise ValueError(\"Metadata missing Norder or Npix column\")\n",
    "\n",
    "row_group_index = np.arange(0, num_row_groups)\n",
    "\n",
    "pixel_tuples = [\n",
    "    (\n",
    "        total_metadata.row_group(index).column(norder_column).statistics.min,\n",
    "        total_metadata.row_group(index).column(npix_column).statistics.min,\n",
    "        total_metadata.row_group(index).num_rows,\n",
    "        1,\n",
    "    )\n",
    "    for index in row_group_index\n",
    "]\n",
    "\n",
    "num_row_groups"
   ]
  },
  {
   "cell_type": "code",
   "execution_count": 5,
   "id": "4ec1da8b",
   "metadata": {},
   "outputs": [
    {
     "data": {
      "text/html": [
       "<div>\n",
       "<style scoped>\n",
       "    .dataframe tbody tr th:only-of-type {\n",
       "        vertical-align: middle;\n",
       "    }\n",
       "\n",
       "    .dataframe tbody tr th {\n",
       "        vertical-align: top;\n",
       "    }\n",
       "\n",
       "    .dataframe thead th {\n",
       "        text-align: right;\n",
       "    }\n",
       "</style>\n",
       "<table border=\"1\" class=\"dataframe\">\n",
       "  <thead>\n",
       "    <tr style=\"text-align: right;\">\n",
       "      <th></th>\n",
       "      <th></th>\n",
       "      <th>num_rows</th>\n",
       "      <th>num_groups</th>\n",
       "    </tr>\n",
       "    <tr>\n",
       "      <th>Norder</th>\n",
       "      <th>Npix</th>\n",
       "      <th></th>\n",
       "      <th></th>\n",
       "    </tr>\n",
       "  </thead>\n",
       "  <tbody>\n",
       "    <tr>\n",
       "      <th rowspan=\"5\" valign=\"top\">4</th>\n",
       "      <th>2173</th>\n",
       "      <td>173941</td>\n",
       "      <td>1</td>\n",
       "    </tr>\n",
       "    <tr>\n",
       "      <th>2174</th>\n",
       "      <td>145394</td>\n",
       "      <td>1</td>\n",
       "    </tr>\n",
       "    <tr>\n",
       "      <th>2246</th>\n",
       "      <td>49571</td>\n",
       "      <td>1</td>\n",
       "    </tr>\n",
       "    <tr>\n",
       "      <th>2257</th>\n",
       "      <td>164953</td>\n",
       "      <td>1</td>\n",
       "    </tr>\n",
       "    <tr>\n",
       "      <th>2258</th>\n",
       "      <td>165642</td>\n",
       "      <td>1</td>\n",
       "    </tr>\n",
       "    <tr>\n",
       "      <th>...</th>\n",
       "      <th>...</th>\n",
       "      <td>...</td>\n",
       "      <td>...</td>\n",
       "    </tr>\n",
       "    <tr>\n",
       "      <th rowspan=\"5\" valign=\"top\">7</th>\n",
       "      <th>144423</th>\n",
       "      <td>149947</td>\n",
       "      <td>1</td>\n",
       "    </tr>\n",
       "    <tr>\n",
       "      <th>144424</th>\n",
       "      <td>177051</td>\n",
       "      <td>1</td>\n",
       "    </tr>\n",
       "    <tr>\n",
       "      <th>144425</th>\n",
       "      <td>160470</td>\n",
       "      <td>1</td>\n",
       "    </tr>\n",
       "    <tr>\n",
       "      <th>144426</th>\n",
       "      <td>179228</td>\n",
       "      <td>1</td>\n",
       "    </tr>\n",
       "    <tr>\n",
       "      <th>144427</th>\n",
       "      <td>128534</td>\n",
       "      <td>1</td>\n",
       "    </tr>\n",
       "  </tbody>\n",
       "</table>\n",
       "<p>1671 rows × 2 columns</p>\n",
       "</div>"
      ],
      "text/plain": [
       "               num_rows  num_groups\n",
       "Norder Npix                        \n",
       "4      2173      173941           1\n",
       "       2174      145394           1\n",
       "       2246       49571           1\n",
       "       2257      164953           1\n",
       "       2258      165642           1\n",
       "...                 ...         ...\n",
       "7      144423    149947           1\n",
       "       144424    177051           1\n",
       "       144425    160470           1\n",
       "       144426    179228           1\n",
       "       144427    128534           1\n",
       "\n",
       "[1671 rows x 2 columns]"
      ]
     },
     "execution_count": 5,
     "metadata": {},
     "output_type": "execute_result"
    }
   ],
   "source": [
    "pixel_frame = pd.DataFrame(pixel_tuples, columns=[\"Norder\", \"Npix\", \"num_rows\", \"num_groups\"])\n",
    "pixel_frame = pixel_frame.groupby([\"Norder\", \"Npix\"]).sum()\n",
    "pixel_frame"
   ]
  },
  {
   "cell_type": "code",
   "execution_count": 6,
   "id": "a1bdeca2",
   "metadata": {},
   "outputs": [],
   "source": [
    "info_frame = catalog.partition_info.as_dataframe()\n",
    "for index, partition in info_frame.iterrows():\n",
    "    file_name = result = hipscat.io.paths.pixel_catalog_file(\n",
    "        catalog_dir, partition[\"Norder\"], partition[\"Npix\"]\n",
    "    )\n",
    "    info_frame.loc[index, \"size_on_disk\"] = os.path.getsize(file_name)\n",
    "\n",
    "info_frame = info_frame.astype(int)\n",
    "info_frame[\"gbs\"] = info_frame[\"size_on_disk\"] / (1024 * 1024 * 1024)"
   ]
  },
  {
   "cell_type": "code",
   "execution_count": 7,
   "id": "0198ecf3",
   "metadata": {},
   "outputs": [
    {
     "name": "stdout",
     "output_type": "stream",
     "text": [
      "healpix orders: [4 5 6 7]\n",
      "num partitions: 1671\n",
      "------\n",
      "min size_on_disk: 0.00\n",
      "max size_on_disk: 1.13\n",
      "size_on_disk ratio: 1179.59\n",
      "total size_on_disk: 1185.32\n"
     ]
    }
   ],
   "source": [
    "print(f'healpix orders: {info_frame[\"Norder\"].unique()}')\n",
    "print(f'num partitions: {len(info_frame[\"Npix\"])}')\n",
    "print(\"------\")\n",
    "print(f'min size_on_disk: {info_frame[\"gbs\"].min():.2f}')\n",
    "print(f'max size_on_disk: {info_frame[\"gbs\"].max():.2f}')\n",
    "print(f'size_on_disk ratio: {info_frame[\"gbs\"].max()/info_frame[\"gbs\"].min():.2f}')\n",
    "print(f'total size_on_disk: {info_frame[\"gbs\"].sum():.2f}')"
   ]
  },
  {
   "cell_type": "code",
   "execution_count": 8,
   "id": "9d6777ba",
   "metadata": {},
   "outputs": [
    {
     "name": "stdout",
     "output_type": "stream",
     "text": [
      "small-ish \t: 111 \t(6.6 %)\n",
      "sweet-spot \t: 1554 \t(93.0 %)\n",
      "big-ish \t: 6 \t(0.4 %)\n",
      "too-big \t: 0 \t(0.0 %)\n"
     ]
    },
    {
     "data": {
      "image/png": "[encoded data removed]",
      "text/plain": [
       "<Figure size 640x480 with 1 Axes>"
      ]
     },
     "metadata": {},
     "output_type": "display_data"
    }
   ],
   "source": [
    "import matplotlib.pyplot as plt\n",
    "import numpy as np\n",
    "\n",
    "plt.hist(info_frame[\"gbs\"])\n",
    "\n",
    "bins = [0, 0.5, 1, 2, 100]\n",
    "labels = [\"small-ish\", \"sweet-spot\", \"big-ish\", \"too-big\"]\n",
    "hist = np.histogram(info_frame[\"gbs\"], bins=bins)[0]\n",
    "pcts = hist / len(info_frame)\n",
    "for i in range(0, len(labels)):\n",
    "    print(f\"{labels[i]} \\t: {hist[i]} \\t({pcts[i]*100:.1f} %)\")"
   ]
  }
 ],
 "metadata": {
  "kernelspec": {
   "display_name": "Melissa LSDB",
   "language": "python",
   "name": "mmd11_lsdb"
  },
  "language_info": {
   "codemirror_mode": {
    "name": "ipython",
    "version": 3
   },
   "file_extension": ".py",
   "mimetype": "text/x-python",
   "name": "python",
   "nbconvert_exporter": "python",
   "pygments_lexer": "ipython3",
   "version": "3.10.13"
  }
 },
 "nbformat": 4,
 "nbformat_minor": 5
}
