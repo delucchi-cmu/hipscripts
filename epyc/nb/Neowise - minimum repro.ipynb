{
 "cells": [
  {
   "cell_type": "code",
   "execution_count": 2,
   "id": "16dcfacf",
   "metadata": {},
   "outputs": [],
   "source": [
    "import pandas as pd\n",
    "\n",
    "file_name = \"/epyc/data3/NEOWISE-yr8/irsa.ipac.caltech.edu/data/download/neowiser_year8/neowiser.neowiser_yr8_p1bs_psd.LOAD_2071.csv.bz2\"\n",
    "\n",
    "type_frame = pd.read_csv(\"/astro/users/mmd11/git/hipscripts/epyc/allwise/types.csv\")\n",
    "type_map = dict(zip(type_frame[\"name\"], type_frame[\"type\"]))\n",
    "\n",
    "min_repro = pd.read_csv(file_name, sep='|', index_col=False, header=None, nrows=1_000, \n",
    "                     names=type_frame[\"name\"].values.tolist(), dtype=type_map)\n",
    "min_repro.to_csv(\"/astro/users/mmd11/git/hipscripts/epyc/allwise/min_repro.csv\", index=False)"
   ]
  },
  {
   "cell_type": "code",
   "execution_count": null,
   "id": "c570fac9",
   "metadata": {},
   "outputs": [],
   "source": []
  }
 ],
 "metadata": {
  "kernelspec": {
   "display_name": "Melissa LSDB",
   "language": "python",
   "name": "lsd2env"
  },
  "language_info": {
   "codemirror_mode": {
    "name": "ipython",
    "version": 3
   },
   "file_extension": ".py",
   "mimetype": "text/x-python",
   "name": "python",
   "nbconvert_exporter": "python",
   "pygments_lexer": "ipython3",
   "version": "3.9.15"
  }
 },
 "nbformat": 4,
 "nbformat_minor": 5
}
