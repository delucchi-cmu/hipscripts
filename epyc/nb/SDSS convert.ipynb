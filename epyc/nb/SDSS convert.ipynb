{
 "cells": [
  {
   "cell_type": "code",
   "execution_count": 2,
   "id": "06f21a2c",
   "metadata": {},
   "outputs": [],
   "source": [
    "from astropy.table import Table\n",
    "import pandas as pd\n",
    "from astropy.table.table import descr\n",
    "\n",
    "def convert_fits(in_file, out_file):\n",
    "    table = Table.read(in_file)\n",
    "    \n",
    "    new_table = Table()\n",
    "\n",
    "    for col in table.columns.values():\n",
    "        descriptor = descr(col)\n",
    "        col_name = descriptor[0]\n",
    "        col_shape = descriptor[2]\n",
    "        if col_shape == (5,):\n",
    "            data_t = col.data.T\n",
    "            for index, band_char in enumerate('ugriz'):\n",
    "                new_table.add_column(data_t[index], name=f\"{col_name}_{band_char}\")\n",
    "        elif col_shape == ():\n",
    "            new_table.add_column(col)\n",
    "\n",
    "    new_table.to_pandas().to_parquet(out_file)"
   ]
  },
  {
   "cell_type": "code",
   "execution_count": null,
   "id": "83ba33d8",
   "metadata": {},
   "outputs": [],
   "source": [
    "from astropy.table import Table\n",
    "import pandas as pd\n",
    "\n",
    "def convert_fits_nested(in_file, out_file):\n",
    "    table = Table.read(in_file)\n",
    "    \n",
    "    new_table = table.as_array().tolist()\n",
    "    new_panda = pd.DataFrame(new_table, columns=table.columns.keys())\n",
    "\n",
    "    new_panda.to_parquet(out_file)"
   ]
  },
  {
   "cell_type": "code",
   "execution_count": 4,
   "id": "99431980",
   "metadata": {},
   "outputs": [
    {
     "name": "stderr",
     "output_type": "stream",
     "text": [
      " 66%|████████████████████████████████████████████████████▌                           | 3012/4584 [2:52:31<43:46,  1.67s/it]   IOPub message rate exceeded.\n",
      "The notebook server will temporarily stop sending output\n",
      "to the client in order to avoid crashing it.\n",
      "To change this limit, set the config variable\n",
      "`--NotebookApp.iopub_msg_rate_limit`.\n",
      "\n",
      "Current values:\n",
      "NotebookApp.iopub_msg_rate_limit=1000.0 (msgs/sec)\n",
      "NotebookApp.rate_limit_window=3.0 (secs)\n",
      "\n",
      "100%|████████████████████████████████████████████████████████████████████████████████| 4584/4584 [4:45:40<00:00,  3.74s/it]  \n"
     ]
    }
   ],
   "source": [
    "import glob\n",
    "import re\n",
    "from tqdm import tqdm\n",
    "\n",
    "files = glob.glob(\"/data3/epyc/data3/hipscat/raw/sdss/**.fits.gz\")\n",
    "files.sort()\n",
    "\n",
    "for file in tqdm(files, bar_format='{l_bar}{bar:80}{r_bar}'):\n",
    "    \n",
    "    match = re.match(r\".*(calibObj-.*-star).fits.gz\", str(file))\n",
    "    file_prefix = match.group(1)\n",
    "#     print(file_prefix)\n",
    "    output_filename = f\"/data3/epyc/data3/hipscat/raw/sdss/parquet/{file_prefix}.parquet\"\n",
    "    \n",
    "    convert_fits(file, output_filename)  \n"
   ]
  }
 ],
 "metadata": {
  "kernelspec": {
   "display_name": "Melissa LSDB",
   "language": "python",
   "name": "lsd2env"
  },
  "language_info": {
   "codemirror_mode": {
    "name": "ipython",
    "version": 3
   },
   "file_extension": ".py",
   "mimetype": "text/x-python",
   "name": "python",
   "nbconvert_exporter": "python",
   "pygments_lexer": "ipython3",
   "version": "3.9.15"
  }
 },
 "nbformat": 4,
 "nbformat_minor": 5
}
