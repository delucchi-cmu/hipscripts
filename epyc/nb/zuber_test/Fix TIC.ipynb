{
 "cells": [
  {
   "cell_type": "code",
   "execution_count": 3,
   "id": "d5cdf555",
   "metadata": {},
   "outputs": [
    {
     "data": {
      "text/plain": [
       "3768"
      ]
     },
     "execution_count": 3,
     "metadata": {},
     "output_type": "execute_result"
    }
   ],
   "source": [
    "import pandas as pd\n",
    "import glob\n",
    "import os\n",
    "\n",
    "\n",
    "## This input CSV file requires header and type data from another source.\n",
    "type_frame = pd.read_csv(\"/astro/users/mmd11/git/hipscripts/epyc/allwise/tic_types.csv\")\n",
    "type_names = type_frame[\"name\"].values.tolist()\n",
    "type_map = dict(zip(type_frame[\"name\"], type_frame[\"type\"]))\n",
    "\n",
    "catalog_dir = \"/data3/epyc/data3/hipscat/catalogs/tic_1/\"\n",
    "all_files = glob.glob(os.path.join(catalog_dir, \"**/**/**.parquet\"))\n",
    "\n",
    "len(all_files)"
   ]
  },
  {
   "cell_type": "code",
   "execution_count": 10,
   "id": "f973cd9e",
   "metadata": {},
   "outputs": [
    {
     "name": "stderr",
     "output_type": "stream",
     "text": [
      "100%|████████████████████████████████████████████████████████████████████████████████| 10/10 [00:00<00:00, 25890.77it/s]\n"
     ]
    }
   ],
   "source": [
    "sum = 0\n",
    "for i in tqdm(range(0, 10), bar_format='{l_bar}{bar:80}{r_bar}'):\n",
    "    sum += i\n"
   ]
  },
  {
   "cell_type": "code",
   "execution_count": 11,
   "id": "fbcb8723",
   "metadata": {},
   "outputs": [
    {
     "name": "stderr",
     "output_type": "stream",
     "text": [
      "100%|██████████████████████████████████████████████████████████████████████| 3765/3765 [7:16:44<00:00,  6.96s/it]  \n"
     ]
    }
   ],
   "source": [
    "from tqdm import tqdm\n",
    "\n",
    "for file_name in tqdm(all_files[3:], bar_format='{l_bar}{bar:70}{r_bar}'):\n",
    "    data = pd.read_parquet(file_name)\n",
    "    data = data.astype(type_map)\n",
    "    data.to_parquet(file_name)"
   ]
  }
 ],
 "metadata": {
  "kernelspec": {
   "display_name": "Melissa LSDB",
   "language": "python",
   "name": "lsd2env"
  },
  "language_info": {
   "codemirror_mode": {
    "name": "ipython",
    "version": 3
   },
   "file_extension": ".py",
   "mimetype": "text/x-python",
   "name": "python",
   "nbconvert_exporter": "python",
   "pygments_lexer": "ipython3",
   "version": "3.9.15"
  }
 },
 "nbformat": 4,
 "nbformat_minor": 5
}
