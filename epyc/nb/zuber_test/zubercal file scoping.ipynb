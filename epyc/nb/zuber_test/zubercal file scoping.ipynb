{
 "cells": [
  {
   "cell_type": "code",
   "execution_count": 32,
   "id": "8008152a",
   "metadata": {},
   "outputs": [
    {
     "data": {
      "text/plain": [
       "521429"
      ]
     },
     "execution_count": 32,
     "metadata": {},
     "output_type": "execute_result"
    }
   ],
   "source": [
    "import glob\n",
    "# files = glob.glob(\"/epyc/data/ztf_matchfiles/zubercal_dr16/atua.caltech.edu/**/**.parquet\")\n",
    "files = glob.glob(\"/epyc/data/ztf_matchfiles/zubercal_dr16/atua.caltech.edu/F**/ztf_**.parquet\")\n",
    "len(files)\n",
    "\n"
   ]
  },
  {
   "cell_type": "code",
   "execution_count": 33,
   "id": "6ffaa56e",
   "metadata": {},
   "outputs": [
    {
     "data": {
      "text/html": [
       "<div>\n",
       "<style scoped>\n",
       "    .dataframe tbody tr th:only-of-type {\n",
       "        vertical-align: middle;\n",
       "    }\n",
       "\n",
       "    .dataframe tbody tr th {\n",
       "        vertical-align: top;\n",
       "    }\n",
       "\n",
       "    .dataframe thead th {\n",
       "        text-align: right;\n",
       "    }\n",
       "</style>\n",
       "<table border=\"1\" class=\"dataframe\">\n",
       "  <thead>\n",
       "    <tr style=\"text-align: right;\">\n",
       "      <th></th>\n",
       "      <th>full</th>\n",
       "      <th>fblock</th>\n",
       "      <th>short</th>\n",
       "      <th>size_on_disk</th>\n",
       "    </tr>\n",
       "  </thead>\n",
       "  <tbody>\n",
       "    <tr>\n",
       "      <th>0</th>\n",
       "      <td>/epyc/data/ztf_matchfiles/zubercal_dr16/atua.c...</td>\n",
       "      <td>F0000</td>\n",
       "      <td>ztf_0000_0710_g</td>\n",
       "      <td>107664</td>\n",
       "    </tr>\n",
       "    <tr>\n",
       "      <th>1</th>\n",
       "      <td>/epyc/data/ztf_matchfiles/zubercal_dr16/atua.c...</td>\n",
       "      <td>F0000</td>\n",
       "      <td>ztf_0000_0710_r</td>\n",
       "      <td>182561</td>\n",
       "    </tr>\n",
       "    <tr>\n",
       "      <th>2</th>\n",
       "      <td>/epyc/data/ztf_matchfiles/zubercal_dr16/atua.c...</td>\n",
       "      <td>F0000</td>\n",
       "      <td>ztf_0000_0715_g</td>\n",
       "      <td>666624</td>\n",
       "    </tr>\n",
       "    <tr>\n",
       "      <th>3</th>\n",
       "      <td>/epyc/data/ztf_matchfiles/zubercal_dr16/atua.c...</td>\n",
       "      <td>F0000</td>\n",
       "      <td>ztf_0000_0715_r</td>\n",
       "      <td>1196301</td>\n",
       "    </tr>\n",
       "    <tr>\n",
       "      <th>4</th>\n",
       "      <td>/epyc/data/ztf_matchfiles/zubercal_dr16/atua.c...</td>\n",
       "      <td>F0000</td>\n",
       "      <td>ztf_0000_0720_g</td>\n",
       "      <td>543376</td>\n",
       "    </tr>\n",
       "    <tr>\n",
       "      <th>...</th>\n",
       "      <td>...</td>\n",
       "      <td>...</td>\n",
       "      <td>...</td>\n",
       "      <td>...</td>\n",
       "    </tr>\n",
       "    <tr>\n",
       "      <th>521424</th>\n",
       "      <td>/epyc/data/ztf_matchfiles/zubercal_dr16/atua.c...</td>\n",
       "      <td>F3595</td>\n",
       "      <td>ztf_3595_2110_i</td>\n",
       "      <td>15888</td>\n",
       "    </tr>\n",
       "    <tr>\n",
       "      <th>521425</th>\n",
       "      <td>/epyc/data/ztf_matchfiles/zubercal_dr16/atua.c...</td>\n",
       "      <td>F3595</td>\n",
       "      <td>ztf_3595_2110_r</td>\n",
       "      <td>1410199</td>\n",
       "    </tr>\n",
       "    <tr>\n",
       "      <th>521426</th>\n",
       "      <td>/epyc/data/ztf_matchfiles/zubercal_dr16/atua.c...</td>\n",
       "      <td>F3595</td>\n",
       "      <td>ztf_3595_2120_g</td>\n",
       "      <td>86869</td>\n",
       "    </tr>\n",
       "    <tr>\n",
       "      <th>521427</th>\n",
       "      <td>/epyc/data/ztf_matchfiles/zubercal_dr16/atua.c...</td>\n",
       "      <td>F3595</td>\n",
       "      <td>ztf_3595_2120_i</td>\n",
       "      <td>8896</td>\n",
       "    </tr>\n",
       "    <tr>\n",
       "      <th>521428</th>\n",
       "      <td>/epyc/data/ztf_matchfiles/zubercal_dr16/atua.c...</td>\n",
       "      <td>F3595</td>\n",
       "      <td>ztf_3595_2120_r</td>\n",
       "      <td>125897</td>\n",
       "    </tr>\n",
       "  </tbody>\n",
       "</table>\n",
       "<p>521429 rows × 4 columns</p>\n",
       "</div>"
      ],
      "text/plain": [
       "                                                     full fblock   \n",
       "0       /epyc/data/ztf_matchfiles/zubercal_dr16/atua.c...  F0000  \\\n",
       "1       /epyc/data/ztf_matchfiles/zubercal_dr16/atua.c...  F0000   \n",
       "2       /epyc/data/ztf_matchfiles/zubercal_dr16/atua.c...  F0000   \n",
       "3       /epyc/data/ztf_matchfiles/zubercal_dr16/atua.c...  F0000   \n",
       "4       /epyc/data/ztf_matchfiles/zubercal_dr16/atua.c...  F0000   \n",
       "...                                                   ...    ...   \n",
       "521424  /epyc/data/ztf_matchfiles/zubercal_dr16/atua.c...  F3595   \n",
       "521425  /epyc/data/ztf_matchfiles/zubercal_dr16/atua.c...  F3595   \n",
       "521426  /epyc/data/ztf_matchfiles/zubercal_dr16/atua.c...  F3595   \n",
       "521427  /epyc/data/ztf_matchfiles/zubercal_dr16/atua.c...  F3595   \n",
       "521428  /epyc/data/ztf_matchfiles/zubercal_dr16/atua.c...  F3595   \n",
       "\n",
       "                  short  size_on_disk  \n",
       "0       ztf_0000_0710_g        107664  \n",
       "1       ztf_0000_0710_r        182561  \n",
       "2       ztf_0000_0715_g        666624  \n",
       "3       ztf_0000_0715_r       1196301  \n",
       "4       ztf_0000_0720_g        543376  \n",
       "...                 ...           ...  \n",
       "521424  ztf_3595_2110_i         15888  \n",
       "521425  ztf_3595_2110_r       1410199  \n",
       "521426  ztf_3595_2120_g         86869  \n",
       "521427  ztf_3595_2120_i          8896  \n",
       "521428  ztf_3595_2120_r        125897  \n",
       "\n",
       "[521429 rows x 4 columns]"
      ]
     },
     "execution_count": 33,
     "metadata": {},
     "output_type": "execute_result"
    }
   ],
   "source": [
    "\n",
    "\n",
    "import re\n",
    "import pandas as pd\n",
    "import os\n",
    "\n",
    "regex = re.compile(r'.*/(F[\\d]+)/(ztf_[\\d]+_[\\d]+_[gir]).parquet').match\n",
    "\n",
    "\n",
    "# match = regex(files[0])\n",
    "# match.group(1)\n",
    "# match.group(2)\n",
    "\n",
    "# fblocks, file_names = [match.group(1), match.group(2) for paths in files]\n",
    "\n",
    "matches = [regex(path) for path in files]\n",
    "fblocks, file_names = zip(*[(match.group(1), match.group(2)) for match in matches])\n",
    "\n",
    "file_frame = pd.DataFrame({\"full\":files, \"fblock\": fblocks, \"short\":file_names})\n",
    "\n",
    "for index, file in file_frame.iterrows():\n",
    "    file_frame.loc[index, \"size_on_disk\"] = os.path.getsize(file[\"full\"])\n",
    "file_frame[\"size_on_disk\"] = file_frame[\"size_on_disk\"].astype(int)\n",
    "\n",
    "file_frame"
   ]
  },
  {
   "cell_type": "code",
   "execution_count": 34,
   "id": "71e452f0",
   "metadata": {},
   "outputs": [],
   "source": [
    "file_frame.to_csv(\"/astro/users/mmd11/git/hipscripts/epyc/td_mvp/zuber_sizes.csv\")"
   ]
  },
  {
   "cell_type": "code",
   "execution_count": 35,
   "id": "f20f0e5d",
   "metadata": {},
   "outputs": [],
   "source": [
    "sums = file_frame.groupby(\"fblock\", group_keys=False)[\"size_on_disk\"].sum()"
   ]
  },
  {
   "cell_type": "code",
   "execution_count": 47,
   "id": "b171062c",
   "metadata": {},
   "outputs": [
    {
     "data": {
      "text/plain": [
       "6.821373974904418"
      ]
     },
     "execution_count": 47,
     "metadata": {},
     "output_type": "execute_result"
    }
   ],
   "source": [
    "gb_sums = sums / (1024 * 1024 * 1024)\n",
    "gb_sums.sort_values()\n",
    "\n",
    "gb_sums[\"F0065\"]"
   ]
  },
  {
   "cell_type": "code",
   "execution_count": 40,
   "id": "ed6e7e75",
   "metadata": {},
   "outputs": [
    {
     "data": {
      "text/plain": [
       "fblock\n",
       "F3000    657\n",
       "F3005    661\n",
       "F2995    666\n",
       "F2990    669\n",
       "F2960    673\n",
       "        ... \n",
       "F0140    757\n",
       "F1215    758\n",
       "F1210    758\n",
       "F1220    759\n",
       "F1145    759\n",
       "Name: full, Length: 720, dtype: int64"
      ]
     },
     "execution_count": 40,
     "metadata": {},
     "output_type": "execute_result"
    }
   ],
   "source": [
    "counts = file_frame.groupby(\"fblock\", group_keys=False)[\"full\"].count()\n",
    "counts.sort_values()"
   ]
  },
  {
   "cell_type": "code",
   "execution_count": 46,
   "id": "f23d4805",
   "metadata": {},
   "outputs": [
    {
     "data": {
      "text/plain": [
       "7.2041015625"
      ]
     },
     "execution_count": 46,
     "metadata": {},
     "output_type": "execute_result"
    }
   ],
   "source": [
    "file_frame[\"size_on_disk\"].min()/ (1024)"
   ]
  },
  {
   "cell_type": "code",
   "execution_count": null,
   "id": "4bd73e22",
   "metadata": {},
   "outputs": [],
   "source": []
  }
 ],
 "metadata": {
  "kernelspec": {
   "display_name": "Melissa LSDB",
   "language": "python",
   "name": "lsd2env"
  },
  "language_info": {
   "codemirror_mode": {
    "name": "ipython",
    "version": 3
   },
   "file_extension": ".py",
   "mimetype": "text/x-python",
   "name": "python",
   "nbconvert_exporter": "python",
   "pygments_lexer": "ipython3",
   "version": "3.9.15"
  }
 },
 "nbformat": 4,
 "nbformat_minor": 5
}
