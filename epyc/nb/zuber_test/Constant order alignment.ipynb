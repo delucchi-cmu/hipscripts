{
 "cells": [
  {
   "cell_type": "code",
   "execution_count": 6,
   "id": "e3e7e5cd",
   "metadata": {},
   "outputs": [],
   "source": [
    "from hipscat.pixel_tree.pixel_alignment import align_trees\n",
    "from hipscat.catalog import Catalog\n",
    "from tabulate import tabulate\n",
    "\n",
    "def show_align_percent(catalog1_path, catalog2_path):\n",
    "    ## Get catalogs and calculate aligment\n",
    "    catalog1 = Catalog.read_from_hipscat(catalog1_path)\n",
    "    catalog2 = Catalog.read_from_hipscat(catalog2_path)\n",
    "\n",
    "    alignment = align_trees(catalog2.pixel_tree, catalog1.pixel_tree)\n",
    "    aligned_catalog = Catalog(catalog1.catalog_info, alignment.pixel_tree)\n",
    "\n",
    "    ## Join to original partition data and counts\n",
    "    just_joined = alignment.pixel_mapping[[\"primary_Norder\", \"primary_Npix\"]]\n",
    "    just_joined = just_joined.drop_duplicates().rename(columns={\"primary_Norder\":\"Norder\", \"primary_Npix\":\"Npix\"}).set_index([\"Norder\", \"Npix\"])\n",
    "\n",
    "    total_rows = catalog2.catalog_info.total_rows\n",
    "    original_tiles = catalog2.get_pixels()\n",
    "    total_tiles = len(original_tiles)\n",
    "\n",
    "    joined_data = original_tiles.set_index([\"Norder\", \"Npix\"]).merge(just_joined, how=\"inner\", left_index=True, right_index=True)\n",
    "\n",
    "\n",
    "    table = [[\"Partitions\",total_tiles,len(joined_data), len(joined_data)/total_tiles*100],\n",
    "             [\"Rows\",total_rows,f\"{joined_data['num_rows'].sum()}\", joined_data['num_rows'].sum()/total_rows*100]]\n",
    "    print(tabulate(table, headers=[\"measure\", \"full catalog\", \"aligned\", \"align percent\"],\n",
    "                  colalign=(\"left\", \"right\", \"right\")))"
   ]
  },
  {
   "cell_type": "code",
   "execution_count": 9,
   "id": "40c4a936",
   "metadata": {},
   "outputs": [
    {
     "name": "stdout",
     "output_type": "stream",
     "text": [
      "measure       full catalog    aligned    align percent\n",
      "----------  --------------  ---------  ---------------\n",
      "Partitions            1032        662          64.1473\n",
      "Rows             436701643  307457477          70.4045\n"
     ]
    }
   ],
   "source": [
    "## not a huge improvement - sdss doesn't look a lot at the galactic plane, though.\n",
    "\n",
    "show_align_percent(\"/data3/epyc/data3/hipscat/catalogs/dr16q_constant/\",\n",
    "                   \"/data3/epyc/data3/hipscat/catalogs/sdss_dr16q\")"
   ]
  },
  {
   "cell_type": "code",
   "execution_count": 8,
   "id": "06248030",
   "metadata": {},
   "outputs": [
    {
     "name": "stdout",
     "output_type": "stream",
     "text": [
      "measure       full catalog     aligned    align percent\n",
      "----------  --------------  ----------  ---------------\n",
      "Partitions           27161        9291          34.2071\n",
      "Rows           10560724292  3751804825          35.526\n"
     ]
    }
   ],
   "source": [
    "## Still ~1/3 reduction!\n",
    "\n",
    "show_align_percent(\"/data3/epyc/data3/hipscat/catalogs/dr16q_constant/\",\n",
    "                   \"/data3/epyc/data3/hipscat/catalogs/ps1/ps1_otmo\")"
   ]
  },
  {
   "cell_type": "code",
   "execution_count": 7,
   "id": "cf643fff",
   "metadata": {},
   "outputs": [
    {
     "name": "stdout",
     "output_type": "stream",
     "text": [
      "measure       full catalog    aligned    align percent\n",
      "----------  --------------  ---------  ---------------\n",
      "Partitions            2352        554          23.5544\n",
      "Rows            1234463018  290908232          23.5656\n"
     ]
    }
   ],
   "source": [
    "## about a quarter reduction!\n",
    "\n",
    "show_align_percent(\"/data3/epyc/data3/hipscat/catalogs/dr16q_constant/\",\n",
    "                   \"/data3/epyc/data3/hipscat/catalogs/ztf_axs/ztf_dr14\")"
   ]
  }
 ],
 "metadata": {
  "kernelspec": {
   "display_name": "Melissa LSDB",
   "language": "python",
   "name": "lsd2env"
  },
  "language_info": {
   "codemirror_mode": {
    "name": "ipython",
    "version": 3
   },
   "file_extension": ".py",
   "mimetype": "text/x-python",
   "name": "python",
   "nbconvert_exporter": "python",
   "pygments_lexer": "ipython3",
   "version": "3.9.15"
  }
 },
 "nbformat": 4,
 "nbformat_minor": 5
}
