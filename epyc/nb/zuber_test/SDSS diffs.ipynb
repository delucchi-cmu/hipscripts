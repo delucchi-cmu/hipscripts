{
 "cells": [
  {
   "cell_type": "code",
   "execution_count": 1,
   "id": "9b12beab",
   "metadata": {},
   "outputs": [],
   "source": [
    "import pandas as pd\n",
    "\n",
    "ray_df = pd.read_csv(\"/data3/epyc/data3/hipscat/test_catalogs/sdss_dr16q_ray/partition_info.csv\")"
   ]
  },
  {
   "cell_type": "code",
   "execution_count": 2,
   "id": "588f4084",
   "metadata": {},
   "outputs": [
    {
     "data": {
      "text/plain": [
       "436701643"
      ]
     },
     "execution_count": 2,
     "metadata": {},
     "output_type": "execute_result"
    }
   ],
   "source": [
    "ray_df[\"num_rows\"].sum()"
   ]
  },
  {
   "cell_type": "code",
   "execution_count": 3,
   "id": "31f6b9a1",
   "metadata": {},
   "outputs": [],
   "source": [
    "orig_df = pd.read_csv(\"/data3/epyc/data3/hipscat/catalogs/sdss_dr16q/partition_info.csv\")"
   ]
  },
  {
   "cell_type": "code",
   "execution_count": 4,
   "id": "4b859195",
   "metadata": {},
   "outputs": [
    {
     "data": {
      "text/plain": [
       "436701643"
      ]
     },
     "execution_count": 4,
     "metadata": {},
     "output_type": "execute_result"
    }
   ],
   "source": [
    "orig_df[\"num_rows\"].sum()"
   ]
  },
  {
   "cell_type": "code",
   "execution_count": 6,
   "id": "dafa77d5",
   "metadata": {},
   "outputs": [
    {
     "data": {
      "text/plain": [
       "1032"
      ]
     },
     "execution_count": 6,
     "metadata": {},
     "output_type": "execute_result"
    }
   ],
   "source": [
    "len(orig_df)"
   ]
  },
  {
   "cell_type": "code",
   "execution_count": null,
   "id": "ebb95543",
   "metadata": {},
   "outputs": [],
   "source": []
  }
 ],
 "metadata": {
  "kernelspec": {
   "display_name": "Melissa LSDB",
   "language": "python",
   "name": "lsd2env"
  },
  "language_info": {
   "codemirror_mode": {
    "name": "ipython",
    "version": 3
   },
   "file_extension": ".py",
   "mimetype": "text/x-python",
   "name": "python",
   "nbconvert_exporter": "python",
   "pygments_lexer": "ipython3",
   "version": "3.9.15"
  }
 },
 "nbformat": 4,
 "nbformat_minor": 5
}
