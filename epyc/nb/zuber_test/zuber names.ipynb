{
 "cells": [
  {
   "cell_type": "code",
   "execution_count": 11,
   "id": "c6be7ea2",
   "metadata": {},
   "outputs": [],
   "source": [
    "import os\n",
    "\n",
    "file_name = \"/epyc/data/ztf_matchfiles/zubercal_dr16/atua.caltech.edu/F3215/ztf_3215_1780_g.parquet\"\n",
    "\n",
    "# file_name = os.path.basename(file_name)\n",
    "# file_name"
   ]
  },
  {
   "cell_type": "code",
   "execution_count": 13,
   "id": "5bb5de24",
   "metadata": {},
   "outputs": [
    {
     "data": {
      "text/plain": [
       "'g'"
      ]
     },
     "execution_count": 13,
     "metadata": {},
     "output_type": "execute_result"
    }
   ],
   "source": [
    "import re\n",
    "\n",
    "match = re.match(r'.*ztf_[\\d]+_[\\d]+_([gir]).parquet', file_name)\n",
    "match.group(1)"
   ]
  },
  {
   "cell_type": "code",
   "execution_count": 14,
   "id": "47465628",
   "metadata": {},
   "outputs": [
    {
     "data": {
      "text/plain": [
       "521429"
      ]
     },
     "execution_count": 14,
     "metadata": {},
     "output_type": "execute_result"
    }
   ],
   "source": [
    "import glob\n",
    "files = glob.glob(\"/epyc/data/ztf_matchfiles/zubercal_dr16/atua.caltech.edu/**/**.parquet\")\n",
    "len(files)"
   ]
  },
  {
   "cell_type": "code",
   "execution_count": 18,
   "id": "8293fdeb",
   "metadata": {},
   "outputs": [
    {
     "data": {
      "text/plain": [
       "721"
      ]
     },
     "execution_count": 18,
     "metadata": {},
     "output_type": "execute_result"
    }
   ],
   "source": [
    "import glob\n",
    "files = glob.glob(\"/epyc/data/ztf_matchfiles/zubercal_dr16/atua.caltech.edu/F**\")\n",
    "len(files)\n",
    "# files"
   ]
  },
  {
   "cell_type": "code",
   "execution_count": null,
   "id": "1e8eb78b",
   "metadata": {},
   "outputs": [],
   "source": []
  }
 ],
 "metadata": {
  "kernelspec": {
   "display_name": "Melissa LSDB",
   "language": "python",
   "name": "lsd2env"
  },
  "language_info": {
   "codemirror_mode": {
    "name": "ipython",
    "version": 3
   },
   "file_extension": ".py",
   "mimetype": "text/x-python",
   "name": "python",
   "nbconvert_exporter": "python",
   "pygments_lexer": "ipython3",
   "version": "3.9.15"
  }
 },
 "nbformat": 4,
 "nbformat_minor": 5
}
