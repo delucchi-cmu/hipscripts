{
 "cells": [
  {
   "cell_type": "code",
   "execution_count": 4,
   "id": "262671dd",
   "metadata": {},
   "outputs": [],
   "source": [
    "import pandas as pd\n",
    "import healpy as hp\n",
    "import numpy as np\n",
    "import hipscat as hc\n",
    "import tempfile\n",
    "\n"
   ]
  },
  {
   "cell_type": "code",
   "execution_count": 25,
   "id": "bd1b0aa0",
   "metadata": {},
   "outputs": [
    {
     "name": "stdout",
     "output_type": "stream",
     "text": [
      "CPU times: user 9.17 s, sys: 7.86 s, total: 17 s\n",
      "Wall time: 16.1 s\n"
     ]
    }
   ],
   "source": [
    "%%time\n",
    "\n",
    "file_name = \"/data3/epyc/data3/hipscat/catalogs/ztf_dr14_explode/Norder1/Npix33/source_hipscat_id.parquet\"\n",
    "\n",
    "keep_columns = [\"_hipscat_id\", \"ps1_objid\"]\n",
    "\n",
    "data_frame = pd.read_parquet(file_name, engine=\"pyarrow\", columns=keep_columns)\n",
    "\n",
    "data_frame['_hipscat_id'] = data_frame.index\n",
    "data_frame = data_frame.set_index(\"ps1_objid\").sort_index()\n",
    "\n",
    "data_frame\n",
    "tmp = \"/data3/epyc/data3/hipscat/tmp/tmp_ztf_index/\"\n",
    "\n",
    "data_frame.to_parquet((tmp+\"source_index_part.parquet\"))"
   ]
  },
  {
   "cell_type": "code",
   "execution_count": 31,
   "id": "45e9273e",
   "metadata": {},
   "outputs": [],
   "source": [
    "primary_name = \"/data3/epyc/data3/hipscat/catalogs/ztf_mar16/object_index/parts=0/part_000_of_001.parquet\"\n",
    "join_name = \"/data3/epyc/data3/hipscat/catalogs/ztf_mar16/source_index/parts=0/part_000_of_001.parquet\"\n",
    "\n",
    "\n",
    "primary_frame = pd.read_parquet(primary_name, engine=\"pyarrow\")\n",
    "primary_frame['primary_id'] = primary_frame.index\n",
    "primary_frame['primary_hipscat_id'] = primary_frame['_hipscat_id']\n",
    "\n",
    "join_frame = pd.read_parquet(join_name, engine=\"pyarrow\")\n",
    "join_frame['join_hipscat_id'] = join_frame['_hipscat_id']\n",
    "join_frame['join_id'] = join_frame.index\n",
    "\n",
    "\n",
    "\n",
    "# full_frame = primary_frame.merge(join_frame, on=\"ps1_objid\")\n"
   ]
  },
  {
   "cell_type": "code",
   "execution_count": 33,
   "id": "dc8c61ac",
   "metadata": {},
   "outputs": [
    {
     "name": "stdout",
     "output_type": "stream",
     "text": [
      "CPU times: user 10.7 s, sys: 17.6 s, total: 28.4 s\n",
      "Wall time: 28.6 s\n"
     ]
    }
   ],
   "source": [
    "%%time\n",
    "\n",
    "full_frame = primary_frame.merge(join_frame, left_on=\"primary_id\", right_on=\"join_id\")\n",
    "full_frame = full_frame[['primary_id', 'primary_hipscat_id', 'join_id', 'join_hipscat_id']]\n",
    "full_frame\n",
    "\n",
    "tmp = \"/data3/epyc/data3/hipscat/tmp/tmp_ztf_index/\"\n",
    "\n",
    "full_frame.to_parquet((tmp+\"association.parquet\"), index=False)"
   ]
  },
  {
   "cell_type": "code",
   "execution_count": 37,
   "id": "b9f6693b",
   "metadata": {},
   "outputs": [],
   "source": [
    "primary_name = \"/data3/epyc/data3/hipscat/catalogs/ztf_mar16/object/partition_info.csv\"\n",
    "join_name = \"/data3/epyc/data3/hipscat/catalogs/ztf_mar16/source/partition_info.csv\"\n",
    "\n",
    "primary_frame = pd.read_csv(primary_name).rename(columns={\"order\":\"primary_Norder\", \"pixel\":\"primary_Npix\"})\n",
    "\n",
    "join_frame = pd.read_csv(join_name).rename(columns={\"order\":\"join_Norder\", \"pixel\":\"join_Npix\"})\n",
    "\n",
    "full_frame = primary_frame.merge(join_frame, how=\"cross\")\n",
    "full_frame = full_frame[['primary_Norder', 'primary_Npix', 'join_Norder', 'join_Npix']]\n",
    "full_frame.to_csv(\"/data3/epyc/data3/hipscat/catalogs/ztf_mar16/object_to_source/partition_join_info.csv\", index=False)"
   ]
  }
 ],
 "metadata": {
  "kernelspec": {
   "display_name": "Melissa LSDB",
   "language": "python",
   "name": "lsd2env"
  },
  "language_info": {
   "codemirror_mode": {
    "name": "ipython",
    "version": 3
   },
   "file_extension": ".py",
   "mimetype": "text/x-python",
   "name": "python",
   "nbconvert_exporter": "python",
   "pygments_lexer": "ipython3",
   "version": "3.9.15"
  }
 },
 "nbformat": 4,
 "nbformat_minor": 5
}
