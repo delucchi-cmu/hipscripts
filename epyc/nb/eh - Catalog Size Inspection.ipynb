{
 "cells": [
  {
   "cell_type": "code",
   "execution_count": 3,
   "id": "ce0ccc61",
   "metadata": {},
   "outputs": [
    {
     "name": "stdout",
     "output_type": "stream",
     "text": [
      "   Norder  Dir  Npix  row_count  size_on_disk\n",
      "0       1    0    33     982531     729684395\n",
      "1       1    0    34     879169     597447152\n"
     ]
    }
   ],
   "source": [
    "import os\n",
    "import sys\n",
    "import time\n",
    "\n",
    "import numpy as np\n",
    "import pandas as pd\n",
    "import pyarrow.parquet as pq\n",
    "\n",
    "catalog_dir = '/data3/epyc/data3/hipscat/catalogs/ztf_dr14/'\n",
    "\n",
    "partition_info = os.path.join(hipscat_dir, \"partition_info.csv\")\n",
    "data_frame = pd.read_csv(partition_info)\n",
    "\n",
    "output_frame = data_frame.copy()\n",
    "# output_frame[\"num_rows\"] = np.nan\n",
    "# output_frame[\"num_ids\"] = np.nan\n",
    "output_frame[\"size_on_disk\"] = 0\n",
    "\n",
    "for index, partition in data_frame.iterrows():\n",
    "    file_name = os.path.join(\n",
    "        hipscat_dir,\n",
    "        f\"Norder={int(partition['Norder'])}\",\n",
    "        f\"Dir={int(partition['Dir'])}\",\n",
    "        f\"Npix={int(partition['Npix'])}.parquet\",\n",
    "    )\n",
    "    output_frame.loc[index, \"size_on_disk\"] = os.path.getsize(file_name)\n",
    "#     parquet_file = pq.ParquetFile(file_name)\n",
    "#     output_frame.loc[index, \"num_rows\"] = parquet_file.metadata.num_rows    \n",
    "\n",
    "#     partition_frame = pd.read_parquet(file_name, engine=\"pyarrow\")\n",
    "\n",
    "#     assert id_column in partition_frame.columns\n",
    "#     ids = partition_frame[id_column].tolist()\n",
    "#     set_ids = [*set(ids)]\n",
    "#     output_frame.loc[index, \"num_ids\"] = len(set_ids)\n",
    "    \n",
    "#     print(f'{parquet_file.metadata.num_rows} ({len(set_ids)} unique)')\n",
    "    \n",
    "print(output_frame.head(2))\n",
    "\n",
    "output_frame = output_frame.astype(int)\n",
    "partition_info = \"/astro/users/mmd11/catalogs/ztf_dr14_big_more_partition_info.csv\"\n",
    "output_frame.to_csv(partition_info, index=False)"
   ]
  },
  {
   "cell_type": "code",
   "execution_count": 8,
   "id": "af5756a2",
   "metadata": {},
   "outputs": [
    {
     "name": "stdout",
     "output_type": "stream",
     "text": [
      "healpix orders: [1 2 3 4 5 6]\n",
      "num partitions: 2352\n",
      "------\n",
      "min objects: 4442\n",
      "max objects: 998280\n",
      "object ratio: 224.73660513282306\n",
      "------\n",
      "min size_on_disk: 2664760\n",
      "max size_on_disk: 9837422285\n",
      "size_on_disk ratio: 3691.6729030006454\n",
      "total size_on_disk: 5516364532267\n"
     ]
    }
   ],
   "source": [
    "print(f'healpix orders: {output_frame[\"Norder\"].unique()}')\n",
    "print(f'num partitions: {len(output_frame[\"Npix\"])}')\n",
    "print('------')\n",
    "print(f'min objects: {output_frame[\"row_count\"].min()}')\n",
    "print(f'max objects: {output_frame[\"row_count\"].max()}')\n",
    "print(f'object ratio: {output_frame[\"row_count\"].max()/output_frame[\"row_count\"].min()}')\n",
    "print('------')\n",
    "print(f'min size_on_disk: {output_frame[\"size_on_disk\"].min()}')\n",
    "print(f'max size_on_disk: {output_frame[\"size_on_disk\"].max()}')\n",
    "print(f'size_on_disk ratio: {output_frame[\"size_on_disk\"].max()/output_frame[\"size_on_disk\"].min()}')\n",
    "print(f'total size_on_disk: {output_frame[\"size_on_disk\"].sum()}')"
   ]
  },
  {
   "cell_type": "code",
   "execution_count": 11,
   "id": "0a439701",
   "metadata": {},
   "outputs": [
    {
     "name": "stdout",
     "output_type": "stream",
     "text": [
      "1816\n"
     ]
    }
   ],
   "source": [
    "bytes_in_gb = 1024 * 1024 * 1024\n",
    "\n",
    "print(len(output_frame[output_frame[\"size_on_disk\"] > bytes_in_gb]))\n"
   ]
  },
  {
   "cell_type": "code",
   "execution_count": 15,
   "id": "d4985ad8",
   "metadata": {},
   "outputs": [
    {
     "name": "stdout",
     "output_type": "stream",
     "text": [
      "      Norder    Dir   Npix  row_count  size_on_disk       gbs\n",
      "2276       5  10000  10716     114398     298357735  0.277867\n",
      "2277       5  10000  10717     765638    3662068192  3.410567\n",
      "2278       5  10000  10718     639172    1518119959  1.413859\n",
      "2279       5  10000  10719     694780    2082594382  1.939567\n",
      "2280       5  10000  10740     462434    1039758578  0.968351\n",
      "2281       5  10000  10741     507350    1103592151  1.027800\n",
      "2282       5  10000  10742     263650     509670646  0.474668\n",
      "2283       5  10000  10743     358825     721356260  0.671815\n",
      "2284       5  10000  12012      57973     150012197  0.139710\n",
      "2285       5  10000  12013     355825     966531786  0.900153\n",
      "2286       5  10000  12014     456649    1248249859  1.162523\n",
      "2287       5  10000  12015     426510    1190645757  1.108875\n",
      "2288       5  10000  12024     318958     880048436  0.819609\n",
      "2289       5  10000  12025     298252     882751041  0.822126\n",
      "2290       5  10000  12026     391908    1091037533  1.016108\n",
      "2291       5  10000  12027     366451    1057283801  0.984672\n",
      "2292       5  10000  12028     233744     403653201  0.375931\n",
      "2293       5  10000  12029     209680     359023663  0.334367\n",
      "2294       5  10000  12030     320262     917397205  0.854393\n",
      "2295       5  10000  12031     285143     781451578  0.727783\n",
      "9.161813450045884\n"
     ]
    },
    {
     "name": "stderr",
     "output_type": "stream",
     "text": [
      "/tmp/ipykernel_63056/1832737344.py:2: SettingWithCopyWarning: \n",
      "A value is trying to be set on a copy of a slice from a DataFrame.\n",
      "Try using .loc[row_indexer,col_indexer] = value instead\n",
      "\n",
      "See the caveats in the documentation: https://pandas.pydata.org/pandas-docs/stable/user_guide/indexing.html#returning-a-view-versus-a-copy\n",
      "  order_5[\"gbs\"] = order_5[\"size_on_disk\"]/bytes_in_gb\n"
     ]
    }
   ],
   "source": [
    "order_5 = output_frame[(output_frame[\"Norder\"] == 5) & (output_frame[\"Dir\"]==10000)]\n",
    "order_5[\"gbs\"] = order_5[\"size_on_disk\"]/bytes_in_gb\n",
    "print(order_5)\n",
    "\n",
    "print(9837422285/bytes_in_gb)"
   ]
  },
  {
   "cell_type": "code",
   "execution_count": 21,
   "id": "f26f29e2",
   "metadata": {},
   "outputs": [
    {
     "data": {
      "text/plain": [
       "(array([463., 700., 533., 312., 157.,  80.,  69.,  26.,   9.,   3.]),\n",
       " array([2.48175114e-03, 9.18414921e-01, 1.83434809e+00, 2.75028126e+00,\n",
       "        3.66621443e+00, 4.58214760e+00, 5.49808077e+00, 6.41401394e+00,\n",
       "        7.32994711e+00, 8.24588028e+00, 9.16181345e+00]),\n",
       " <BarContainer object of 10 artists>)"
      ]
     },
     "execution_count": 21,
     "metadata": {},
     "output_type": "execute_result"
    },
    {
     "data": {
      "image/png": "[encoded data removed]",
      "text/plain": [
       "<Figure size 640x480 with 1 Axes>"
      ]
     },
     "metadata": {},
     "output_type": "display_data"
    }
   ],
   "source": [
    "# import matplotlib as plt\n",
    "import matplotlib\n",
    "import matplotlib.pyplot as plt\n",
    "\n",
    "output_frame[\"gbs\"] = output_frame[\"size_on_disk\"]/bytes_in_gb\n",
    "\n",
    "# plt.hist(output_frame[\"gbs\"], [0, 0.1, .8, 1, 5, 10])\n",
    "\n",
    "plt.hist(output_frame[\"gbs\"])"
   ]
  }
 ],
 "metadata": {
  "kernelspec": {
   "display_name": "Eric's Python 3.10",
   "language": "python",
   "name": "ebellm_py310"
  },
  "language_info": {
   "codemirror_mode": {
    "name": "ipython",
    "version": 3
   },
   "file_extension": ".py",
   "mimetype": "text/x-python",
   "name": "python",
   "nbconvert_exporter": "python",
   "pygments_lexer": "ipython3",
   "version": "3.10.6"
  }
 },
 "nbformat": 4,
 "nbformat_minor": 5
}
