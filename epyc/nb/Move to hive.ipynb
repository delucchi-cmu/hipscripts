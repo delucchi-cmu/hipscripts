{
 "cells": [
  {
   "cell_type": "code",
   "execution_count": 6,
   "id": "870db715",
   "metadata": {},
   "outputs": [],
   "source": [
    "import os\n",
    "import pandas as pd\n",
    "\n",
    "in_catalog_path = \"/data3/epyc/data3/hipscat/catalogs/ztf_dr14\"\n",
    "out_catalog_path = \"/data3/epyc/data3/hipscat/catalogs/ztf_dr14_hive\""
   ]
  },
  {
   "cell_type": "code",
   "execution_count": 7,
   "id": "75f702e8",
   "metadata": {},
   "outputs": [
    {
     "name": "stdout",
     "output_type": "stream",
     "text": [
      "CPU times: user 650 ms, sys: 555 ms, total: 1.21 s\n",
      "Wall time: 22.6 s\n"
     ]
    }
   ],
   "source": [
    "%%time\n",
    "\n",
    "## Get the original partition info\n",
    "partition_info_filename = os.path.join(in_catalog_path, \"partition_info.csv\")\n",
    "if not os.path.exists(partition_info_filename):\n",
    "    raise FileNotFoundError(\n",
    "        f\"No partition info found where expected: {partition_info_filename}\"\n",
    "    )\n",
    "\n",
    "original_info = pd.read_csv(partition_info_filename).copy()\n",
    "original_info[\"Dir\"] = [int(x / 10_000) * 10_000 for x in original_info[\"pixel\"]]\n",
    "\n",
    "## Rename all of the partition files using hive scheme\n",
    "for _, partition in original_info.iterrows():\n",
    "    norder = int(partition[\"order\"])\n",
    "    npix = int(partition[\"pixel\"])\n",
    "    ndir = int(npix / 10_000) * 10_000\n",
    "    original_path = os.path.join(\n",
    "        in_catalog_path,\n",
    "        f\"Norder{norder}/Npix{npix}\",\n",
    "        \"catalog.parquet\",\n",
    "    )\n",
    "    new_path = os.path.join(out_catalog_path, f\"Norder={norder}/Dir={ndir}\")\n",
    "    new_file = os.path.join(new_path, f\"Npix={npix}.parquet\")\n",
    "    os.makedirs(new_path, exist_ok=True)\n",
    "    if not os.path.exists(original_path):\n",
    "        raise FileNotFoundError\n",
    "\n",
    "    os.rename(original_path, new_file)\n",
    "\n",
    "## Format and write new partition info file\n",
    "partition_info = (\n",
    "    original_info.astype(int)\n",
    "    .rename(\n",
    "        columns={\"order\": \"Norder\", \"pixel\": \"Npix\", \"num_objects\": \"row_count\"}\n",
    "    )\n",
    "    .reindex([\"Norder\", \"Dir\", \"Npix\", \"row_count\"], axis=1)\n",
    ")\n",
    "\n",
    "os.makedirs(out_catalog_path, exist_ok=True)\n",
    "partition_info_filename = os.path.join(out_catalog_path, \"partition_info.csv\")\n",
    "partition_info.to_csv(partition_info_filename, index=False)\n",
    "\n",
    "## Move catalog info file over, unchanged.\n",
    "original_path = os.path.join(in_catalog_path, \"catalog_info.json\")\n",
    "new_file = os.path.join(out_catalog_path, \"catalog_info.json\")\n",
    "os.rename(original_path, new_file)"
   ]
  }
 ],
 "metadata": {
  "kernelspec": {
   "display_name": "Melissa LSDB",
   "language": "python",
   "name": "lsd2env"
  },
  "language_info": {
   "codemirror_mode": {
    "name": "ipython",
    "version": 3
   },
   "file_extension": ".py",
   "mimetype": "text/x-python",
   "name": "python",
   "nbconvert_exporter": "python",
   "pygments_lexer": "ipython3",
   "version": "3.9.15"
  }
 },
 "nbformat": 4,
 "nbformat_minor": 5
}
