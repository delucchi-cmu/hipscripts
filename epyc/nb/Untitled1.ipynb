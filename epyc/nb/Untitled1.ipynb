{
 "cells": [
  {
   "cell_type": "code",
   "execution_count": 8,
   "id": "b33fe376",
   "metadata": {},
   "outputs": [
    {
     "name": "stdout",
     "output_type": "stream",
     "text": [
      "keys dict_keys([Order: 0, Pixel: 0, Order: 0, Pixel: 1, Order: 0, Pixel: 2, Order: 0, Pixel: 3, Order: 0, Pixel: 4, Order: 0, Pixel: 5, Order: 0, Pixel: 6, Order: 0, Pixel: 7, Order: 0, Pixel: 8, Order: 0, Pixel: 9, Order: 0, Pixel: 10, Order: 0, Pixel: 11])\n",
      "keys dict_keys([(0, 0, 155586), (0, 1, 355715), (0, 2, 11896), (0, 3, 1799), (0, 5, 283591), (0, 7, 723502), (0, 8, 20754), (0, 9, 19525), (0, 10, 749531), (0, 11, 841069), (1, 16, 186403), (1, 17, 311464), (1, 18, 466568), (1, 19, 43184), (1, 24, 179883), (1, 25, 521733), (1, 26, 701103), (1, 27, 149863)])\n"
     ]
    }
   ],
   "source": [
    "from hipscat import pixel_math\n",
    "import numpy as np\n",
    "\n",
    "\n",
    "raw_histogram=np.asarray( [ 36162,  54082,  32641 ,  8195 , 22946,   1233   , 104   ,   0  ,  223    ,  0,\n",
    "      0 ,     0,      0,      0,      0,      0, 136820,  96588,  84061,  10292,\n",
    "    307  ,    0,      0,      0,  26426,     94,   1127,      0,      0,      0,\n",
    "      0   ,   0,  10188,    612,   1096,      0,      0,      0,      0,      0,\n",
    "      0    ,  0,      0,      0,      0,      0,      0,      0,   1776,      0,\n",
    "     23,      0,      0,      0,      0,      0,      0,      0,      0,      0,\n",
    "      0,      0,      0,      0,   5669,  15424,  51086, 114224,  29959,  69987,\n",
    " 151979,  59539, 235773, 176750,  49701,   4344,  37633,   5551,      0,      0,\n",
    "    117,    360,    685,   1162,   2310,  20139,   5436,  54201,   3106,   7664,\n",
    "  16257,  17169,  13879,  62879,  47721,  30506,   8381,  49724,  15689, 106089,\n",
    " 238421,  60625, 191907,  30780,  27150, 194738, 246355, 232860, 115384,  11629,\n",
    "  22666,    184, 149905, 208256, 176468,  42097,  54844,  20166,   8491,   1594,\n",
    "  25831,   7036,  23633,   3062,   1816,     85,    218,      0,      0,      0,\n",
    "      0,      0,      0,     13,     70,     81,     99,    130,   1014,   1902,\n",
    "    915,   1555,   4249,  10726,      0,      5,      0,      9,     54,   1026,\n",
    "    250,   2487,      0,     15,      0,     26,    502,   4672,   1549,   8930,\n",
    "      0,    739,     61,   1316,   3337,  25066,   8378,  70873,    721,   6806,\n",
    "   2899,  22412,  66831, 204001, 185670, 150421,      0,    101,    349,   1574,\n",
    "    801,   2263,  10359,  29880,   3103,  17602,  26898, 128927,  65351, 192652,\n",
    " 224744, 136465])\n",
    "\n",
    "\n",
    "\n",
    "alignment = pixel_math.generate_alignment(\n",
    "    raw_histogram,\n",
    "    highest_order=2,\n",
    "    threshold=1_000_000,\n",
    ")\n",
    "destination_pixel_map = pixel_math.compute_pixel_map(\n",
    "    raw_histogram,\n",
    "    highest_order=2,\n",
    "    threshold=1_000_000,\n",
    ")\n",
    "print('keys', destination_pixel_map.keys())\n",
    "\n",
    "\n",
    "destination_pixel_map = pixel_math.generate_destination_pixel_map(\n",
    "    raw_histogram,\n",
    "    alignment,\n",
    ")\n",
    "print('keys', destination_pixel_map.keys())"
   ]
  }
 ],
 "metadata": {
  "kernelspec": {
   "display_name": "Melissa LSDB",
   "language": "python",
   "name": "lsd2env"
  },
  "language_info": {
   "codemirror_mode": {
    "name": "ipython",
    "version": 3
   },
   "file_extension": ".py",
   "mimetype": "text/x-python",
   "name": "python",
   "nbconvert_exporter": "python",
   "pygments_lexer": "ipython3",
   "version": "3.9.15"
  }
 },
 "nbformat": 4,
 "nbformat_minor": 5
}
