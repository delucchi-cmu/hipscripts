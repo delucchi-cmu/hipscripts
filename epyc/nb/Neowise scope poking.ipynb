{
 "cells": [
  {
   "cell_type": "code",
   "execution_count": 8,
   "id": "2acde020",
   "metadata": {},
   "outputs": [
    {
     "name": "stdout",
     "output_type": "stream",
     "text": [
      "order  Dir    \n",
      "5      0          3383\n",
      "       10000       489\n",
      "6      0          5921\n",
      "       10000      5983\n",
      "       20000      5344\n",
      "       30000      8579\n",
      "       40000      7189\n",
      "7      10000         4\n",
      "       30000         8\n",
      "       40000       276\n",
      "       50000       204\n",
      "       60000       764\n",
      "       130000      411\n",
      "       140000      332\n",
      "       150000      500\n",
      "       160000       28\n",
      "8      160000       15\n",
      "       180000       27\n",
      "       240000       15\n",
      "       250000       26\n",
      "       520000       68\n",
      "       540000       22\n",
      "       600000       40\n",
      "       620000       14\n",
      "9      650000        4\n",
      "       740000       20\n",
      "       980000        4\n",
      "       1020000      24\n",
      "       2110000      32\n",
      "       2160000       8\n",
      "       2400000      32\n",
      "       2490000       8\n",
      "Name: pixel, dtype: int64\n"
     ]
    }
   ],
   "source": [
    "import json\n",
    "\n",
    "import healpy as hp\n",
    "import numpy as np\n",
    "from matplotlib import pyplot as plt\n",
    "import hipscat\n",
    "\n",
    "catalog = hipscat.catalog.Catalog(\"/data3/epyc/data3/hipscat/catalogs/stats_only/neowise_1/\")\n",
    "\n",
    "partition_data = catalog.get_pixels()\n",
    "\n",
    "partition_data[\"Dir\"] = [int(x / 10_000) * 10_000 for x in partition_data[\"pixel\"]]\n",
    "\n",
    "just_dirs = partition_data.groupby([\"order\", \"Dir\"])[\"pixel\"].count()\n",
    "print(just_dirs)"
   ]
  },
  {
   "cell_type": "code",
   "execution_count": null,
   "id": "494666bd",
   "metadata": {},
   "outputs": [],
   "source": [
    "\n",
    "import pyarrow.parquet as pq\n",
    "import pandas as pd\n",
    "\n",
    "file_name = \"/data3/epyc/data3/hipscat/catalogs/ztf_dr14/Norder=1/Dir=0/Npix=33.parquet\""
   ]
  }
 ],
 "metadata": {
  "kernelspec": {
   "display_name": "Melissa LSDB",
   "language": "python",
   "name": "lsd2env"
  },
  "language_info": {
   "codemirror_mode": {
    "name": "ipython",
    "version": 3
   },
   "file_extension": ".py",
   "mimetype": "text/x-python",
   "name": "python",
   "nbconvert_exporter": "python",
   "pygments_lexer": "ipython3",
   "version": "3.9.15"
  }
 },
 "nbformat": 4,
 "nbformat_minor": 5
}
