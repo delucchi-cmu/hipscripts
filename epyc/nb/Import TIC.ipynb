{
 "cells": [
  {
   "cell_type": "code",
   "execution_count": 1,
   "id": "8815d04c",
   "metadata": {},
   "outputs": [
    {
     "ename": "ModuleNotFoundError",
     "evalue": "No module named 'pandas'",
     "output_type": "error",
     "traceback": [
      "\u001b[0;31m---------------------------------------------------------------------------\u001b[0m",
      "\u001b[0;31mModuleNotFoundError\u001b[0m                       Traceback (most recent call last)",
      "\u001b[0;32m/tmp/ipykernel_120266/3408808395.py\u001b[0m in \u001b[0;36m<module>\u001b[0;34m\u001b[0m\n\u001b[1;32m      1\u001b[0m \u001b[0;32mimport\u001b[0m \u001b[0mtempfile\u001b[0m\u001b[0;34m\u001b[0m\u001b[0;34m\u001b[0m\u001b[0m\n\u001b[1;32m      2\u001b[0m \u001b[0;34m\u001b[0m\u001b[0m\n\u001b[0;32m----> 3\u001b[0;31m \u001b[0;32mimport\u001b[0m \u001b[0mpandas\u001b[0m \u001b[0;32mas\u001b[0m \u001b[0mpd\u001b[0m\u001b[0;34m\u001b[0m\u001b[0;34m\u001b[0m\u001b[0m\n\u001b[0m\u001b[1;32m      4\u001b[0m \u001b[0;34m\u001b[0m\u001b[0m\n\u001b[1;32m      5\u001b[0m \u001b[0;32mimport\u001b[0m \u001b[0mhipscat_import\u001b[0m\u001b[0;34m.\u001b[0m\u001b[0mrun_import\u001b[0m \u001b[0;32mas\u001b[0m \u001b[0mrunner\u001b[0m\u001b[0;34m\u001b[0m\u001b[0;34m\u001b[0m\u001b[0m\n",
      "\u001b[0;31mModuleNotFoundError\u001b[0m: No module named 'pandas'"
     ]
    }
   ],
   "source": [
    "import tempfile\n",
    "\n",
    "import pandas as pd\n",
    "\n",
    "import hipscat_import.run_import as runner\n",
    "from hipscat_import.arguments import ImportArguments\n",
    "from hipscat_import.file_readers import CsvReader\n",
    "\n",
    "\n",
    "with tempfile.TemporaryDirectory() as tmp_dir:\n",
    "    type_frame = pd.read_csv(\"tic_types.csv\")\n",
    "    type_map = dict(zip(type_frame[\"name\"], type_frame[\"type\"]))\n",
    "    args = ImportArguments(\n",
    "        catalog_name=\"tic_1\",\n",
    "        input_file_list=[\"/data3/epyc/data3/hipscat/tic_csv/tic_dec90_00S__88_00S.csv\"],\n",
    "        file_reader=CsvReader(\n",
    "            header=None,\n",
    "            column_names=type_frame[\"name\"].values.tolist(),\n",
    "            type_map=type_map,\n",
    "            chunksize=250_000,\n",
    "        ).read,\n",
    "        ra_column=\"ra\",\n",
    "        dec_column=\"dec\",\n",
    "        id_column=\"ID\",\n",
    "        pixel_threshold=1_000_000,\n",
    "        tmp_dir=tmp_dir,\n",
    "        overwrite=True,\n",
    "        highest_healpix_order=10,\n",
    "        dask_n_workers=1,\n",
    "        dask_threads_per_worker=1,\n",
    "        dask_tmp=tmp_dir,\n",
    "        output_path=\"/data3/epyc/data3/hipscat/catalogs/\",\n",
    "    )\n",
    "    runner.run(args)\n"
   ]
  }
 ],
 "metadata": {
  "kernelspec": {
   "display_name": "Python 3",
   "language": "python",
   "name": "python3"
  },
  "language_info": {
   "codemirror_mode": {
    "name": "ipython",
    "version": 3
   },
   "file_extension": ".py",
   "mimetype": "text/x-python",
   "name": "python",
   "nbconvert_exporter": "python",
   "pygments_lexer": "ipython3",
   "version": "3.9.5"
  }
 },
 "nbformat": 4,
 "nbformat_minor": 5
}
