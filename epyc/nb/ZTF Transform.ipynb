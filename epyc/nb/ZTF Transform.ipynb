{
 "cells": [
  {
   "cell_type": "code",
   "execution_count": 7,
   "id": "28efb742",
   "metadata": {},
   "outputs": [],
   "source": [
    "import pyarrow.parquet as pq\n",
    "import pandas as pd\n",
    "import numpy as np\n",
    "import healpy as hp\n",
    "\n",
    "#### -----------------\n",
    "## Columns that will be repeated per object\n",
    "repeated_columns = [\n",
    "    \"ps1_objid\", \"ra\", \"dec\", \"ps1_gMeanPSFMag\", \"ps1_rMeanPSFMag\", \"ps1_iMeanPSFMag\",\n",
    "    \"nobs_g\", \"nobs_r\", \"nobs_i\",\"mean_mag_g\",\"mean_mag_r\",\"mean_mag_i\"]\n",
    "id_column = [\"ps1_objid\", \"ra\", \"dec\"]\n",
    "\n",
    "## Columns that will be constructed per array field\n",
    "timedomain_columns = [\"band\", \"catflags\", \"fieldID\", \"mag\", \"magerr\", \"mjd\", \"rcID\"]\n",
    "\n",
    "## band-specific columns to timedomain_columns\n",
    "g_column_map = {\"catflags_g\":\"catflags\",\n",
    "                        \"fieldID_g\" : \"fieldID\", \n",
    "                        \"mag_g\":\"mag\",\n",
    "                        \"magerr_g\":\"maggerr\",\n",
    "                        \"mjd_g\":\"mjd\", \n",
    "                        \"rcID_g\":\"rcID\"}\n",
    "g_columns = list(g_column_map.keys())\n",
    "r_column_map = {\"catflags_r\":\"catflags\",\n",
    "                        \"fieldID_r\" : \"fieldID\", \n",
    "                        \"mag_r\":\"mag\",\n",
    "                        \"magerr_r\":\"maggerr\",\n",
    "                        \"mjd_r\":\"mjd\", \n",
    "                        \"rcID_r\":\"rcID\"}\n",
    "r_columns = list(r_column_map.keys())\n",
    "i_column_map = {\"catflags_i\":\"catflags\",\n",
    "                        \"fieldID_i\" : \"fieldID\", \n",
    "                        \"mag_i\":\"mag\",\n",
    "                        \"magerr_i\":\"maggerr\",\n",
    "                        \"mjd_i\":\"mjd\", \n",
    "                        \"rcID_i\":\"rcID\"}\n",
    "i_columns = list(i_column_map.keys())\n",
    "\n",
    "explode_columns = list(g_column_map.values())\n",
    "\n",
    "## For completeness, here's some fields I'm dropping because they seem useless or redundant\n",
    "## If you disagree, please LMK.\n",
    "## dec_detections, dup, index, level_0, ra_detections, zone\n",
    "\n",
    "new_column = \"__hips_hop\""
   ]
  },
  {
   "cell_type": "code",
   "execution_count": 2,
   "id": "9cd6c4a1",
   "metadata": {},
   "outputs": [],
   "source": [
    "def compute_index(ra, dec, order=20):\n",
    "    pix = hp.ang2pix(2**order, ra, dec, nest=True, lonlat=True)\n",
    "    bits=4 + 2*order\n",
    "    idx = pix.astype(np.uint64) << (64-bits)\n",
    "    orig_idx = np.arange(len(idx))\n",
    "    sorted_idx = np.lexsort((dec, ra, idx))\n",
    "    idx, ra, dec, orig_idx = idx[sorted_idx], ra[sorted_idx], dec[sorted_idx], orig_idx[sorted_idx]\n",
    "    _, x, i = np.unique(idx, return_inverse=True, return_index=True)\n",
    "    x = x.astype(np.uint64)\n",
    "    ii = np.arange(len(i), dtype=np.uint64)\n",
    "    di = ii - x[i]\n",
    "    idx += di\n",
    "    idx = idx[orig_idx]\n",
    "\n",
    "    return idx"
   ]
  },
  {
   "cell_type": "code",
   "execution_count": 5,
   "id": "a8d40ce1",
   "metadata": {},
   "outputs": [
    {
     "name": "stdout",
     "output_type": "stream",
     "text": [
      "982531\n",
      "65609157\n",
      "CPU times: user 5min 29s, sys: 3min, total: 8min 29s\n",
      "Wall time: 7min 47s\n"
     ]
    }
   ],
   "source": [
    "%%time\n",
    "\n",
    "## Single table with all objects, exploded\n",
    "\n",
    "# file_name = \"/astro/users/mmd11/data/ztf_row.parquet\"\n",
    "file_name = \"/data3/epyc/data3/hipscat/catalogs/ztf_dr14/Norder=1/Dir=0/Npix=33.parquet\"\n",
    "\n",
    "data_frame = pd.read_parquet(file_name, engine=\"pyarrow\")\n",
    "print(len(data_frame))\n",
    "\n",
    "just_i = data_frame[repeated_columns+i_columns].copy()\n",
    "just_i.rename(columns=i_column_map, inplace=True)\n",
    "just_i['band'] = 'i'\n",
    "\n",
    "just_g = data_frame[repeated_columns+g_columns].copy()\n",
    "just_g.rename(columns=g_column_map, inplace=True)\n",
    "just_g['band'] = 'g'\n",
    "\n",
    "just_r = data_frame[repeated_columns+r_columns].copy()\n",
    "just_r.rename(columns=r_column_map, inplace=True)\n",
    "just_r['band'] = 'r'\n",
    "\n",
    "explodey = pd.concat([just_i, just_g, just_r]).explode(explode_columns)\n",
    "print(len(explodey))\n",
    "explodey = explodey[explodey['mag'].notna()]\n",
    "explodey = explodey.sort_values([\"ps1_objid\", 'band', \"mjd\"])\n",
    "\n",
    "explodey[new_column] = compute_index(explodey[\"ra\"].values, explodey[\"dec\"].values, order=20)\n",
    "explodey = explodey.set_index(new_column).sort_index()\n",
    "\n",
    "explodey.to_parquet(\"/data3/epyc/data3/hipscat/catalogs/ztf_dr14_explode/Norder1/Npix33/catalog_hop.parquet\")"
   ]
  },
  {
   "cell_type": "code",
   "execution_count": 2,
   "id": "d9bb7478",
   "metadata": {},
   "outputs": [
    {
     "name": "stdout",
     "output_type": "stream",
     "text": [
      "6020\n",
      "/data3/epyc/data3/hipscat/raw/ztf_shards/part-00000-shard-0.parquet\n"
     ]
    }
   ],
   "source": [
    "import glob\n",
    "\n",
    "file_names = glob.glob(\"/data3/epyc/data3/hipscat/raw/ztf_shards/**parquet\")\n",
    "print(len(file_names))\n",
    "print(file_names[0])"
   ]
  },
  {
   "cell_type": "code",
   "execution_count": 8,
   "id": "bdeecf93",
   "metadata": {},
   "outputs": [
    {
     "name": "stdout",
     "output_type": "stream",
     "text": [
      "982531\n",
      "64138932\n",
      "CPU times: user 4min 50s, sys: 1min 58s, total: 6min 49s\n",
      "Wall time: 6min 26s\n"
     ]
    }
   ],
   "source": [
    "%%time\n",
    "\n",
    "## Separate object and source tables.\n",
    "\n",
    "file_name = \"/data3/epyc/data3/hipscat/catalogs/ztf_dr14/Norder=1/Dir=0/Npix=33.parquet\"\n",
    "\n",
    "data_frame = pd.read_parquet(file_name, engine=\"pyarrow\", columns=repeated_columns)\n",
    "data_frame[new_column] = compute_index(data_frame[\"ra\"].values, data_frame[\"dec\"].values, order=20)\n",
    "data_frame = data_frame.set_index(new_column).sort_index()\n",
    "\n",
    "data_frame.to_parquet(\"/data3/epyc/data3/hipscat/catalogs/ztf_dr14_explode/Norder1/Npix33/object_hop.parquet\")\n",
    "print(len(data_frame))\n",
    "\n",
    "data_frame = pd.read_parquet(file_name, engine=\"pyarrow\", columns=i_columns+g_columns+r_columns+id_column)\n",
    "just_i = data_frame[id_column+i_columns].copy()\n",
    "just_i.rename(columns=i_column_map, inplace=True)\n",
    "just_i['band'] = 'i'\n",
    "\n",
    "just_g = data_frame[id_column+g_columns].copy()\n",
    "just_g.rename(columns=g_column_map, inplace=True)\n",
    "just_g['band'] = 'g'\n",
    "\n",
    "just_r = data_frame[id_column+r_columns].copy()\n",
    "just_r.rename(columns=r_column_map, inplace=True)\n",
    "just_r['band'] = 'r'\n",
    "\n",
    "explodey = pd.concat([just_i, just_g, just_r]).explode(explode_columns)\n",
    "explodey = explodey[explodey['mag'].notna()]\n",
    "explodey = explodey.sort_values([\"ps1_objid\", 'band', \"mjd\"])\n",
    "\n",
    "explodey[new_column] = compute_index(explodey[\"ra\"].values, explodey[\"dec\"].values, order=20)\n",
    "explodey = explodey.set_index(new_column).sort_index()\n",
    "\n",
    "print(len(explodey))\n",
    "explodey.to_parquet(\"/data3/epyc/data3/hipscat/catalogs/ztf_dr14_explode/Norder1/Npix33/source_hop.parquet\")"
   ]
  },
  {
   "cell_type": "code",
   "execution_count": 9,
   "id": "77d099e0",
   "metadata": {},
   "outputs": [
    {
     "name": "stdout",
     "output_type": "stream",
     "text": [
      "64138932\n",
      "CPU times: user 4min 26s, sys: 2min, total: 6min 26s\n",
      "Wall time: 6min 19s\n"
     ]
    }
   ],
   "source": [
    "%%time\n",
    "\n",
    "## Separate object and source tables NO HOP.\n",
    "\n",
    "file_name = \"/data3/epyc/data3/hipscat/catalogs/ztf_dr14/Norder=1/Dir=0/Npix=33.parquet\"\n",
    "\n",
    "# data_frame = pd.read_parquet(file_name, engine=\"pyarrow\", columns=repeated_columns)\n",
    "\n",
    "# data_frame.to_parquet(\"/data3/epyc/data3/hipscat/catalogs/ztf_dr14_explode/Norder1/Npix33/object.parquet\")\n",
    "# print(len(data_frame))\n",
    "\n",
    "data_frame = pd.read_parquet(file_name, engine=\"pyarrow\", columns=i_columns+g_columns+r_columns+id_column)\n",
    "just_i = data_frame[id_column+i_columns].copy()\n",
    "just_i.rename(columns=i_column_map, inplace=True)\n",
    "just_i['band'] = 'i'\n",
    "\n",
    "just_g = data_frame[id_column+g_columns].copy()\n",
    "just_g.rename(columns=g_column_map, inplace=True)\n",
    "just_g['band'] = 'g'\n",
    "\n",
    "just_r = data_frame[id_column+r_columns].copy()\n",
    "just_r.rename(columns=r_column_map, inplace=True)\n",
    "just_r['band'] = 'r'\n",
    "\n",
    "explodey = pd.concat([just_i, just_g, just_r]).explode(explode_columns)\n",
    "explodey = explodey[explodey['mag'].notna()]\n",
    "explodey = explodey.sort_values([\"ps1_objid\", 'band', \"mjd\"])\n",
    "\n",
    "print(len(explodey))\n",
    "explodey.to_parquet(\"/data3/epyc/data3/hipscat/catalogs/ztf_dr14_explode/Norder1/Npix33/source.parquet\")"
   ]
  }
 ],
 "metadata": {
  "kernelspec": {
   "display_name": "Melissa LSDB",
   "language": "python",
   "name": "lsd2env"
  },
  "language_info": {
   "codemirror_mode": {
    "name": "ipython",
    "version": 3
   },
   "file_extension": ".py",
   "mimetype": "text/x-python",
   "name": "python",
   "nbconvert_exporter": "python",
   "pygments_lexer": "ipython3",
   "version": "3.9.15"
  }
 },
 "nbformat": 4,
 "nbformat_minor": 5
}
