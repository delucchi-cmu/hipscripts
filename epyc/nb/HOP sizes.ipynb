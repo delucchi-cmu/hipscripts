{
 "cells": [
  {
   "cell_type": "code",
   "execution_count": 1,
   "id": "c9fcc24b",
   "metadata": {},
   "outputs": [],
   "source": [
    "import pyarrow.parquet as pq\n",
    "import pandas as pd\n",
    "\n",
    "import numpy as np\n",
    "import pandas as pd\n",
    "\n"
   ]
  },
  {
   "cell_type": "code",
   "execution_count": 3,
   "id": "15d86ed8",
   "metadata": {},
   "outputs": [],
   "source": [
    "def get_column_sizes(file_name):\n",
    "    parquet_file = pq.ParquetFile(file_name)\n",
    "\n",
    "    cols = parquet_file.metadata.num_columns\n",
    "    row_groups = parquet_file.metadata.num_row_groups\n",
    "\n",
    "    sizes = np.zeros(cols)\n",
    "\n",
    "    for rg in range(row_groups):\n",
    "        for col in range (cols):\n",
    "            sizes[col] += parquet_file.metadata.row_group(0).column(col).total_compressed_size\n",
    "\n",
    "    frame = pd.DataFrame({\"name\":parquet_file.schema.names, \"size\":sizes})\n",
    "    frame['percent'] = frame['size'] / frame['size'].sum() *100\n",
    "    print(frame.sort_values(\"size\", ascending=False))"
   ]
  },
  {
   "cell_type": "code",
   "execution_count": 6,
   "id": "397b16fe",
   "metadata": {},
   "outputs": [
    {
     "name": "stdout",
     "output_type": "stream",
     "text": [
      "               name         size    percent\n",
      "19       __hips_hop  259309593.0  22.895125\n",
      "15          maggerr  257131788.0  22.702841\n",
      "14              mag  257110986.0  22.701004\n",
      "16              mjd  123021376.0  10.861880\n",
      "10       mean_mag_r   34247714.0   3.023821\n",
      "0         ps1_objid   34128521.0   3.013297\n",
      "1                ra   32717660.0   2.888728\n",
      "2               dec   32132680.0   2.837079\n",
      "9        mean_mag_g   27342875.0   2.414174\n",
      "17             rcID   13440279.0   1.186678\n",
      "5   ps1_iMeanPSFMag   10955215.0   0.967265\n",
      "4   ps1_rMeanPSFMag   10867638.0   0.959532\n",
      "3   ps1_gMeanPSFMag    9306220.0   0.821671\n",
      "13          fieldID    9082926.0   0.801955\n",
      "12         catflags    8808496.0   0.777725\n",
      "7            nobs_r    5543369.0   0.489439\n",
      "6            nobs_g    4707864.0   0.415670\n",
      "18             band    2434852.0   0.214979\n",
      "11       mean_mag_i     230611.0   0.020361\n",
      "8            nobs_i      76761.0   0.006777\n"
     ]
    }
   ],
   "source": [
    "## time series data exploded and repeated\n",
    "file_name = \"/data3/epyc/data3/hipscat/catalogs/ztf_dr14_explode/Norder1/Npix33/catalog_hop.parquet\"\n",
    "get_column_sizes(file_name)"
   ]
  },
  {
   "cell_type": "code",
   "execution_count": 5,
   "id": "6995cb51",
   "metadata": {},
   "outputs": [
    {
     "name": "stdout",
     "output_type": "stream",
     "text": [
      "               name       size    percent\n",
      "0         ps1_objid  7314371.0  16.457597\n",
      "10       mean_mag_r  6547795.0  14.732774\n",
      "12       __hips_hop  5975946.0  13.446093\n",
      "1                ra  5667649.0  12.752414\n",
      "2               dec  5189752.0  11.677128\n",
      "9        mean_mag_g  3761652.0   8.463852\n",
      "4   ps1_rMeanPSFMag  2629023.0   5.915396\n",
      "5   ps1_iMeanPSFMag  2613665.0   5.880840\n",
      "3   ps1_gMeanPSFMag  2519294.0   5.668502\n",
      "7            nobs_r  1127658.0   2.537271\n",
      "6            nobs_g   979588.0   2.204108\n",
      "11       mean_mag_i   102774.0   0.231245\n",
      "8            nobs_i    14568.0   0.032779\n"
     ]
    }
   ],
   "source": [
    "## just objects (all source data removed)\n",
    "file_name = \"/data3/epyc/data3/hipscat/catalogs/ztf_dr14_explode/Norder1/Npix33/object_hop.parquet\"\n",
    "get_column_sizes(file_name)"
   ]
  },
  {
   "cell_type": "code",
   "execution_count": 4,
   "id": "6d6eaf00",
   "metadata": {},
   "outputs": [
    {
     "name": "stdout",
     "output_type": "stream",
     "text": [
      "          name         size    percent\n",
      "10  __hips_hop  259309593.0  25.192341\n",
      "6      maggerr  257131788.0  24.980764\n",
      "5          mag  257110986.0  24.978743\n",
      "7          mjd  123021376.0  11.951723\n",
      "0    ps1_objid   34128521.0   3.315640\n",
      "1           ra   32717660.0   3.178573\n",
      "2          dec   32132680.0   3.121741\n",
      "8         rcID   13440279.0   1.305745\n",
      "4      fieldID    9082926.0   0.882421\n",
      "3     catflags    8808496.0   0.855759\n",
      "9         band    2434852.0   0.236550\n"
     ]
    }
   ],
   "source": [
    "## just object id + source data (no other repeated object data)\n",
    "file_name = \"/data3/epyc/data3/hipscat/catalogs/ztf_dr14_explode/Norder1/Npix33/source_hop.parquet\"\n",
    "get_column_sizes(file_name)"
   ]
  }
 ],
 "metadata": {
  "kernelspec": {
   "display_name": "Melissa LSDB",
   "language": "python",
   "name": "lsd2env"
  },
  "language_info": {
   "codemirror_mode": {
    "name": "ipython",
    "version": 3
   },
   "file_extension": ".py",
   "mimetype": "text/x-python",
   "name": "python",
   "nbconvert_exporter": "python",
   "pygments_lexer": "ipython3",
   "version": "3.9.15"
  }
 },
 "nbformat": 4,
 "nbformat_minor": 5
}
