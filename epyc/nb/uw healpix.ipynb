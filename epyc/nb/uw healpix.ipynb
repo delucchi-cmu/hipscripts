{
 "cells": [
  {
   "cell_type": "code",
   "execution_count": 40,
   "id": "2c3abec8",
   "metadata": {},
   "outputs": [],
   "source": [
    "import healpy as hp\n",
    "import numpy as np\n",
    "from matplotlib import pyplot as plt\n",
    "import pandas as pd\n",
    "\n",
    "from hipscat.catalog import Catalog, PartitionInfo\n",
    "from hipscat.io import file_io, paths\n",
    "\n",
    "def _plot_healpix_map(healpix_map, projection, title, draw_map=True):\n",
    "    \"\"\"Perform the plotting of a healpix pixel map.\n",
    "\n",
    "    Args:\n",
    "        healpix_map: array containing the map\n",
    "        projection: projection type to display\n",
    "        title: title used in image plot\n",
    "    \"\"\"\n",
    "    if projection == \"moll\":\n",
    "        projection_method = hp.mollview\n",
    "    elif projection == \"gnom\":\n",
    "        projection_method = hp.gnomview\n",
    "    elif projection == \"cart\":\n",
    "        projection_method = hp.cartview\n",
    "    elif projection == \"orth\":\n",
    "        projection_method = hp.orthview\n",
    "    else:\n",
    "        raise NotImplementedError(f\"unknown projection: {projection}\")\n",
    "\n",
    "    if draw_map:  # pragma: no cover\n",
    "        projection_method(\n",
    "            healpix_map,\n",
    "            title=\"Hello, Huskies!\",\n",
    "            cbar=False,\n",
    "            nest=True,\n",
    "        )\n",
    "        plt.plot()\n",
    "\n",
    "def plot_pixels(pixels, catalog_name, projection=\"moll\", draw_map=True):\n",
    "    \"\"\"Create a visual map of the pixel density of the catalog.\n",
    "    Args:\n",
    "        catalog (`hipscat.catalog.Catalog`) Catalog to display\n",
    "        projection (str) The map projection to use. Valid values include:\n",
    "            - moll - Molleweide projection (default)\n",
    "            - gnom - Gnomonic projection\n",
    "            - cart - Cartesian projection\n",
    "            - orth - Orthographic projection\n",
    "    \"\"\"\n",
    "    catalog_orders = pixels[PartitionInfo.METADATA_ORDER_COLUMN_NAME].unique()\n",
    "    catalog_orders.sort()\n",
    "    max_order = catalog_orders[-1]\n",
    "\n",
    "    order_map = np.full(hp.order2npix(max_order), hp.pixelfunc.UNSEEN)\n",
    "\n",
    "    for _, pixel in pixels.iterrows():\n",
    "        explosion_factor = 4 ** (\n",
    "            max_order - pixel[PartitionInfo.METADATA_ORDER_COLUMN_NAME]\n",
    "        )\n",
    "        exploded_pixels = [\n",
    "            *range(\n",
    "                pixel[PartitionInfo.METADATA_PIXEL_COLUMN_NAME] * explosion_factor,\n",
    "                (pixel[PartitionInfo.METADATA_PIXEL_COLUMN_NAME] + 1)\n",
    "                * explosion_factor,\n",
    "            )\n",
    "        ]\n",
    "        order_map[exploded_pixels] = pixel[PartitionInfo.METADATA_ORDER_COLUMN_NAME]\n",
    "    _plot_healpix_map(\n",
    "        order_map,\n",
    "        projection,\n",
    "        f\"Catalog pixel density map - {catalog_name}\",\n",
    "        draw_map=draw_map,\n",
    "    )"
   ]
  },
  {
   "cell_type": "code",
   "execution_count": 41,
   "id": "90bb7cdd",
   "metadata": {},
   "outputs": [
    {
     "data": {
      "image/png": "[encoded data removed]",
      "text/plain": [
       "<Figure size 850x540 with 1 Axes>"
      ]
     },
     "metadata": {},
     "output_type": "display_data"
    }
   ],
   "source": [
    "# hipscat_dir=\"/data3/epyc/data3/hipscat/catalogs/dr16q\"\n",
    "# cat = Catalog(hipscat_dir)\n",
    "# pixels = cat.get_pixels()\n",
    "# print(pixels)\n",
    "pixels = pd.read_csv(\"/astro/users/mmd11/uw.csv\")\n",
    "# pixels.to_csv(\"/astro/users/mmd11/uw.csv\", index=False)\n",
    "\n",
    "plot_pixels(pixels, \"\")"
   ]
  }
 ],
 "metadata": {
  "kernelspec": {
   "display_name": "Melissa LSDB",
   "language": "python",
   "name": "lsd2env"
  },
  "language_info": {
   "codemirror_mode": {
    "name": "ipython",
    "version": 3
   },
   "file_extension": ".py",
   "mimetype": "text/x-python",
   "name": "python",
   "nbconvert_exporter": "python",
   "pygments_lexer": "ipython3",
   "version": "3.9.15"
  }
 },
 "nbformat": 4,
 "nbformat_minor": 5
}
