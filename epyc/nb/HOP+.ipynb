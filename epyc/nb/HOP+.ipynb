{
 "cells": [
  {
   "cell_type": "code",
   "execution_count": 71,
   "id": "66a5aa45",
   "metadata": {},
   "outputs": [],
   "source": [
    "import pandas as pd\n",
    "import healpy as hp\n",
    "import numpy as np\n",
    "\n"
   ]
  },
  {
   "cell_type": "code",
   "execution_count": 67,
   "id": "3bebe34b",
   "metadata": {},
   "outputs": [],
   "source": [
    "data = pd.read_parquet(file_name, engine='pyarrow')\n"
   ]
  },
  {
   "cell_type": "code",
   "execution_count": 66,
   "id": "70bc5fca",
   "metadata": {},
   "outputs": [],
   "source": [
    "HIPSCAT_ID_HEALPIX_ORDER = 19\n",
    "\n",
    "\n",
    "def compute_hipscat_id(ra_values, dec_values):\n",
    "    \"\"\"Compute the hipscat ID field.\n",
    "\n",
    "    This index is defined as a 64-bit integer which has two parts:\n",
    "        - healpix pixel (at order 19)\n",
    "        - incrementing counter (within same healpix, for uniqueness)\n",
    "\n",
    "    |------------------------------------------|-------------------|\n",
    "    |<-----    healpixel at order 19    ------>|<--   counter   -->|\n",
    "\n",
    "    This provides us with an increasing index, that will not overlap\n",
    "    between spatially partitioned data files.\n",
    "    \"\"\"\n",
    "    if len(ra_values) != len(dec_values):\n",
    "        raise ValueError(\"ra and dec arrays should have the same length\")\n",
    "\n",
    "    ## Construct the bit-shifted healpix segment\n",
    "    value_count = len(ra_values)\n",
    "    mapped_pixels = hp.ang2pix(\n",
    "        2**HIPSCAT_ID_HEALPIX_ORDER, ra_values, dec_values, nest=True, lonlat=True\n",
    "    )\n",
    "    shifted_pixels = mapped_pixels.astype(np.uint64) << (\n",
    "        64 - (4 + 2 * HIPSCAT_ID_HEALPIX_ORDER)\n",
    "    )\n",
    "\n",
    "    ## We sort to put pixels next to each other that will need to be counted.\n",
    "    ## This simplifies the counter logic, as we can subtract the index where\n",
    "    ## we first see the pixel value from the current index to get the offset counter.\n",
    "    sort_index = np.argsort(shifted_pixels)\n",
    "    shifted_pixels = shifted_pixels[sort_index]\n",
    "    _, unique_inverses, unique_indexes = np.unique(\n",
    "        shifted_pixels, return_inverse=True, return_index=True\n",
    "    )\n",
    "\n",
    "    ## Construct the counter.\n",
    "    unique_inverses = unique_inverses.astype(np.uint64)\n",
    "    boring_number_index = np.arange(value_count, dtype=np.uint64)\n",
    "    offset_counter = boring_number_index - unique_inverses[unique_indexes]\n",
    "    shifted_pixels = shifted_pixels + offset_counter\n",
    "\n",
    "    ## Map back to the original, unsorted, values\n",
    "    unsort_index = np.argsort(sort_index)\n",
    "    return shifted_pixels[unsort_index]"
   ]
  },
  {
   "cell_type": "code",
   "execution_count": 73,
   "id": "6a8fc3af",
   "metadata": {},
   "outputs": [
    {
     "name": "stdout",
     "output_type": "stream",
     "text": [
      "                             ps1_objid         ra        dec  catflags  \\\n",
      "_hipscat_id                                                              \n",
      "9745676850465603584  71180673097035613  67.309784 -30.678856         0   \n",
      "9745677245711646720  71190672942652378  67.294304 -30.673319         0   \n",
      "9745677245711646721  71190672942652378  67.294304 -30.673319         0   \n",
      "9745677245711646722  71190672942652378  67.294304 -30.673319         1   \n",
      "9745677245711646723  71190672942652378  67.294304 -30.673319         0   \n",
      "\n",
      "                     fieldID        mag   maggerr          mjd  rcID band  \n",
      "_hipscat_id                                                                \n",
      "9745676850465603584     1248  20.618536  0.186703  59205.25167     4    r  \n",
      "9745677245711646720     1248  15.936892  0.019306  59176.31437     4    r  \n",
      "9745677245711646721     1248  15.899614  0.019212  59233.18631     4    r  \n",
      "9745677245711646722     1248  15.885571  0.019178  59205.25121     4    r  \n",
      "9745677245711646723     1248  15.885210  0.019177  59203.23264     4    r  \n"
     ]
    }
   ],
   "source": [
    "file_name=\"/data3/epyc/data3/hipscat/catalogs/ztf_dr14_explode/Norder1/Npix33/source_hop.parquet\"\n",
    "\n",
    "data = pd.read_parquet(file_name, engine='pyarrow')\n",
    "\n",
    "\n",
    "new_column = \"_hipscat_id\"\n",
    "data[new_column] = compute_hipscat_id(data[\"ra\"].values, data[\"dec\"].values)\n",
    "\n",
    "data = data.set_index(new_column).sort_index()\n",
    "print(data[:5])\n",
    "\n",
    "\n",
    "\n",
    "data.to_parquet(\"/data3/epyc/data3/hipscat/catalogs/ztf_dr14_explode/Norder1/Npix33/source_hipscat_id.parquet\")"
   ]
  },
  {
   "cell_type": "code",
   "execution_count": 35,
   "id": "4db227e5",
   "metadata": {},
   "outputs": [
    {
     "data": {
      "text/plain": [
       "'0b110000000000000000000000000000000000000000000000000000000000000'"
      ]
     },
     "execution_count": 35,
     "metadata": {},
     "output_type": "execute_result"
    }
   ],
   "source": [
    "bin(12*2**(20*2) <<19)\n"
   ]
  }
 ],
 "metadata": {
  "kernelspec": {
   "display_name": "Melissa LSDB",
   "language": "python",
   "name": "lsd2env"
  },
  "language_info": {
   "codemirror_mode": {
    "name": "ipython",
    "version": 3
   },
   "file_extension": ".py",
   "mimetype": "text/x-python",
   "name": "python",
   "nbconvert_exporter": "python",
   "pygments_lexer": "ipython3",
   "version": "3.9.15"
  }
 },
 "nbformat": 4,
 "nbformat_minor": 5
}
