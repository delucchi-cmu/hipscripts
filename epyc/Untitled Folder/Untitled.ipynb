{
 "cells": [
  {
   "cell_type": "markdown",
   "id": "90460a32",
   "metadata": {},
   "source": [
    "# Alerce alert import\n",
    "\n",
    "Start with collating the three different tables into a single table with the three sets of data nested under the object level.\n",
    "\n",
    "Then we hipscat-import."
   ]
  },
  {
   "cell_type": "code",
   "execution_count": 14,
   "id": "26567476",
   "metadata": {},
   "outputs": [],
   "source": [
    "import pandas as pd\n",
    "import pickle\n",
    "from tqdm import tqdm\n",
    "\n",
    "\n",
    "import glob\n",
    "import hipscat_import.pipeline as runner\n",
    "from hipscat_import.catalog.arguments import ImportArguments\n"
   ]
  },
  {
   "cell_type": "code",
   "execution_count": 19,
   "id": "4a6ef953",
   "metadata": {},
   "outputs": [],
   "source": [
    "lcs_aggs = {\n",
    "    \"mean_ra\": pd.NamedAgg(column=\"ra\", aggfunc=\"mean\"),\n",
    "    \"mean_dec\": pd.NamedAgg(column=\"dec\", aggfunc=\"mean\"),\n",
    "}\n",
    "for col in ['ra','dec','candid', 'mjd', 'fid', 'pid', 'diffmaglim', 'isdiffpos', 'nid',\n",
    "            'magpsf', 'sigmapsf', 'magap', 'sigmagap', 'distnr', 'rb',\n",
    "           'rbversion', 'drb', 'drbversion', 'magapbig', 'sigmagapbig', 'rfid',\n",
    "           'magpsf_corr', 'sigmapsf_corr', 'sigmapsf_corr_ext', 'corrected',\n",
    "           'dubious', 'parent_candid', 'has_stamp', 'step_id_corr']:\n",
    "    lcs_aggs[f\"lc_{col}\"] = pd.NamedAgg(column=col, aggfunc=list)\n",
    "\n",
    "nondet_aggs = {\n",
    "    \"nondet_mjd\": pd.NamedAgg(column=\"mjd\", aggfunc=list),\n",
    "    \"nondet_fid\": pd.NamedAgg(column=\"fid\", aggfunc=list),\n",
    "    \"nondet_diffmaglim\": pd.NamedAgg(column=\"diffmaglim\", aggfunc=list),\n",
    "    \n",
    "}\n",
    "\n",
    "ref_aggs = {}\n",
    "\n",
    "for col in [\"rfid\",\"candid\",\"fid\",\"rcid\",\"field\",\"magnr\",\n",
    "            \"sigmagnr\",\"chinr\",\"sharpnr\",\"ranr\",\"decnr\",\n",
    "            \"mjdstartref\",\"mjdendref\",\"nframesref\"]:\n",
    "    ref_aggs[f\"ref_{col}\"] = pd.NamedAgg(column=col, aggfunc=list)\n",
    "\n"
   ]
  },
  {
   "cell_type": "code",
   "execution_count": 21,
   "id": "b1d6939f",
   "metadata": {},
   "outputs": [
    {
     "name": "stderr",
     "output_type": "stream",
     "text": [
      "100%|██████████| 182/182 [1:29:37<00:00, 29.55s/it]\n"
     ]
    }
   ],
   "source": [
    "for index in tqdm(range(1,183)):\n",
    "    lc_file_name = f\"/data3/epyc/data3/hipscat/raw/alerts/lcs_{index:04}.picklelcs_{index:04}.pickle\"\n",
    "\n",
    "    with open(lc_file_name, \"rb\") as pickle_file:\n",
    "        lightcurves = pickle.load(pickle_file)\n",
    "\n",
    "\n",
    "    lightcurves = lightcurves.groupby(\"oid\").agg(**lcs_aggs)\n",
    "\n",
    "\n",
    "    nondet_file_name = f\"/data3/epyc/data3/hipscat/raw/alerts/nondet_{index:04}.picklenondet_{index:04}.pickle\"\n",
    "\n",
    "    with open(nondet_file_name, \"rb\") as pickle_file:\n",
    "        nondet = pickle.load(pickle_file)\n",
    "\n",
    "\n",
    "    nondet = nondet.groupby(\"oid\").agg(**nondet_aggs)\n",
    "\n",
    "    ref_file_name = f\"/data3/epyc/data3/hipscat/raw/alerts/ref_{index:04}.pickleref_{index:04}.pickle\"\n",
    "\n",
    "    with open(ref_file_name, \"rb\") as pickle_file:\n",
    "        ref_frame = pickle.load(pickle_file)\n",
    "\n",
    "\n",
    "    ref_frame = ref_frame.groupby(\"oid\").agg(**ref_aggs)\n",
    "\n",
    "    agged = pd.merge(pd.merge(lightcurves, nondet, on=\"oid\", suffixes=(False, False)), ref_frame, on=\"oid\", suffixes=(False, False))\n",
    "    agged.to_parquet(f\"/data3/epyc/data3/hipscat/raw/alerts/nested_named/file_{index:04}.parquet\")"
   ]
  },
  {
   "cell_type": "code",
   "execution_count": 22,
   "id": "dec39dbe",
   "metadata": {},
   "outputs": [
    {
     "name": "stdout",
     "output_type": "stream",
     "text": [
      "found 183 files\n"
     ]
    },
    {
     "data": {
      "application/vnd.jupyter.widget-view+json": {
       "model_id": "88083d4e402741938f35c89b5a3b2d75",
       "version_major": 2,
       "version_minor": 0
      },
      "text/plain": [
       "Planning  :   0%|          | 0/5 [00:00<?, ?it/s]"
      ]
     },
     "metadata": {},
     "output_type": "display_data"
    },
    {
     "name": "stderr",
     "output_type": "stream",
     "text": [
      "/astro/users/mmd11/.conda/envs/hipscatenv/lib/python3.10/site-packages/distributed/node.py:182: UserWarning: Port 8787 is already in use.\n",
      "Perhaps you already have a cluster running?\n",
      "Hosting the HTTP server on port 37912 instead\n",
      "  warnings.warn(\n"
     ]
    },
    {
     "data": {
      "application/vnd.jupyter.widget-view+json": {
       "model_id": "2c54f5f124ab4213b49b56a2cd6790d5",
       "version_major": 2,
       "version_minor": 0
      },
      "text/plain": [
       "Mapping   :   0%|          | 0/183 [00:00<?, ?it/s]"
      ]
     },
     "metadata": {},
     "output_type": "display_data"
    },
    {
     "data": {
      "application/vnd.jupyter.widget-view+json": {
       "model_id": "6647d2a8610444aba0687395a68642a6",
       "version_major": 2,
       "version_minor": 0
      },
      "text/plain": [
       "Binning   :   0%|          | 0/2 [00:00<?, ?it/s]"
      ]
     },
     "metadata": {},
     "output_type": "display_data"
    },
    {
     "data": {
      "application/vnd.jupyter.widget-view+json": {
       "model_id": "252f73ee22604d1083ae9ce165aef0ae",
       "version_major": 2,
       "version_minor": 0
      },
      "text/plain": [
       "Splitting :   0%|          | 0/183 [00:00<?, ?it/s]"
      ]
     },
     "metadata": {},
     "output_type": "display_data"
    },
    {
     "data": {
      "application/vnd.jupyter.widget-view+json": {
       "model_id": "e1f07da3004e4d419255b48c3cfe8e5c",
       "version_major": 2,
       "version_minor": 0
      },
      "text/plain": [
       "Reducing  :   0%|          | 0/113 [00:00<?, ?it/s]"
      ]
     },
     "metadata": {},
     "output_type": "display_data"
    },
    {
     "data": {
      "application/vnd.jupyter.widget-view+json": {
       "model_id": "812f720aaff74142ba0bac37f061a425",
       "version_major": 2,
       "version_minor": 0
      },
      "text/plain": [
       "Finishing :   0%|          | 0/5 [00:00<?, ?it/s]"
      ]
     },
     "metadata": {},
     "output_type": "display_data"
    }
   ],
   "source": [
    "files = glob.glob(\"/data3/epyc/data3/hipscat/raw/alerts/nested_named/file_*\")\n",
    "files.sort()\n",
    "print(f\"found {len(files)} files\")\n",
    "\n",
    "args = ImportArguments(\n",
    "    output_artifact_name=\"alerce_nested\",\n",
    "    input_file_list=files,\n",
    "    file_reader=\"parquet\",\n",
    "    ra_column=\"mean_ra\",\n",
    "    dec_column=\"mean_dec\",\n",
    "    pixel_threshold=40_000,\n",
    "    tmp_dir=\"/data3/epyc/data3/hipscat/tmp/\",\n",
    "    highest_healpix_order=6,\n",
    "    dask_n_workers=10,\n",
    "    dask_threads_per_worker=1,\n",
    "    dask_tmp=\"/data3/epyc/data3/hipscat/tmp/\",\n",
    "    output_path=\"/data3/epyc/data3/hipscat/test_catalogs/alerce/\",\n",
    "    completion_email_address=\"delucchi@andrew.cmu.edu\",\n",
    "    simple_progress_bar=True,\n",
    ")\n",
    "runner.pipeline(args)\n"
   ]
  },
  {
   "cell_type": "code",
   "execution_count": 23,
   "id": "a392210f",
   "metadata": {},
   "outputs": [
    {
     "name": "stdout",
     "output_type": "stream",
     "text": [
      "threshold between 21_465 and 73_268\n"
     ]
    }
   ],
   "source": [
    "import os\n",
    "import pyarrow.parquet as pq\n",
    "\n",
    "# sample_parquet_file = \"/data3/epyc/data3/hipscat/test_catalogs/alerce/alerce_sample/Norder=0/Dir=0/Npix=3.parquet\"\n",
    "sample_parquet_file = \"/data3/epyc/data3/hipscat/raw/alerts/nested_pq/file_0070.pickle\"\n",
    "\n",
    "sample_file_size = os.path.getsize(sample_parquet_file)\n",
    "parquet_file = pq.ParquetFile(sample_parquet_file)\n",
    "num_rows = parquet_file.metadata.num_rows\n",
    "\n",
    "## 300MB\n",
    "ideal_file_small = 300 * 1024 * 1024\n",
    "## 1G\n",
    "ideal_file_large = 1024 * 1024 * 1024\n",
    "\n",
    "threshold_small = ideal_file_small / sample_file_size * num_rows\n",
    "threshold_large = ideal_file_large / sample_file_size * num_rows\n",
    "\n",
    "print(f\"threshold between {int(threshold_small):_} and {int(threshold_large):_}\")"
   ]
  },
  {
   "cell_type": "code",
   "execution_count": null,
   "id": "ca9f8a42",
   "metadata": {},
   "outputs": [],
   "source": []
  }
 ],
 "metadata": {
  "kernelspec": {
   "display_name": "Melissa LSDB",
   "language": "python",
   "name": "mmd11_lsdb"
  },
  "language_info": {
   "codemirror_mode": {
    "name": "ipython",
    "version": 3
   },
   "file_extension": ".py",
   "mimetype": "text/x-python",
   "name": "python",
   "nbconvert_exporter": "python",
   "pygments_lexer": "ipython3",
   "version": "3.10.13"
  }
 },
 "nbformat": 4,
 "nbformat_minor": 5
}
