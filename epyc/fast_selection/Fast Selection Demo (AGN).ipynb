{
 "cells": [
  {
   "cell_type": "markdown",
   "id": "f7e5b09e",
   "metadata": {},
   "source": [
    "# Fast selection on object id\n",
    "\n",
    "Little demo of finding an object by its ID in hipscat, if you don't know the radec.\n",
    "\n",
    "Start by looking at the hipscat-library index catalog."
   ]
  },
  {
   "cell_type": "code",
   "execution_count": null,
   "id": "66d623ad",
   "metadata": {},
   "outputs": [],
   "source": [
    "from hipscat.catalog.index.index_catalog import IndexCatalog\n",
    "import pandas as pd\n",
    "\n",
    "catalog_index = IndexCatalog.read_from_hipscat(\"/data3/epyc/data3/hipscat/test_catalogs/agn_sdss_id\")\n",
    "catalog_index"
   ]
  },
  {
   "cell_type": "markdown",
   "id": "e1f7a9d3",
   "metadata": {},
   "source": [
    "These are a handful of AGNs. Let's check the index catalog, and see if we can reduce this list of IDs into just those pixels of interest."
   ]
  },
  {
   "cell_type": "code",
   "execution_count": null,
   "id": "3e011f17",
   "metadata": {},
   "outputs": [],
   "source": [
    "import pandas as pd\n",
    "\n",
    "pd.read_parquet(\"/data3/epyc/data3/hipscat/test_catalogs/agn_sdss_id/index/part.0.parquet\").query(\"Npix == 5104\").head()\n"
   ]
  },
  {
   "cell_type": "code",
   "execution_count": null,
   "id": "7cee9a73",
   "metadata": {},
   "outputs": [],
   "source": [
    "\n",
    "ids = [\"000000.15+353104.2\", \"000000.33+310325.3\",\n",
    "      \"000003.61+344738.9\", \"000005.56+334037.5\",\n",
    "      \"000000.72+305758.5\", \"000003.53+303413.3\"]"
   ]
  },
  {
   "cell_type": "code",
   "execution_count": null,
   "id": "a2d945d7",
   "metadata": {},
   "outputs": [],
   "source": [
    "%%time\n",
    "partitions = catalog_index.loc_partitions(ids)\n",
    "partitions"
   ]
  },
  {
   "cell_type": "markdown",
   "id": "d8691bc1",
   "metadata": {},
   "source": [
    "Now let's try that with lsdb, and fetch the full rows of these objects."
   ]
  },
  {
   "cell_type": "code",
   "execution_count": null,
   "id": "4df5b899",
   "metadata": {},
   "outputs": [],
   "source": [
    "%%time\n",
    "import lsdb\n",
    "\n",
    "gaia = lsdb.read_hipscat(\"/data3/epyc/data3/hipscat/catalogs/dr16q_constant\")"
   ]
  },
  {
   "cell_type": "code",
   "execution_count": null,
   "id": "fd65ce14",
   "metadata": {},
   "outputs": [],
   "source": [
    "%%time\n",
    "index_search_df = gaia.index_search(ids, catalog_index).compute()\n",
    "index_search_df"
   ]
  }
 ],
 "metadata": {
  "kernelspec": {
   "display_name": "Melissa LSDB",
   "language": "python",
   "name": "mmd11_lsdb"
  },
  "language_info": {
   "codemirror_mode": {
    "name": "ipython",
    "version": 3
   },
   "file_extension": ".py",
   "mimetype": "text/x-python",
   "name": "python",
   "nbconvert_exporter": "python",
   "pygments_lexer": "ipython3",
   "version": "3.10.13"
  }
 },
 "nbformat": 4,
 "nbformat_minor": 5
}
