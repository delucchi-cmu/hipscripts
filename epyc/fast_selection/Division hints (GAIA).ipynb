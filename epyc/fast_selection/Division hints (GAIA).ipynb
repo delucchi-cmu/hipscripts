{
 "cells": [
  {
   "cell_type": "markdown",
   "id": "9869d09d",
   "metadata": {},
   "source": [
    "# Indexing division hints - GAIA\n",
    "\n",
    "In generating an index over a catalog column, we use dask's `set_index` method to shuffle the catalog data around. This can be a very expensive operation. We can save a lot of time and general compute resources if we have some intelligent prior information about the distribution of the values inside the column we're building an index on.\n",
    "\n",
    "In this notebook, I build some divisions for the GAIA DR3 data on the `designation` column. This is a string that contains within it an integer.\n",
    "\n",
    "See also:\n",
    "* https://docs.dask.org/en/latest/generated/dask.dataframe.DataFrame.set_index.html#dask.dataframe.DataFrame.set_index\n",
    "* https://docs.dask.org/en/latest/dataframe-design.html#partitions\n",
    "* https://docs.dask.org/en/stable/dataframe-best-practices.html#avoid-full-data-shuffling"
   ]
  },
  {
   "cell_type": "code",
   "execution_count": 1,
   "id": "7ed9ec62",
   "metadata": {},
   "outputs": [],
   "source": [
    "from hipscat.io.parquet_metadata import write_parquet_metadata\n",
    "from hipscat.io import file_io\n",
    "import os\n",
    "\n",
    "## Specify the catalog and column you're making your index over.\n",
    "input_catalog_path=\"/data3/epyc/data3/hipscat/test_catalogs/gaia_symbolic\"\n",
    "indexing_column=\"designation\""
   ]
  },
  {
   "cell_type": "markdown",
   "id": "15192521",
   "metadata": {},
   "source": [
    "We're going to look a lot into the `_metadata` file, which is a parquet file at the root of a hipscat catalog. Among other things, it contains statistics about the min and max values our data takes within each leaf parquet file.\n",
    "\n",
    "Let's make sure that the indexing column really exists in our data. Then, we can visually check that it's correct by looking at the per-column schema in the parquet files."
   ]
  },
  {
   "cell_type": "code",
   "execution_count": 2,
   "id": "950204a2",
   "metadata": {},
   "outputs": [
    {
     "name": "stdout",
     "output_type": "stream",
     "text": [
      "found column at index: 1\n"
     ]
    }
   ],
   "source": [
    "## you might not need to change anything after that.\n",
    "total_metadata = file_io.read_parquet_metadata(os.path.join(input_catalog_path, \"_metadata\"))\n",
    "\n",
    "num_row_groups = total_metadata.num_row_groups\n",
    "\n",
    "first_row_group = total_metadata.row_group(0)\n",
    "index_column_idx = -1\n",
    "\n",
    "for i in range(0, first_row_group.num_columns):\n",
    "    column = first_row_group.column(i)\n",
    "    if column.path_in_schema == indexing_column:\n",
    "        index_column_idx = i\n",
    "print(\"found column at index:\", index_column_idx)"
   ]
  },
  {
   "cell_type": "code",
   "execution_count": 3,
   "id": "22dfb858",
   "metadata": {},
   "outputs": [
    {
     "data": {
      "text/plain": [
       "<pyarrow._parquet.ParquetSchema object at 0x7fda2fd96740>\n",
       "required group field_id=-1 schema {\n",
       "  optional int64 field_id=-1 solution_id;\n",
       "  optional binary field_id=-1 designation (String);\n",
       "  optional int64 field_id=-1 source_id;\n",
       "  optional int64 field_id=-1 random_index;\n",
       "  optional double field_id=-1 ref_epoch;\n",
       "  optional double field_id=-1 ra;\n",
       "  optional double field_id=-1 ra_error;\n",
       "  optional double field_id=-1 dec;\n",
       "  optional double field_id=-1 dec_error;\n",
       "  optional double field_id=-1 parallax;\n",
       "  optional double field_id=-1 parallax_error;\n",
       "  optional double field_id=-1 parallax_over_error;\n",
       "  optional double field_id=-1 pm;\n",
       "  optional double field_id=-1 pmra;\n",
       "  optional double field_id=-1 pmra_error;\n",
       "  optional double field_id=-1 pmdec;\n",
       "  optional double field_id=-1 pmdec_error;\n",
       "  optional double field_id=-1 ra_dec_corr;\n",
       "  optional double field_id=-1 ra_parallax_corr;\n",
       "  optional double field_id=-1 ra_pmra_corr;\n",
       "  optional double field_id=-1 ra_pmdec_corr;\n",
       "  optional double field_id=-1 dec_parallax_corr;\n",
       "  optional double field_id=-1 dec_pmra_corr;\n",
       "  optional double field_id=-1 dec_pmdec_corr;\n",
       "  optional double field_id=-1 parallax_pmra_corr;\n",
       "  optional double field_id=-1 parallax_pmdec_corr;\n",
       "  optional double field_id=-1 pmra_pmdec_corr;\n",
       "  optional int64 field_id=-1 astrometric_n_obs_al;\n",
       "  optional int64 field_id=-1 astrometric_n_obs_ac;\n",
       "  optional int64 field_id=-1 astrometric_n_good_obs_al;\n",
       "  optional int64 field_id=-1 astrometric_n_bad_obs_al;\n",
       "  optional double field_id=-1 astrometric_gof_al;\n",
       "  optional double field_id=-1 astrometric_chi2_al;\n",
       "  optional double field_id=-1 astrometric_excess_noise;\n",
       "  optional double field_id=-1 astrometric_excess_noise_sig;\n",
       "  optional int64 field_id=-1 astrometric_params_solved;\n",
       "  optional boolean field_id=-1 astrometric_primary_flag;\n",
       "  optional double field_id=-1 nu_eff_used_in_astrometry;\n",
       "  optional double field_id=-1 pseudocolour;\n",
       "  optional double field_id=-1 pseudocolour_error;\n",
       "  optional double field_id=-1 ra_pseudocolour_corr;\n",
       "  optional double field_id=-1 dec_pseudocolour_corr;\n",
       "  optional double field_id=-1 parallax_pseudocolour_corr;\n",
       "  optional double field_id=-1 pmra_pseudocolour_corr;\n",
       "  optional double field_id=-1 pmdec_pseudocolour_corr;\n",
       "  optional int64 field_id=-1 astrometric_matched_transits;\n",
       "  optional int64 field_id=-1 visibility_periods_used;\n",
       "  optional double field_id=-1 astrometric_sigma5d_max;\n",
       "  optional int64 field_id=-1 matched_transits;\n",
       "  optional int64 field_id=-1 new_matched_transits;\n",
       "  optional int64 field_id=-1 matched_transits_removed;\n",
       "  optional double field_id=-1 ipd_gof_harmonic_amplitude;\n",
       "  optional double field_id=-1 ipd_gof_harmonic_phase;\n",
       "  optional int64 field_id=-1 ipd_frac_multi_peak;\n",
       "  optional int64 field_id=-1 ipd_frac_odd_win;\n",
       "  optional double field_id=-1 ruwe;\n",
       "  optional double field_id=-1 scan_direction_strength_k1;\n",
       "  optional double field_id=-1 scan_direction_strength_k2;\n",
       "  optional double field_id=-1 scan_direction_strength_k3;\n",
       "  optional double field_id=-1 scan_direction_strength_k4;\n",
       "  optional double field_id=-1 scan_direction_mean_k1;\n",
       "  optional double field_id=-1 scan_direction_mean_k2;\n",
       "  optional double field_id=-1 scan_direction_mean_k3;\n",
       "  optional double field_id=-1 scan_direction_mean_k4;\n",
       "  optional boolean field_id=-1 duplicated_source;\n",
       "  optional int64 field_id=-1 phot_g_n_obs;\n",
       "  optional double field_id=-1 phot_g_mean_flux;\n",
       "  optional double field_id=-1 phot_g_mean_flux_error;\n",
       "  optional double field_id=-1 phot_g_mean_flux_over_error;\n",
       "  optional double field_id=-1 phot_g_mean_mag;\n",
       "  optional int64 field_id=-1 phot_bp_n_obs;\n",
       "  optional double field_id=-1 phot_bp_mean_flux;\n",
       "  optional double field_id=-1 phot_bp_mean_flux_error;\n",
       "  optional double field_id=-1 phot_bp_mean_flux_over_error;\n",
       "  optional double field_id=-1 phot_bp_mean_mag;\n",
       "  optional int64 field_id=-1 phot_rp_n_obs;\n",
       "  optional double field_id=-1 phot_rp_mean_flux;\n",
       "  optional double field_id=-1 phot_rp_mean_flux_error;\n",
       "  optional double field_id=-1 phot_rp_mean_flux_over_error;\n",
       "  optional double field_id=-1 phot_rp_mean_mag;\n",
       "  optional double field_id=-1 phot_bp_rp_excess_factor;\n",
       "  optional double field_id=-1 phot_bp_n_contaminated_transits;\n",
       "  optional double field_id=-1 phot_bp_n_blended_transits;\n",
       "  optional double field_id=-1 phot_rp_n_contaminated_transits;\n",
       "  optional double field_id=-1 phot_rp_n_blended_transits;\n",
       "  optional double field_id=-1 phot_proc_mode;\n",
       "  optional double field_id=-1 bp_rp;\n",
       "  optional double field_id=-1 bp_g;\n",
       "  optional double field_id=-1 g_rp;\n",
       "  optional double field_id=-1 radial_velocity;\n",
       "  optional double field_id=-1 radial_velocity_error;\n",
       "  optional double field_id=-1 rv_method_used;\n",
       "  optional double field_id=-1 rv_nb_transits;\n",
       "  optional double field_id=-1 rv_nb_deblended_transits;\n",
       "  optional double field_id=-1 rv_visibility_periods_used;\n",
       "  optional double field_id=-1 rv_expected_sig_to_noise;\n",
       "  optional double field_id=-1 rv_renormalised_gof;\n",
       "  optional double field_id=-1 rv_chisq_pvalue;\n",
       "  optional double field_id=-1 rv_time_duration;\n",
       "  optional double field_id=-1 rv_amplitude_robust;\n",
       "  optional double field_id=-1 rv_template_teff;\n",
       "  optional double field_id=-1 rv_template_logg;\n",
       "  optional double field_id=-1 rv_template_fe_h;\n",
       "  optional double field_id=-1 rv_atm_param_origin;\n",
       "  optional double field_id=-1 vbroad;\n",
       "  optional double field_id=-1 vbroad_error;\n",
       "  optional double field_id=-1 vbroad_nb_transits;\n",
       "  optional double field_id=-1 grvs_mag;\n",
       "  optional double field_id=-1 grvs_mag_error;\n",
       "  optional double field_id=-1 grvs_mag_nb_transits;\n",
       "  optional double field_id=-1 rvs_spec_sig_to_noise;\n",
       "  optional binary field_id=-1 phot_variable_flag (String);\n",
       "  optional double field_id=-1 l;\n",
       "  optional double field_id=-1 b;\n",
       "  optional double field_id=-1 ecl_lon;\n",
       "  optional double field_id=-1 ecl_lat;\n",
       "  optional boolean field_id=-1 in_qso_candidates;\n",
       "  optional boolean field_id=-1 in_galaxy_candidates;\n",
       "  optional int64 field_id=-1 non_single_star;\n",
       "  optional boolean field_id=-1 has_xp_continuous;\n",
       "  optional boolean field_id=-1 has_xp_sampled;\n",
       "  optional boolean field_id=-1 has_rvs;\n",
       "  optional boolean field_id=-1 has_epoch_photometry;\n",
       "  optional boolean field_id=-1 has_epoch_rv;\n",
       "  optional boolean field_id=-1 has_mcmc_gspphot;\n",
       "  optional boolean field_id=-1 has_mcmc_msc;\n",
       "  optional boolean field_id=-1 in_andromeda_survey;\n",
       "  optional double field_id=-1 classprob_dsc_combmod_quasar;\n",
       "  optional double field_id=-1 classprob_dsc_combmod_galaxy;\n",
       "  optional double field_id=-1 classprob_dsc_combmod_star;\n",
       "  optional double field_id=-1 teff_gspphot;\n",
       "  optional double field_id=-1 teff_gspphot_lower;\n",
       "  optional double field_id=-1 teff_gspphot_upper;\n",
       "  optional double field_id=-1 logg_gspphot;\n",
       "  optional double field_id=-1 logg_gspphot_lower;\n",
       "  optional double field_id=-1 logg_gspphot_upper;\n",
       "  optional double field_id=-1 mh_gspphot;\n",
       "  optional double field_id=-1 mh_gspphot_lower;\n",
       "  optional double field_id=-1 mh_gspphot_upper;\n",
       "  optional double field_id=-1 distance_gspphot;\n",
       "  optional double field_id=-1 distance_gspphot_lower;\n",
       "  optional double field_id=-1 distance_gspphot_upper;\n",
       "  optional double field_id=-1 azero_gspphot;\n",
       "  optional double field_id=-1 azero_gspphot_lower;\n",
       "  optional double field_id=-1 azero_gspphot_upper;\n",
       "  optional double field_id=-1 ag_gspphot;\n",
       "  optional double field_id=-1 ag_gspphot_lower;\n",
       "  optional double field_id=-1 ag_gspphot_upper;\n",
       "  optional double field_id=-1 ebpminrp_gspphot;\n",
       "  optional double field_id=-1 ebpminrp_gspphot_lower;\n",
       "  optional double field_id=-1 ebpminrp_gspphot_upper;\n",
       "  optional binary field_id=-1 libname_gspphot (String);\n",
       "  optional int32 field_id=-1 Norder;\n",
       "  optional int32 field_id=-1 Npix;\n",
       "  optional int32 field_id=-1 Dir;\n",
       "  optional int64 field_id=-1 _hipscat_index (Int(bitWidth=64, isSigned=false));\n",
       "}"
      ]
     },
     "execution_count": 3,
     "metadata": {},
     "output_type": "execute_result"
    }
   ],
   "source": [
    "total_metadata.schema"
   ]
  },
  {
   "cell_type": "markdown",
   "id": "9a8cc2ca",
   "metadata": {},
   "source": [
    "We're making a guess that the `ps1_objid` is uniformly distributed.\n",
    "\n",
    "First, find the minimum and maximum values across all of our data. We do this just by looking inside that `_metadata` file - we don't need to do a full catalog scan for these high-level statistics!\n",
    "\n",
    "But these are strings. We can build up some prefixes that will be used as division lower bounds.\n",
    "\n",
    "Think of this like the divisions between books in a large encyclopedia set: there's one book per letter of the alpbahet (but sometimes the \"S\" volume will get split up - but we don't know anything about our set of words right now)."
   ]
  },
  {
   "cell_type": "code",
   "execution_count": 5,
   "id": "1fc221ed",
   "metadata": {},
   "outputs": [
    {
     "name": "stdout",
     "output_type": "stream",
     "text": [
      "global min Gaia DR3 1000000057322000000\n",
      "global max Gaia DR3 999999988604363776\n",
      "num_row_groups 3933\n"
     ]
    }
   ],
   "source": [
    "import numpy as np\n",
    "\n",
    "global_min = total_metadata.row_group(0).column(index_column_idx).statistics.min\n",
    "global_max = total_metadata.row_group(0).column(index_column_idx).statistics.max\n",
    "\n",
    "for index in range(1, num_row_groups):\n",
    "    global_min = min(global_min, total_metadata.row_group(index).column(index_column_idx).statistics.min)\n",
    "    global_max = max(global_max, total_metadata.row_group(index).column(index_column_idx).statistics.max)\n",
    "\n",
    "print(\"global min\", global_min)\n",
    "print(\"global max\", global_max)\n",
    "print(\"num_row_groups\", num_row_groups)"
   ]
  },
  {
   "cell_type": "markdown",
   "id": "fb9c5a77",
   "metadata": {},
   "source": [
    "You can take a look at what the prefixes look like:"
   ]
  },
  {
   "cell_type": "code",
   "execution_count": 12,
   "id": "026028af",
   "metadata": {},
   "outputs": [
    {
     "data": {
      "text/plain": [
       "['Gaia DR3 99775',\n",
       " 'Gaia DR3 99800',\n",
       " 'Gaia DR3 99825',\n",
       " 'Gaia DR3 99850',\n",
       " 'Gaia DR3 99875',\n",
       " 'Gaia DR3 99900',\n",
       " 'Gaia DR3 99925',\n",
       " 'Gaia DR3 99950',\n",
       " 'Gaia DR3 99975',\n",
       " 'Gaia DR3 999999988604363776']"
      ]
     },
     "execution_count": 12,
     "metadata": {},
     "output_type": "execute_result"
    }
   ],
   "source": [
    "int_range = np.arange(start = 10000, stop = 99999, step = 25)\n",
    "divisions = [f\"Gaia DR3 {i}\" for i in range(10000, 99999, 25)]\n",
    "divisions.append(global_max)\n",
    "divisions[-10:]"
   ]
  }
 ],
 "metadata": {
  "kernelspec": {
   "display_name": "Melissa LSDB",
   "language": "python",
   "name": "mmd11_lsdb"
  },
  "language_info": {
   "codemirror_mode": {
    "name": "ipython",
    "version": 3
   },
   "file_extension": ".py",
   "mimetype": "text/x-python",
   "name": "python",
   "nbconvert_exporter": "python",
   "pygments_lexer": "ipython3",
   "version": "3.10.13"
  }
 },
 "nbformat": 4,
 "nbformat_minor": 5
}
