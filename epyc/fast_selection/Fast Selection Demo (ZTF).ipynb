{
 "cells": [
  {
   "cell_type": "markdown",
   "id": "f7e5b09e",
   "metadata": {},
   "source": [
    "# Fast selection on object id\n",
    "\n",
    "Little demo of finding an object by its ID in hipscat, if you don't know the radec.\n",
    "\n",
    "Start by looking at the hipscat-library index catalog."
   ]
  },
  {
   "cell_type": "code",
   "execution_count": 1,
   "id": "66d623ad",
   "metadata": {},
   "outputs": [
    {
     "data": {
      "text/plain": [
       "<hipscat.catalog.index.index_catalog.IndexCatalog at 0x7f407551eb90>"
      ]
     },
     "execution_count": 1,
     "metadata": {},
     "output_type": "execute_result"
    }
   ],
   "source": [
    "from hipscat.catalog.index.index_catalog import IndexCatalog\n",
    "import pandas as pd\n",
    "\n",
    "catalog_index = IndexCatalog.read_from_hipscat(\"/data3/epyc/data3/hipscat/test_catalogs/ztf_id_div_dup\")\n",
    "catalog_index"
   ]
  },
  {
   "cell_type": "markdown",
   "id": "e1f7a9d3",
   "metadata": {},
   "source": [
    "Let's check the index catalog, and see if we can reduce this list of IDs into just those pixels of interest."
   ]
  },
  {
   "cell_type": "code",
   "execution_count": 2,
   "id": "3e011f17",
   "metadata": {},
   "outputs": [],
   "source": [
    "ids = [201943149957568411, 71432281499077498]"
   ]
  },
  {
   "cell_type": "code",
   "execution_count": 3,
   "id": "a2d945d7",
   "metadata": {},
   "outputs": [
    {
     "name": "stdout",
     "output_type": "stream",
     "text": [
      "CPU times: user 1min 59s, sys: 19.3 s, total: 2min 18s\n",
      "Wall time: 19.8 s\n"
     ]
    },
    {
     "data": {
      "text/plain": [
       "array([Order: 3, Pixel: 255, Order: 3, Pixel: 689], dtype=object)"
      ]
     },
     "execution_count": 3,
     "metadata": {},
     "output_type": "execute_result"
    }
   ],
   "source": [
    "%%time\n",
    "partitions = catalog_index.loc_partitions(ids)\n",
    "partitions"
   ]
  },
  {
   "cell_type": "markdown",
   "id": "d8691bc1",
   "metadata": {},
   "source": [
    "Now let's try that with lsdb, and fetch the full rows of these objects."
   ]
  },
  {
   "cell_type": "code",
   "execution_count": 4,
   "id": "4df5b899",
   "metadata": {},
   "outputs": [
    {
     "name": "stdout",
     "output_type": "stream",
     "text": [
      "CPU times: user 1.07 s, sys: 243 ms, total: 1.31 s\n",
      "Wall time: 2.03 s\n"
     ]
    }
   ],
   "source": [
    "%%time\n",
    "import lsdb\n",
    "\n",
    "ztf = lsdb.read_hipscat(\"/data3/epyc/data3/hipscat/catalogs/ztf_axs/ztf_dr14\")"
   ]
  },
  {
   "cell_type": "code",
   "execution_count": 5,
   "id": "fd65ce14",
   "metadata": {},
   "outputs": [
    {
     "name": "stdout",
     "output_type": "stream",
     "text": [
      "CPU times: user 2min 2s, sys: 18.7 s, total: 2min 20s\n",
      "Wall time: 20.2 s\n"
     ]
    },
    {
     "data": {
      "text/html": [
       "<div>\n",
       "<style scoped>\n",
       "    .dataframe tbody tr th:only-of-type {\n",
       "        vertical-align: middle;\n",
       "    }\n",
       "\n",
       "    .dataframe tbody tr th {\n",
       "        vertical-align: top;\n",
       "    }\n",
       "\n",
       "    .dataframe thead th {\n",
       "        text-align: right;\n",
       "    }\n",
       "</style>\n",
       "<table border=\"1\" class=\"dataframe\">\n",
       "  <thead>\n",
       "    <tr style=\"text-align: right;\">\n",
       "      <th></th>\n",
       "      <th>ps1_objid</th>\n",
       "      <th>ra</th>\n",
       "      <th>dec</th>\n",
       "      <th>ps1_gMeanPSFMag</th>\n",
       "      <th>ps1_rMeanPSFMag</th>\n",
       "      <th>ps1_iMeanPSFMag</th>\n",
       "      <th>nobs_g</th>\n",
       "      <th>nobs_r</th>\n",
       "      <th>nobs_i</th>\n",
       "      <th>mean_mag_g</th>\n",
       "      <th>mean_mag_r</th>\n",
       "      <th>mean_mag_i</th>\n",
       "      <th>Norder</th>\n",
       "      <th>Dir</th>\n",
       "      <th>Npix</th>\n",
       "    </tr>\n",
       "    <tr>\n",
       "      <th>_hipscat_index</th>\n",
       "      <th></th>\n",
       "      <th></th>\n",
       "      <th></th>\n",
       "      <th></th>\n",
       "      <th></th>\n",
       "      <th></th>\n",
       "      <th></th>\n",
       "      <th></th>\n",
       "      <th></th>\n",
       "      <th></th>\n",
       "      <th></th>\n",
       "      <th></th>\n",
       "      <th></th>\n",
       "      <th></th>\n",
       "      <th></th>\n",
       "    </tr>\n",
       "  </thead>\n",
       "  <tbody>\n",
       "    <tr>\n",
       "      <th>4593671629992624128</th>\n",
       "      <td>201943149957568411</td>\n",
       "      <td>314.995621</td>\n",
       "      <td>78.289768</td>\n",
       "      <td>21.756800</td>\n",
       "      <td>20.898399</td>\n",
       "      <td>20.4144</td>\n",
       "      <td>27</td>\n",
       "      <td>206</td>\n",
       "      <td>0</td>\n",
       "      <td>21.340072</td>\n",
       "      <td>20.703853</td>\n",
       "      <td>NaN</td>\n",
       "      <td>3</td>\n",
       "      <td>0</td>\n",
       "      <td>255</td>\n",
       "    </tr>\n",
       "    <tr>\n",
       "      <th>12421909218620080128</th>\n",
       "      <td>71432281499077498</td>\n",
       "      <td>228.150040</td>\n",
       "      <td>-30.469103</td>\n",
       "      <td>20.994301</td>\n",
       "      <td>20.206699</td>\n",
       "      <td>19.8867</td>\n",
       "      <td>5</td>\n",
       "      <td>0</td>\n",
       "      <td>0</td>\n",
       "      <td>20.634094</td>\n",
       "      <td>NaN</td>\n",
       "      <td>NaN</td>\n",
       "      <td>3</td>\n",
       "      <td>0</td>\n",
       "      <td>689</td>\n",
       "    </tr>\n",
       "  </tbody>\n",
       "</table>\n",
       "</div>"
      ],
      "text/plain": [
       "                               ps1_objid          ra        dec  \\\n",
       "_hipscat_index                                                    \n",
       "4593671629992624128   201943149957568411  314.995621  78.289768   \n",
       "12421909218620080128   71432281499077498  228.150040 -30.469103   \n",
       "\n",
       "                      ps1_gMeanPSFMag  ps1_rMeanPSFMag  ps1_iMeanPSFMag  \\\n",
       "_hipscat_index                                                            \n",
       "4593671629992624128         21.756800        20.898399          20.4144   \n",
       "12421909218620080128        20.994301        20.206699          19.8867   \n",
       "\n",
       "                      nobs_g  nobs_r  nobs_i  mean_mag_g  mean_mag_r  \\\n",
       "_hipscat_index                                                         \n",
       "4593671629992624128       27     206       0   21.340072   20.703853   \n",
       "12421909218620080128       5       0       0   20.634094         NaN   \n",
       "\n",
       "                      mean_mag_i  Norder  Dir  Npix  \n",
       "_hipscat_index                                       \n",
       "4593671629992624128          NaN       3    0   255  \n",
       "12421909218620080128         NaN       3    0   689  "
      ]
     },
     "execution_count": 5,
     "metadata": {},
     "output_type": "execute_result"
    }
   ],
   "source": [
    "%%time\n",
    "index_search_df = ztf.index_search(ids, catalog_index).compute()\n",
    "index_search_df"
   ]
  }
 ],
 "metadata": {
  "kernelspec": {
   "display_name": "Melissa LSDB",
   "language": "python",
   "name": "mmd11_lsdb"
  },
  "language_info": {
   "codemirror_mode": {
    "name": "ipython",
    "version": 3
   },
   "file_extension": ".py",
   "mimetype": "text/x-python",
   "name": "python",
   "nbconvert_exporter": "python",
   "pygments_lexer": "ipython3",
   "version": "3.10.13"
  }
 },
 "nbformat": 4,
 "nbformat_minor": 5
}
