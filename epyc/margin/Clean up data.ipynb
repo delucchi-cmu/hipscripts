{
 "cells": [
  {
   "cell_type": "code",
   "execution_count": 11,
   "id": "63983532",
   "metadata": {},
   "outputs": [
    {
     "data": {
      "text/plain": [
       "3933"
      ]
     },
     "execution_count": 11,
     "metadata": {},
     "output_type": "execute_result"
    }
   ],
   "source": [
    "\n",
    "from hipscat.catalog import Catalog\n",
    "import os\n",
    "import tempfile\n",
    "import shutil\n",
    "\n",
    "path = \"/data3/epyc/data3/hipscat/catalogs/gaia_dr3/gaia\"\n",
    "\n",
    "catalog = Catalog.read_from_hipscat(path)\n",
    "len(catalog.get_healpix_pixels())"
   ]
  },
  {
   "cell_type": "code",
   "execution_count": 12,
   "id": "297eac17",
   "metadata": {},
   "outputs": [],
   "source": [
    "catalog.partition_info.write_to_file(partition_info_file = os.path.join(path, \"partition_info.csv\"))"
   ]
  },
  {
   "cell_type": "code",
   "execution_count": 13,
   "id": "2a8ad5e2",
   "metadata": {},
   "outputs": [
    {
     "data": {
      "text/plain": [
       "3933"
      ]
     },
     "execution_count": 13,
     "metadata": {},
     "output_type": "execute_result"
    }
   ],
   "source": [
    "catalog = Catalog.read_from_hipscat(path)\n",
    "len(catalog.get_healpix_pixels())\n"
   ]
  },
  {
   "cell_type": "markdown",
   "id": "048584fc",
   "metadata": {},
   "source": [
    "## Initialize some almanac entries\n",
    "\n",
    "We don't really have almanac entries for ANY of the catalogs we've created recently. So let's just try to create them, then adjust the metadata on them manually as necessary."
   ]
  },
  {
   "cell_type": "code",
   "execution_count": 4,
   "id": "5bda46f2",
   "metadata": {},
   "outputs": [
    {
     "name": "stdout",
     "output_type": "stream",
     "text": [
      "env: HIPSCAT_ALMANAC_DIR=/data3/epyc/data3/hipscat/almanac\n"
     ]
    }
   ],
   "source": [
    "%env HIPSCAT_ALMANAC_DIR=/data3/epyc/data3/hipscat/almanac"
   ]
  },
  {
   "cell_type": "code",
   "execution_count": 5,
   "id": "57f64588",
   "metadata": {},
   "outputs": [
    {
     "data": {
      "text/plain": [
       "'/data3/epyc/data3/hipscat/almanac'"
      ]
     },
     "execution_count": 5,
     "metadata": {},
     "output_type": "execute_result"
    }
   ],
   "source": [
    "from hipscat.inspection.almanac import Almanac\n",
    "from hipscat.inspection.almanac_info import AlmanacInfo\n",
    "\n",
    "AlmanacInfo.get_default_dir()"
   ]
  },
  {
   "cell_type": "code",
   "execution_count": 27,
   "id": "5d7f244d",
   "metadata": {},
   "outputs": [
    {
     "ename": "ValueError",
     "evalue": "File already exists at path /data3/epyc/data3/hipscat/catalogs/almanac/zubercal.yml",
     "output_type": "error",
     "traceback": [
      "\u001b[0;31m---------------------------------------------------------------------------\u001b[0m",
      "\u001b[0;31mValueError\u001b[0m                                Traceback (most recent call last)",
      "Cell \u001b[0;32mIn[27], line 2\u001b[0m\n\u001b[1;32m      1\u001b[0m almanac_info \u001b[38;5;241m=\u001b[39m AlmanacInfo\u001b[38;5;241m.\u001b[39mfrom_catalog_dir(\u001b[38;5;124m\"\u001b[39m\u001b[38;5;124m/data3/epyc/data3/hipscat/catalogs/zubercal\u001b[39m\u001b[38;5;124m\"\u001b[39m)\n\u001b[0;32m----> 2\u001b[0m \u001b[43malmanac_info\u001b[49m\u001b[38;5;241;43m.\u001b[39;49m\u001b[43mwrite_to_file\u001b[49m\u001b[43m(\u001b[49m\u001b[43m)\u001b[49m\n",
      "File \u001b[0;32m~/git/hipscat/src/hipscat/inspection/almanac_info.py:122\u001b[0m, in \u001b[0;36mAlmanacInfo.write_to_file\u001b[0;34m(self, directory, default_dir, fmt, storage_options)\u001b[0m\n\u001b[1;32m    118\u001b[0m file_path \u001b[38;5;241m=\u001b[39m file_io\u001b[38;5;241m.\u001b[39mappend_paths_to_pointer(\n\u001b[1;32m    119\u001b[0m     file_io\u001b[38;5;241m.\u001b[39mget_file_pointer_from_path(directory), \u001b[38;5;124mf\u001b[39m\u001b[38;5;124m\"\u001b[39m\u001b[38;5;132;01m{\u001b[39;00m\u001b[38;5;28mself\u001b[39m\u001b[38;5;241m.\u001b[39mcatalog_name\u001b[38;5;132;01m}\u001b[39;00m\u001b[38;5;124m.\u001b[39m\u001b[38;5;132;01m{\u001b[39;00mfmt\u001b[38;5;132;01m}\u001b[39;00m\u001b[38;5;124m\"\u001b[39m\n\u001b[1;32m    120\u001b[0m )\n\u001b[1;32m    121\u001b[0m \u001b[38;5;28;01mif\u001b[39;00m file_io\u001b[38;5;241m.\u001b[39mdoes_file_or_directory_exist(file_path, storage_options\u001b[38;5;241m=\u001b[39mstorage_options):\n\u001b[0;32m--> 122\u001b[0m     \u001b[38;5;28;01mraise\u001b[39;00m \u001b[38;5;167;01mValueError\u001b[39;00m(\u001b[38;5;124mf\u001b[39m\u001b[38;5;124m\"\u001b[39m\u001b[38;5;124mFile already exists at path \u001b[39m\u001b[38;5;132;01m{\u001b[39;00m\u001b[38;5;28mstr\u001b[39m(file_path)\u001b[38;5;132;01m}\u001b[39;00m\u001b[38;5;124m\"\u001b[39m)\n\u001b[1;32m    124\u001b[0m args \u001b[38;5;241m=\u001b[39m {\n\u001b[1;32m    125\u001b[0m     \u001b[38;5;124m\"\u001b[39m\u001b[38;5;124mcatalog_path\u001b[39m\u001b[38;5;124m\"\u001b[39m: \u001b[38;5;28mself\u001b[39m\u001b[38;5;241m.\u001b[39mcatalog_path,\n\u001b[1;32m    126\u001b[0m     \u001b[38;5;124m\"\u001b[39m\u001b[38;5;124mcatalog_name\u001b[39m\u001b[38;5;124m\"\u001b[39m: \u001b[38;5;28mself\u001b[39m\u001b[38;5;241m.\u001b[39mcatalog_name,\n\u001b[0;32m   (...)\u001b[0m\n\u001b[1;32m    130\u001b[0m     \u001b[38;5;124m\"\u001b[39m\u001b[38;5;124mcatalog_info\u001b[39m\u001b[38;5;124m\"\u001b[39m: \u001b[38;5;28mself\u001b[39m\u001b[38;5;241m.\u001b[39mcatalog_info,\n\u001b[1;32m    131\u001b[0m }\n\u001b[1;32m    132\u001b[0m \u001b[38;5;28;01mif\u001b[39;00m \u001b[38;5;28mself\u001b[39m\u001b[38;5;241m.\u001b[39mprimary:\n",
      "\u001b[0;31mValueError\u001b[0m: File already exists at path /data3/epyc/data3/hipscat/catalogs/almanac/zubercal.yml"
     ]
    }
   ],
   "source": [
    "almanac_info = AlmanacInfo.from_catalog_dir(\"/data3/epyc/data3/hipscat/catalogs/zubercal\")\n",
    "almanac_info.write_to_file()"
   ]
  },
  {
   "cell_type": "code",
   "execution_count": 28,
   "id": "a880ca24",
   "metadata": {},
   "outputs": [],
   "source": [
    "almanac_info = AlmanacInfo.from_catalog_dir(\"/data3/epyc/data3/hipscat/catalogs/dr16q_constant\")\n",
    "almanac_info.write_to_file()"
   ]
  },
  {
   "cell_type": "code",
   "execution_count": 29,
   "id": "218d7c46",
   "metadata": {},
   "outputs": [],
   "source": [
    "almanac_info = AlmanacInfo.from_catalog_dir(\"/data3/epyc/data3/hipscat/catalogs/ps1/ps1_otmo\")\n",
    "almanac_info.write_to_file()"
   ]
  },
  {
   "cell_type": "code",
   "execution_count": 7,
   "id": "3a378a79",
   "metadata": {},
   "outputs": [],
   "source": [
    "almanac_info = AlmanacInfo.from_catalog_dir(\"/data3/epyc/data3/hipscat/catalogs/allwise/allwise_10arcs\")\n",
    "almanac_info.write_to_file()"
   ]
  },
  {
   "cell_type": "code",
   "execution_count": 31,
   "id": "ca099705",
   "metadata": {},
   "outputs": [],
   "source": [
    "almanac_info = AlmanacInfo.from_catalog_dir(\"/data3/epyc/data3/hipscat/catalogs/ztf_axs/ztf_dr14\")\n",
    "almanac_info.write_to_file()"
   ]
  },
  {
   "cell_type": "code",
   "execution_count": 34,
   "id": "9e810118",
   "metadata": {},
   "outputs": [],
   "source": [
    "almanac_info = AlmanacInfo.from_catalog_dir(\"/data3/epyc/data3/hipscat/catalogs/gaia/gaia\")\n",
    "almanac_info.write_to_file()"
   ]
  },
  {
   "cell_type": "code",
   "execution_count": 35,
   "id": "747bd30b",
   "metadata": {},
   "outputs": [],
   "source": [
    "almanac_info = AlmanacInfo.from_catalog_dir(\"/data3/epyc/data3/hipscat/catalogs/gaia/gaia_designation_index\")\n",
    "almanac_info.write_to_file()"
   ]
  },
  {
   "cell_type": "code",
   "execution_count": 36,
   "id": "aa12de31",
   "metadata": {},
   "outputs": [
    {
     "ename": "FileNotFoundError",
     "evalue": "[Errno 2] No such file or directory: '/data3/epyc/data3/hipscat/catalogs/gaia/gaia_10arcs/catalog_info.json'",
     "output_type": "error",
     "traceback": [
      "\u001b[0;31m---------------------------------------------------------------------------\u001b[0m",
      "\u001b[0;31mFileNotFoundError\u001b[0m                         Traceback (most recent call last)",
      "Cell \u001b[0;32mIn[36], line 1\u001b[0m\n\u001b[0;32m----> 1\u001b[0m almanac_info \u001b[38;5;241m=\u001b[39m \u001b[43mAlmanacInfo\u001b[49m\u001b[38;5;241;43m.\u001b[39;49m\u001b[43mfrom_catalog_dir\u001b[49m\u001b[43m(\u001b[49m\u001b[38;5;124;43m\"\u001b[39;49m\u001b[38;5;124;43m/data3/epyc/data3/hipscat/catalogs/gaia/gaia_10arcs\u001b[39;49m\u001b[38;5;124;43m\"\u001b[39;49m\u001b[43m)\u001b[49m\n\u001b[1;32m      2\u001b[0m almanac_info\u001b[38;5;241m.\u001b[39mwrite_to_file()\n",
      "File \u001b[0;32m~/git/hipscat/src/hipscat/inspection/almanac_info.py:82\u001b[0m, in \u001b[0;36mAlmanacInfo.from_catalog_dir\u001b[0;34m(cls, catalog_base_dir, storage_options)\u001b[0m\n\u001b[1;32m     77\u001b[0m \u001b[38;5;129m@classmethod\u001b[39m\n\u001b[1;32m     78\u001b[0m \u001b[38;5;28;01mdef\u001b[39;00m \u001b[38;5;21mfrom_catalog_dir\u001b[39m(\n\u001b[1;32m     79\u001b[0m     \u001b[38;5;28mcls\u001b[39m, catalog_base_dir: \u001b[38;5;28mstr\u001b[39m, storage_options: Union[Dict[Any, Any], \u001b[38;5;28;01mNone\u001b[39;00m] \u001b[38;5;241m=\u001b[39m \u001b[38;5;28;01mNone\u001b[39;00m\n\u001b[1;32m     80\u001b[0m ) \u001b[38;5;241m-\u001b[39m\u001b[38;5;241m>\u001b[39m Self:\n\u001b[1;32m     81\u001b[0m \u001b[38;5;250m    \u001b[39m\u001b[38;5;124;03m\"\"\"Create almanac information from the catalog information found at the target directory\"\"\"\u001b[39;00m\n\u001b[0;32m---> 82\u001b[0m     catalog_info \u001b[38;5;241m=\u001b[39m \u001b[43mcatalog_info_factory\u001b[49m\u001b[38;5;241;43m.\u001b[39;49m\u001b[43mfrom_catalog_dir\u001b[49m\u001b[43m(\u001b[49m\n\u001b[1;32m     83\u001b[0m \u001b[43m        \u001b[49m\u001b[43mcatalog_base_dir\u001b[49m\u001b[38;5;241;43m=\u001b[39;49m\u001b[43mfile_io\u001b[49m\u001b[38;5;241;43m.\u001b[39;49m\u001b[43mget_file_pointer_from_path\u001b[49m\u001b[43m(\u001b[49m\u001b[43mcatalog_base_dir\u001b[49m\u001b[43m)\u001b[49m\u001b[43m,\u001b[49m\n\u001b[1;32m     84\u001b[0m \u001b[43m        \u001b[49m\u001b[43mstorage_options\u001b[49m\u001b[38;5;241;43m=\u001b[39;49m\u001b[43mstorage_options\u001b[49m\u001b[43m,\u001b[49m\n\u001b[1;32m     85\u001b[0m \u001b[43m    \u001b[49m\u001b[43m)\u001b[49m\n\u001b[1;32m     86\u001b[0m     args \u001b[38;5;241m=\u001b[39m {\n\u001b[1;32m     87\u001b[0m         \u001b[38;5;124m\"\u001b[39m\u001b[38;5;124mcatalog_path\u001b[39m\u001b[38;5;124m\"\u001b[39m: catalog_base_dir,\n\u001b[1;32m     88\u001b[0m         \u001b[38;5;124m\"\u001b[39m\u001b[38;5;124mcatalog_name\u001b[39m\u001b[38;5;124m\"\u001b[39m: catalog_info\u001b[38;5;241m.\u001b[39mcatalog_name,\n\u001b[0;32m   (...)\u001b[0m\n\u001b[1;32m     91\u001b[0m         \u001b[38;5;124m\"\u001b[39m\u001b[38;5;124mcatalog_info\u001b[39m\u001b[38;5;124m\"\u001b[39m: dataclasses\u001b[38;5;241m.\u001b[39masdict(catalog_info),\n\u001b[1;32m     92\u001b[0m     }\n\u001b[1;32m     93\u001b[0m     \u001b[38;5;28;01mreturn\u001b[39;00m \u001b[38;5;28mcls\u001b[39m(\u001b[38;5;241m*\u001b[39m\u001b[38;5;241m*\u001b[39margs)\n",
      "File \u001b[0;32m~/git/hipscat/src/hipscat/catalog/dataset/catalog_info_factory.py:71\u001b[0m, in \u001b[0;36mfrom_catalog_dir\u001b[0;34m(catalog_base_dir, storage_options)\u001b[0m\n\u001b[1;32m     69\u001b[0m \u001b[38;5;28;01melse\u001b[39;00m:\n\u001b[1;32m     70\u001b[0m     catalog_info_file \u001b[38;5;241m=\u001b[39m paths\u001b[38;5;241m.\u001b[39mget_catalog_info_pointer(catalog_base_dir)\n\u001b[0;32m---> 71\u001b[0m     metadata_keywords \u001b[38;5;241m=\u001b[39m \u001b[43mfile_io\u001b[49m\u001b[38;5;241;43m.\u001b[39;49m\u001b[43mload_json_file\u001b[49m\u001b[43m(\u001b[49m\u001b[43mcatalog_info_file\u001b[49m\u001b[43m,\u001b[49m\u001b[43m \u001b[49m\u001b[43mstorage_options\u001b[49m\u001b[38;5;241;43m=\u001b[39;49m\u001b[43mstorage_options\u001b[49m\u001b[43m)\u001b[49m\n\u001b[1;32m     72\u001b[0m \u001b[38;5;28;01mreturn\u001b[39;00m create_catalog_info(metadata_keywords)\n",
      "File \u001b[0;32m~/git/hipscat/src/hipscat/io/file_io/file_io.py:114\u001b[0m, in \u001b[0;36mload_json_file\u001b[0;34m(file_pointer, encoding, storage_options)\u001b[0m\n\u001b[1;32m    112\u001b[0m json_dict \u001b[38;5;241m=\u001b[39m \u001b[38;5;28;01mNone\u001b[39;00m\n\u001b[1;32m    113\u001b[0m file_system, file_pointer \u001b[38;5;241m=\u001b[39m get_fs(file_pointer, storage_options)\n\u001b[0;32m--> 114\u001b[0m \u001b[38;5;28;01mwith\u001b[39;00m \u001b[43mfile_system\u001b[49m\u001b[38;5;241;43m.\u001b[39;49m\u001b[43mopen\u001b[49m\u001b[43m(\u001b[49m\u001b[43mfile_pointer\u001b[49m\u001b[43m,\u001b[49m\u001b[43m \u001b[49m\u001b[38;5;124;43m\"\u001b[39;49m\u001b[38;5;124;43mr\u001b[39;49m\u001b[38;5;124;43m\"\u001b[39;49m\u001b[43m,\u001b[49m\u001b[43m \u001b[49m\u001b[43mencoding\u001b[49m\u001b[38;5;241;43m=\u001b[39;49m\u001b[43mencoding\u001b[49m\u001b[43m)\u001b[49m \u001b[38;5;28;01mas\u001b[39;00m json_file:\n\u001b[1;32m    115\u001b[0m     json_dict \u001b[38;5;241m=\u001b[39m json\u001b[38;5;241m.\u001b[39mload(json_file)\n\u001b[1;32m    117\u001b[0m \u001b[38;5;28;01mreturn\u001b[39;00m json_dict\n",
      "File \u001b[0;32m~/.conda/envs/hipscatenv/lib/python3.10/site-packages/fsspec/spec.py:1297\u001b[0m, in \u001b[0;36mAbstractFileSystem.open\u001b[0;34m(self, path, mode, block_size, cache_options, compression, **kwargs)\u001b[0m\n\u001b[1;32m   1289\u001b[0m     mode \u001b[38;5;241m=\u001b[39m mode\u001b[38;5;241m.\u001b[39mreplace(\u001b[38;5;124m\"\u001b[39m\u001b[38;5;124mt\u001b[39m\u001b[38;5;124m\"\u001b[39m, \u001b[38;5;124m\"\u001b[39m\u001b[38;5;124m\"\u001b[39m) \u001b[38;5;241m+\u001b[39m \u001b[38;5;124m\"\u001b[39m\u001b[38;5;124mb\u001b[39m\u001b[38;5;124m\"\u001b[39m\n\u001b[1;32m   1291\u001b[0m     text_kwargs \u001b[38;5;241m=\u001b[39m {\n\u001b[1;32m   1292\u001b[0m         k: kwargs\u001b[38;5;241m.\u001b[39mpop(k)\n\u001b[1;32m   1293\u001b[0m         \u001b[38;5;28;01mfor\u001b[39;00m k \u001b[38;5;129;01min\u001b[39;00m [\u001b[38;5;124m\"\u001b[39m\u001b[38;5;124mencoding\u001b[39m\u001b[38;5;124m\"\u001b[39m, \u001b[38;5;124m\"\u001b[39m\u001b[38;5;124merrors\u001b[39m\u001b[38;5;124m\"\u001b[39m, \u001b[38;5;124m\"\u001b[39m\u001b[38;5;124mnewline\u001b[39m\u001b[38;5;124m\"\u001b[39m]\n\u001b[1;32m   1294\u001b[0m         \u001b[38;5;28;01mif\u001b[39;00m k \u001b[38;5;129;01min\u001b[39;00m kwargs\n\u001b[1;32m   1295\u001b[0m     }\n\u001b[1;32m   1296\u001b[0m     \u001b[38;5;28;01mreturn\u001b[39;00m io\u001b[38;5;241m.\u001b[39mTextIOWrapper(\n\u001b[0;32m-> 1297\u001b[0m         \u001b[38;5;28;43mself\u001b[39;49m\u001b[38;5;241;43m.\u001b[39;49m\u001b[43mopen\u001b[49m\u001b[43m(\u001b[49m\n\u001b[1;32m   1298\u001b[0m \u001b[43m            \u001b[49m\u001b[43mpath\u001b[49m\u001b[43m,\u001b[49m\n\u001b[1;32m   1299\u001b[0m \u001b[43m            \u001b[49m\u001b[43mmode\u001b[49m\u001b[43m,\u001b[49m\n\u001b[1;32m   1300\u001b[0m \u001b[43m            \u001b[49m\u001b[43mblock_size\u001b[49m\u001b[38;5;241;43m=\u001b[39;49m\u001b[43mblock_size\u001b[49m\u001b[43m,\u001b[49m\n\u001b[1;32m   1301\u001b[0m \u001b[43m            \u001b[49m\u001b[43mcache_options\u001b[49m\u001b[38;5;241;43m=\u001b[39;49m\u001b[43mcache_options\u001b[49m\u001b[43m,\u001b[49m\n\u001b[1;32m   1302\u001b[0m \u001b[43m            \u001b[49m\u001b[43mcompression\u001b[49m\u001b[38;5;241;43m=\u001b[39;49m\u001b[43mcompression\u001b[49m\u001b[43m,\u001b[49m\n\u001b[1;32m   1303\u001b[0m \u001b[43m            \u001b[49m\u001b[38;5;241;43m*\u001b[39;49m\u001b[38;5;241;43m*\u001b[39;49m\u001b[43mkwargs\u001b[49m\u001b[43m,\u001b[49m\n\u001b[1;32m   1304\u001b[0m \u001b[43m        \u001b[49m\u001b[43m)\u001b[49m,\n\u001b[1;32m   1305\u001b[0m         \u001b[38;5;241m*\u001b[39m\u001b[38;5;241m*\u001b[39mtext_kwargs,\n\u001b[1;32m   1306\u001b[0m     )\n\u001b[1;32m   1307\u001b[0m \u001b[38;5;28;01melse\u001b[39;00m:\n\u001b[1;32m   1308\u001b[0m     ac \u001b[38;5;241m=\u001b[39m kwargs\u001b[38;5;241m.\u001b[39mpop(\u001b[38;5;124m\"\u001b[39m\u001b[38;5;124mautocommit\u001b[39m\u001b[38;5;124m\"\u001b[39m, \u001b[38;5;129;01mnot\u001b[39;00m \u001b[38;5;28mself\u001b[39m\u001b[38;5;241m.\u001b[39m_intrans)\n",
      "File \u001b[0;32m~/.conda/envs/hipscatenv/lib/python3.10/site-packages/fsspec/spec.py:1309\u001b[0m, in \u001b[0;36mAbstractFileSystem.open\u001b[0;34m(self, path, mode, block_size, cache_options, compression, **kwargs)\u001b[0m\n\u001b[1;32m   1307\u001b[0m \u001b[38;5;28;01melse\u001b[39;00m:\n\u001b[1;32m   1308\u001b[0m     ac \u001b[38;5;241m=\u001b[39m kwargs\u001b[38;5;241m.\u001b[39mpop(\u001b[38;5;124m\"\u001b[39m\u001b[38;5;124mautocommit\u001b[39m\u001b[38;5;124m\"\u001b[39m, \u001b[38;5;129;01mnot\u001b[39;00m \u001b[38;5;28mself\u001b[39m\u001b[38;5;241m.\u001b[39m_intrans)\n\u001b[0;32m-> 1309\u001b[0m     f \u001b[38;5;241m=\u001b[39m \u001b[38;5;28;43mself\u001b[39;49m\u001b[38;5;241;43m.\u001b[39;49m\u001b[43m_open\u001b[49m\u001b[43m(\u001b[49m\n\u001b[1;32m   1310\u001b[0m \u001b[43m        \u001b[49m\u001b[43mpath\u001b[49m\u001b[43m,\u001b[49m\n\u001b[1;32m   1311\u001b[0m \u001b[43m        \u001b[49m\u001b[43mmode\u001b[49m\u001b[38;5;241;43m=\u001b[39;49m\u001b[43mmode\u001b[49m\u001b[43m,\u001b[49m\n\u001b[1;32m   1312\u001b[0m \u001b[43m        \u001b[49m\u001b[43mblock_size\u001b[49m\u001b[38;5;241;43m=\u001b[39;49m\u001b[43mblock_size\u001b[49m\u001b[43m,\u001b[49m\n\u001b[1;32m   1313\u001b[0m \u001b[43m        \u001b[49m\u001b[43mautocommit\u001b[49m\u001b[38;5;241;43m=\u001b[39;49m\u001b[43mac\u001b[49m\u001b[43m,\u001b[49m\n\u001b[1;32m   1314\u001b[0m \u001b[43m        \u001b[49m\u001b[43mcache_options\u001b[49m\u001b[38;5;241;43m=\u001b[39;49m\u001b[43mcache_options\u001b[49m\u001b[43m,\u001b[49m\n\u001b[1;32m   1315\u001b[0m \u001b[43m        \u001b[49m\u001b[38;5;241;43m*\u001b[39;49m\u001b[38;5;241;43m*\u001b[39;49m\u001b[43mkwargs\u001b[49m\u001b[43m,\u001b[49m\n\u001b[1;32m   1316\u001b[0m \u001b[43m    \u001b[49m\u001b[43m)\u001b[49m\n\u001b[1;32m   1317\u001b[0m     \u001b[38;5;28;01mif\u001b[39;00m compression \u001b[38;5;129;01mis\u001b[39;00m \u001b[38;5;129;01mnot\u001b[39;00m \u001b[38;5;28;01mNone\u001b[39;00m:\n\u001b[1;32m   1318\u001b[0m         \u001b[38;5;28;01mfrom\u001b[39;00m \u001b[38;5;21;01mfsspec\u001b[39;00m\u001b[38;5;21;01m.\u001b[39;00m\u001b[38;5;21;01mcompression\u001b[39;00m \u001b[38;5;28;01mimport\u001b[39;00m compr\n",
      "File \u001b[0;32m~/.conda/envs/hipscatenv/lib/python3.10/site-packages/fsspec/implementations/local.py:180\u001b[0m, in \u001b[0;36mLocalFileSystem._open\u001b[0;34m(self, path, mode, block_size, **kwargs)\u001b[0m\n\u001b[1;32m    178\u001b[0m \u001b[38;5;28;01mif\u001b[39;00m \u001b[38;5;28mself\u001b[39m\u001b[38;5;241m.\u001b[39mauto_mkdir \u001b[38;5;129;01mand\u001b[39;00m \u001b[38;5;124m\"\u001b[39m\u001b[38;5;124mw\u001b[39m\u001b[38;5;124m\"\u001b[39m \u001b[38;5;129;01min\u001b[39;00m mode:\n\u001b[1;32m    179\u001b[0m     \u001b[38;5;28mself\u001b[39m\u001b[38;5;241m.\u001b[39mmakedirs(\u001b[38;5;28mself\u001b[39m\u001b[38;5;241m.\u001b[39m_parent(path), exist_ok\u001b[38;5;241m=\u001b[39m\u001b[38;5;28;01mTrue\u001b[39;00m)\n\u001b[0;32m--> 180\u001b[0m \u001b[38;5;28;01mreturn\u001b[39;00m \u001b[43mLocalFileOpener\u001b[49m\u001b[43m(\u001b[49m\u001b[43mpath\u001b[49m\u001b[43m,\u001b[49m\u001b[43m \u001b[49m\u001b[43mmode\u001b[49m\u001b[43m,\u001b[49m\u001b[43m \u001b[49m\u001b[43mfs\u001b[49m\u001b[38;5;241;43m=\u001b[39;49m\u001b[38;5;28;43mself\u001b[39;49m\u001b[43m,\u001b[49m\u001b[43m \u001b[49m\u001b[38;5;241;43m*\u001b[39;49m\u001b[38;5;241;43m*\u001b[39;49m\u001b[43mkwargs\u001b[49m\u001b[43m)\u001b[49m\n",
      "File \u001b[0;32m~/.conda/envs/hipscatenv/lib/python3.10/site-packages/fsspec/implementations/local.py:298\u001b[0m, in \u001b[0;36mLocalFileOpener.__init__\u001b[0;34m(self, path, mode, autocommit, fs, compression, **kwargs)\u001b[0m\n\u001b[1;32m    296\u001b[0m \u001b[38;5;28mself\u001b[39m\u001b[38;5;241m.\u001b[39mcompression \u001b[38;5;241m=\u001b[39m get_compression(path, compression)\n\u001b[1;32m    297\u001b[0m \u001b[38;5;28mself\u001b[39m\u001b[38;5;241m.\u001b[39mblocksize \u001b[38;5;241m=\u001b[39m io\u001b[38;5;241m.\u001b[39mDEFAULT_BUFFER_SIZE\n\u001b[0;32m--> 298\u001b[0m \u001b[38;5;28;43mself\u001b[39;49m\u001b[38;5;241;43m.\u001b[39;49m\u001b[43m_open\u001b[49m\u001b[43m(\u001b[49m\u001b[43m)\u001b[49m\n",
      "File \u001b[0;32m~/.conda/envs/hipscatenv/lib/python3.10/site-packages/fsspec/implementations/local.py:303\u001b[0m, in \u001b[0;36mLocalFileOpener._open\u001b[0;34m(self)\u001b[0m\n\u001b[1;32m    301\u001b[0m \u001b[38;5;28;01mif\u001b[39;00m \u001b[38;5;28mself\u001b[39m\u001b[38;5;241m.\u001b[39mf \u001b[38;5;129;01mis\u001b[39;00m \u001b[38;5;28;01mNone\u001b[39;00m \u001b[38;5;129;01mor\u001b[39;00m \u001b[38;5;28mself\u001b[39m\u001b[38;5;241m.\u001b[39mf\u001b[38;5;241m.\u001b[39mclosed:\n\u001b[1;32m    302\u001b[0m     \u001b[38;5;28;01mif\u001b[39;00m \u001b[38;5;28mself\u001b[39m\u001b[38;5;241m.\u001b[39mautocommit \u001b[38;5;129;01mor\u001b[39;00m \u001b[38;5;124m\"\u001b[39m\u001b[38;5;124mw\u001b[39m\u001b[38;5;124m\"\u001b[39m \u001b[38;5;129;01mnot\u001b[39;00m \u001b[38;5;129;01min\u001b[39;00m \u001b[38;5;28mself\u001b[39m\u001b[38;5;241m.\u001b[39mmode:\n\u001b[0;32m--> 303\u001b[0m         \u001b[38;5;28mself\u001b[39m\u001b[38;5;241m.\u001b[39mf \u001b[38;5;241m=\u001b[39m \u001b[38;5;28;43mopen\u001b[39;49m\u001b[43m(\u001b[49m\u001b[38;5;28;43mself\u001b[39;49m\u001b[38;5;241;43m.\u001b[39;49m\u001b[43mpath\u001b[49m\u001b[43m,\u001b[49m\u001b[43m \u001b[49m\u001b[43mmode\u001b[49m\u001b[38;5;241;43m=\u001b[39;49m\u001b[38;5;28;43mself\u001b[39;49m\u001b[38;5;241;43m.\u001b[39;49m\u001b[43mmode\u001b[49m\u001b[43m)\u001b[49m\n\u001b[1;32m    304\u001b[0m         \u001b[38;5;28;01mif\u001b[39;00m \u001b[38;5;28mself\u001b[39m\u001b[38;5;241m.\u001b[39mcompression:\n\u001b[1;32m    305\u001b[0m             compress \u001b[38;5;241m=\u001b[39m compr[\u001b[38;5;28mself\u001b[39m\u001b[38;5;241m.\u001b[39mcompression]\n",
      "\u001b[0;31mFileNotFoundError\u001b[0m: [Errno 2] No such file or directory: '/data3/epyc/data3/hipscat/catalogs/gaia/gaia_10arcs/catalog_info.json'"
     ]
    }
   ],
   "source": [
    "almanac_info = AlmanacInfo.from_catalog_dir(\"/data3/epyc/data3/hipscat/catalogs/gaia/gaia_10arcs\")\n",
    "almanac_info.write_to_file()"
   ]
  },
  {
   "cell_type": "code",
   "execution_count": 37,
   "id": "bbb8f35d",
   "metadata": {},
   "outputs": [],
   "source": [
    "almanac_info = AlmanacInfo.from_catalog_dir(\"/data3/epyc/data3/hipscat/catalogs/ps1/ps1_detection\")\n",
    "almanac_info.write_to_file()"
   ]
  },
  {
   "cell_type": "code",
   "execution_count": 44,
   "id": "a1c9684c",
   "metadata": {},
   "outputs": [],
   "source": [
    "almanac_info = AlmanacInfo.from_catalog_dir(\"/data3/epyc/data3/hipscat/catalogs/ztf_dr14_10arcs\")\n",
    "almanac_info.write_to_file()"
   ]
  },
  {
   "cell_type": "code",
   "execution_count": 39,
   "id": "9abff0c2",
   "metadata": {},
   "outputs": [],
   "source": [
    "almanac_info = AlmanacInfo.from_catalog_dir(\"/data3/epyc/data3/hipscat/catalogs/neowise_yr8\")\n",
    "almanac_info.write_to_file()"
   ]
  },
  {
   "cell_type": "code",
   "execution_count": 58,
   "id": "cd90089d",
   "metadata": {},
   "outputs": [],
   "source": [
    "almanac_info = AlmanacInfo.from_catalog_dir(\"/data3/epyc/data3/hipscat/test_catalogs/macauff_association\")\n",
    "almanac_info.write_to_file()"
   ]
  },
  {
   "cell_type": "code",
   "execution_count": 90,
   "id": "629377eb",
   "metadata": {},
   "outputs": [],
   "source": [
    "almanac_info = AlmanacInfo.from_catalog_dir(\"/data3/epyc/data3/hipscat/catalogs/gaia_dr3/gaia_source_id_index\")\n",
    "almanac_info.write_to_file()"
   ]
  },
  {
   "cell_type": "code",
   "execution_count": 83,
   "id": "e1c3b473",
   "metadata": {},
   "outputs": [],
   "source": [
    "almanac_info = AlmanacInfo.from_catalog_dir(\"/data3/epyc/data3/hipscat/catalogs/ps1/ps1_10arcs\")\n",
    "almanac_info.write_to_file()"
   ]
  },
  {
   "cell_type": "code",
   "execution_count": 8,
   "id": "a3c5aced",
   "metadata": {
    "scrolled": true
   },
   "outputs": [
    {
     "data": {
      "text/plain": [
       "['allwise',\n",
       " 'allwise_10arcs',\n",
       " 'catwise2020',\n",
       " 'dr16q_constant',\n",
       " 'gaia',\n",
       " 'gaia_10arcs',\n",
       " 'gaia_source_id_index',\n",
       " 'macauff_association',\n",
       " 'neowise_yr8',\n",
       " 'ps1_10arcs',\n",
       " 'ps1_detection',\n",
       " 'ps1_otmo',\n",
       " 'tic_1',\n",
       " 'tic_10arcs',\n",
       " 'ztf_dr14',\n",
       " 'ztf_dr14_10arcs',\n",
       " 'ztf_source',\n",
       " 'zubercal']"
      ]
     },
     "execution_count": 8,
     "metadata": {},
     "output_type": "execute_result"
    }
   ],
   "source": [
    "almanac = Almanac()\n",
    "almanac.catalogs()"
   ]
  },
  {
   "cell_type": "code",
   "execution_count": 10,
   "id": "e3142f2a",
   "metadata": {},
   "outputs": [
    {
     "name": "stdout",
     "output_type": "stream",
     "text": [
      "<class 'hipscat.catalog.dataset.dataset.Dataset'> object\n",
      "object catalog allwise\n",
      "1695\n",
      "<class 'hipscat.catalog.dataset.dataset.Dataset'> margin\n",
      "<class 'hipscat.catalog.dataset.dataset.Dataset'> object\n",
      "object catalog catwise2020\n",
      "4080\n",
      "<class 'hipscat.catalog.dataset.dataset.Dataset'> object\n",
      "object catalog dr16q_constant\n",
      "3657\n",
      "<class 'hipscat.catalog.dataset.dataset.Dataset'> object\n",
      "object catalog gaia\n",
      "3933\n",
      "<class 'hipscat.catalog.dataset.dataset.Dataset'> margin\n",
      "<class 'hipscat.catalog.dataset.dataset.Dataset'> index\n",
      "<class 'hipscat.catalog.dataset.dataset.Dataset'> association\n",
      "<class 'hipscat.catalog.dataset.dataset.Dataset'> object\n",
      "object catalog neowise_yr8\n",
      "20010\n",
      "<class 'hipscat.catalog.dataset.dataset.Dataset'> margin\n",
      "<class 'hipscat.catalog.dataset.dataset.Dataset'> source\n",
      "object catalog ps1_detection\n",
      "150806\n",
      "<class 'hipscat.catalog.dataset.dataset.Dataset'> object\n",
      "object catalog ps1_otmo\n",
      "27161\n",
      "<class 'hipscat.catalog.dataset.dataset.Dataset'> object\n",
      "object catalog tic_1\n",
      "3768\n",
      "<class 'hipscat.catalog.dataset.dataset.Dataset'> margin\n",
      "<class 'hipscat.catalog.dataset.dataset.Dataset'> object\n",
      "object catalog ztf_dr14\n",
      "2352\n",
      "<class 'hipscat.catalog.dataset.dataset.Dataset'> margin\n",
      "<class 'hipscat.catalog.dataset.dataset.Dataset'> object\n",
      "object catalog ztf_source\n",
      "311037\n",
      "<class 'hipscat.catalog.dataset.dataset.Dataset'> source\n",
      "object catalog zubercal\n",
      "70853\n",
      "CPU times: user 12.9 s, sys: 0 ns, total: 12.9 s\n",
      "Wall time: 13.5 s\n"
     ]
    }
   ],
   "source": [
    "%%time\n",
    "\n",
    "from hipscat.catalog.catalog import Catalog\n",
    "\n",
    "almanac = Almanac()\n",
    "for info in almanac.catalogs():\n",
    "    catalog = almanac.get_catalog(info)\n",
    "    print(type(catalog), catalog.catalog_info.catalog_type)\n",
    "    if catalog.catalog_info.catalog_type in (\"object\", \"source\"):\n",
    "        print(\"object catalog\", catalog.catalog_name)\n",
    "        catalog = Catalog.read_from_hipscat(catalog.catalog_path)\n",
    "        \n",
    "        print(len(catalog.get_healpix_pixels()))\n",
    "#         elif catalog.catalog_info.catalog_type == \"margin\":\n",
    "\n"
   ]
  },
  {
   "cell_type": "code",
   "execution_count": 51,
   "id": "bafecb9c",
   "metadata": {},
   "outputs": [
    {
     "data": {
      "text/plain": [
       "'/data3/epyc/data3/hipscat/catalogs/gaia/gaia'"
      ]
     },
     "execution_count": 51,
     "metadata": {},
     "output_type": "execute_result"
    }
   ],
   "source": [
    "catalog = almanac.get_catalog(\"gaia\")\n",
    "catalog.catalog_path"
   ]
  },
  {
   "cell_type": "code",
   "execution_count": 65,
   "id": "b79eeddd",
   "metadata": {},
   "outputs": [
    {
     "data": {
      "text/plain": [
       "'ztf_dr14_10arcs'"
      ]
     },
     "execution_count": 65,
     "metadata": {},
     "output_type": "execute_result"
    }
   ],
   "source": [
    "catalog = almanac.get_almanac_info(\"ztf_dr14\")\n",
    "catalog.margins[0].catalog_name"
   ]
  },
  {
   "cell_type": "code",
   "execution_count": null,
   "id": "0910c591",
   "metadata": {},
   "outputs": [],
   "source": []
  }
 ],
 "metadata": {
  "kernelspec": {
   "display_name": "Melissa LSDB",
   "language": "python",
   "name": "mmd11_lsdb"
  },
  "language_info": {
   "codemirror_mode": {
    "name": "ipython",
    "version": 3
   },
   "file_extension": ".py",
   "mimetype": "text/x-python",
   "name": "python",
   "nbconvert_exporter": "python",
   "pygments_lexer": "ipython3",
   "version": "3.10.13"
  }
 },
 "nbformat": 4,
 "nbformat_minor": 5
}
