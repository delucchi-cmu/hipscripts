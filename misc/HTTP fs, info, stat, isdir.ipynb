{
 "cells": [
  {
   "cell_type": "code",
   "execution_count": 4,
   "id": "d39976db",
   "metadata": {},
   "outputs": [
    {
     "name": "stdout",
     "output_type": "stream",
     "text": [
      "Defaulting to user installation because normal site-packages is not writeable\n",
      "Requirement already satisfied: aiohttp in /nvme/cache/epyc/opt/anaconda-2019/lib/python3.7/site-packages (3.6.2)\n",
      "Requirement already satisfied: multidict<5.0,>=4.5 in /nvme/cache/epyc/opt/anaconda-2019/lib/python3.7/site-packages (from aiohttp) (4.7.4)\n",
      "Requirement already satisfied: async-timeout<4.0,>=3.0 in /nvme/cache/epyc/opt/anaconda-2019/lib/python3.7/site-packages (from aiohttp) (3.0.1)\n",
      "Requirement already satisfied: chardet<4.0,>=2.0 in /nvme/cache/epyc/opt/anaconda-2019/lib/python3.7/site-packages (from aiohttp) (3.0.4)\n",
      "Requirement already satisfied: yarl<2.0,>=1.0 in /nvme/cache/epyc/opt/anaconda-2019/lib/python3.7/site-packages (from aiohttp) (1.4.2)\n",
      "Requirement already satisfied: attrs>=17.3.0 in /nvme/cache/epyc/opt/anaconda-2019/lib/python3.7/site-packages (from aiohttp) (19.3.0)\n",
      "Requirement already satisfied: idna>=2.0 in /nvme/cache/epyc/opt/anaconda-2019/lib/python3.7/site-packages (from yarl<2.0,>=1.0->aiohttp) (2.8)\n"
     ]
    }
   ],
   "source": [
    "!pip install aiohttp"
   ]
  },
  {
   "cell_type": "code",
   "execution_count": 7,
   "id": "4df43950",
   "metadata": {},
   "outputs": [
    {
     "data": {
      "text/plain": [
       "'file'"
      ]
     },
     "execution_count": 7,
     "metadata": {},
     "output_type": "execute_result"
    }
   ],
   "source": [
    "from pathlib import Path\n",
    "import fsspec\n",
    "\n",
    "base_url = \"https://data.lsdb.io/hats/gaia_dr3/gaia/\"\n",
    "fs = fsspec.filesystem(\"http\")\n",
    "\n",
    "fs.info(base_url)[\"type\"]"
   ]
  },
  {
   "cell_type": "code",
   "execution_count": 13,
   "id": "ce205cd6",
   "metadata": {},
   "outputs": [
    {
     "data": {
      "text/plain": [
       "'file'"
      ]
     },
     "execution_count": 13,
     "metadata": {},
     "output_type": "execute_result"
    }
   ],
   "source": [
    "fs.stat(base_url)[\"type\"]"
   ]
  },
  {
   "cell_type": "code",
   "execution_count": 19,
   "id": "26fc3b6b",
   "metadata": {},
   "outputs": [
    {
     "data": {
      "text/plain": [
       "True"
      ]
     },
     "execution_count": 19,
     "metadata": {},
     "output_type": "execute_result"
    }
   ],
   "source": [
    "fs.isdir(base_url)"
   ]
  },
  {
   "cell_type": "code",
   "execution_count": 18,
   "id": "abfba67b",
   "metadata": {},
   "outputs": [
    {
     "data": {
      "text/plain": [
       "True"
      ]
     },
     "execution_count": 18,
     "metadata": {},
     "output_type": "execute_result"
    }
   ],
   "source": [
    "fs.isfile(base_url)"
   ]
  },
  {
   "cell_type": "code",
   "execution_count": 12,
   "id": "d6a0e043",
   "metadata": {},
   "outputs": [
    {
     "name": "stderr",
     "output_type": "stream",
     "text": [
      "/tmp/ipykernel_42439/3411417533.py:4: DeprecationWarning: Access the fsspec info via `.as_info()[key]`\n",
      "  base_upath.stat()[\"type\"]\n"
     ]
    },
    {
     "data": {
      "text/plain": [
       "'directory'"
      ]
     },
     "execution_count": 12,
     "metadata": {},
     "output_type": "execute_result"
    }
   ],
   "source": [
    "from upath import UPath\n",
    "\n",
    "base_upath = UPath(base_url)\n",
    "\n",
    "base_upath.stat()[\"type\"]"
   ]
  },
  {
   "cell_type": "code",
   "execution_count": 15,
   "id": "155fe66d",
   "metadata": {},
   "outputs": [
    {
     "data": {
      "text/plain": [
       "{'name': 'https://data.lsdb.io/hats/gaia_dr3/gaia/',\n",
       " 'size': 1535,\n",
       " 'mimetype': 'text/html',\n",
       " 'url': 'https://data.lsdb.io/hats/gaia_dr3/gaia/',\n",
       " 'type': 'file'}"
      ]
     },
     "execution_count": 15,
     "metadata": {},
     "output_type": "execute_result"
    }
   ],
   "source": [
    "base_upath.fs.stat(base_upath.path)"
   ]
  },
  {
   "cell_type": "code",
   "execution_count": 16,
   "id": "f35965a2",
   "metadata": {},
   "outputs": [
    {
     "data": {
      "text/plain": [
       "True"
      ]
     },
     "execution_count": 16,
     "metadata": {},
     "output_type": "execute_result"
    }
   ],
   "source": [
    "base_upath.fs.isdir(base_upath.path)"
   ]
  },
  {
   "cell_type": "code",
   "execution_count": 17,
   "id": "7789ca64",
   "metadata": {},
   "outputs": [
    {
     "data": {
      "text/plain": [
       "True"
      ]
     },
     "execution_count": 17,
     "metadata": {},
     "output_type": "execute_result"
    }
   ],
   "source": [
    "base_upath.fs.isfile(base_upath.path)"
   ]
  },
  {
   "cell_type": "code",
   "execution_count": null,
   "id": "ad53a418",
   "metadata": {},
   "outputs": [],
   "source": []
  }
 ],
 "metadata": {
  "kernelspec": {
   "display_name": "DeLucchi HATS",
   "language": "python",
   "name": "hatsenv"
  },
  "language_info": {
   "codemirror_mode": {
    "name": "ipython",
    "version": 3
   },
   "file_extension": ".py",
   "mimetype": "text/x-python",
   "name": "python",
   "nbconvert_exporter": "python",
   "pygments_lexer": "ipython3",
   "version": "3.10.15"
  }
 },
 "nbformat": 4,
 "nbformat_minor": 5
}
