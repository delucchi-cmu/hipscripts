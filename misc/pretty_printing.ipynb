{
 "cells": [
  {
   "cell_type": "code",
   "execution_count": 2,
   "metadata": {},
   "outputs": [],
   "source": [
    "def pretty_print_area(arcmin):\n",
    "    if arcmin >= 1:\n",
    "        return f\"{arcmin:.2f} arcmin\"\n",
    "    return f\"{(arcmin * 60):.2f} arcsec\""
   ]
  },
  {
   "cell_type": "code",
   "execution_count": 10,
   "metadata": {},
   "outputs": [],
   "source": [
    "import hats.pixel_math.healpix_shim as hp\n",
    "import numpy as np\n",
    "\n",
    "## arcminutes\n",
    "orders = np.arange(0, 20)\n",
    "dists = hp.order2mindist(orders)"
   ]
  },
  {
   "cell_type": "code",
   "execution_count": 11,
   "metadata": {},
   "outputs": [],
   "source": [
    "areapp = [pretty_print_area(arcmin) for arcmin in dists]"
   ]
  },
  {
   "cell_type": "code",
   "execution_count": 13,
   "metadata": {},
   "outputs": [
    {
     "data": {
      "text/plain": [
       "['2198.71 arcmin',\n",
       " '1099.36 arcmin',\n",
       " '549.68 arcmin',\n",
       " '274.84 arcmin',\n",
       " '137.42 arcmin',\n",
       " '68.71 arcmin',\n",
       " '34.35 arcmin',\n",
       " '17.18 arcmin',\n",
       " '8.59 arcmin',\n",
       " '4.29 arcmin',\n",
       " '2.15 arcmin',\n",
       " '1.07 arcmin',\n",
       " '32.21 arcsec',\n",
       " '16.10 arcsec',\n",
       " '8.05 arcsec',\n",
       " '4.03 arcsec',\n",
       " '2.01 arcsec',\n",
       " '1.01 arcsec',\n",
       " '0.50 arcsec',\n",
       " '0.25 arcsec']"
      ]
     },
     "execution_count": 13,
     "metadata": {},
     "output_type": "execute_result"
    }
   ],
   "source": [
    "areapp"
   ]
  },
  {
   "cell_type": "code",
   "execution_count": null,
   "metadata": {},
   "outputs": [],
   "source": [
    "import hats\n",
    "\n",
    "import hats.pixel_math.healpix_shim as hp\n",
    "\n",
    "\n",
    "def pretty_print_angle(deg):\n",
    "    if deg >= 1:\n",
    "        return f\"{deg:.2f} deg\"\n",
    "    elif (deg * 60) >= 1:\n",
    "        return f\"{(deg * 60):.2f} arcmin\"\n",
    "    elif (deg * 3600) >= 0.01:\n",
    "        return f\"{(deg * 3600):.2f} arcsec\"\n",
    "    else:\n",
    "        return f\"{(deg * 3600 * 1000)} msec\"\n",
    "\n",
    "\n",
    "for order in range(10, 23):\n",
    "    print(order, pretty_print_angle(hp.order2mindist(order) / 60))"
   ]
  }
 ],
 "metadata": {
  "kernelspec": {
   "display_name": "demo",
   "language": "python",
   "name": "python3"
  },
  "language_info": {
   "codemirror_mode": {
    "name": "ipython",
    "version": 3
   },
   "file_extension": ".py",
   "mimetype": "text/x-python",
   "name": "python",
   "nbconvert_exporter": "python",
   "pygments_lexer": "ipython3",
   "version": "3.12.3"
  }
 },
 "nbformat": 4,
 "nbformat_minor": 2
}
