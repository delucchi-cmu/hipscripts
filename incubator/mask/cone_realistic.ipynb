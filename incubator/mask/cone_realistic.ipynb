{
 "cells": [
  {
   "cell_type": "code",
   "execution_count": 1,
   "metadata": {},
   "outputs": [],
   "source": [
    "import hipscat\n",
    "import healpy as hp\n",
    "import pandas as pd\n",
    "from tqdm import tqdm\n",
    "from hipscat.inspection import plot_pixel_list\n",
    "from hipscat.pixel_math import HealpixPixel\n",
    "import numpy as np\n",
    "import matplotlib.pyplot as plt"
   ]
  },
  {
   "cell_type": "code",
   "execution_count": 2,
   "metadata": {},
   "outputs": [],
   "source": [
    "step = 2"
   ]
  },
  {
   "cell_type": "code",
   "execution_count": 3,
   "metadata": {},
   "outputs": [],
   "source": [
    "import gundam.cflibfor as cff\n",
    "import numpy as np\n",
    "import pandas as pd\n",
    "from gundam import gundam\n",
    "from hipscat.catalog.catalog_info import CatalogInfo\n",
    "from munch import Munch\n",
    "from corrgi.utils import project_coordinates\n"
   ]
  },
  {
   "cell_type": "code",
   "execution_count": 4,
   "metadata": {},
   "outputs": [
    {
     "name": "stdout",
     "output_type": "stream",
     "text": [
      "Missing outfn: default to run001\n"
     ]
    }
   ],
   "source": [
    "params = gundam.packpars(kind=\"acf\")\n",
    "params.dsept = 0.1\n",
    "params.nsept = 33\n",
    "params.septmin = 0.01\n",
    "\n",
    "bins, _ = gundam.makebins(\n",
    "            params.nsept, params.septmin, params.dsept, params.logsept\n",
    "        )"
   ]
  },
  {
   "cell_type": "code",
   "execution_count": 36,
   "metadata": {},
   "outputs": [
    {
     "name": "stdout",
     "output_type": "stream",
     "text": [
      "3933 partitions\n",
      "7732278 iterations\n"
     ]
    }
   ],
   "source": [
    "gaia_full_partition_frame = pd.read_csv(\"gaia_partition_info.csv\")\n",
    "gaia_full_partition_list = [\n",
    "            HealpixPixel(order, pixel)\n",
    "            for order, pixel in zip(\n",
    "                gaia_full_partition_frame[\"Norder\"],\n",
    "                gaia_full_partition_frame[\"Npix\"],\n",
    "            )\n",
    "        ]\n",
    "num_partitions = len(gaia_full_partition_list)\n",
    "# num_partitions = 3\n",
    "print(num_partitions, \"partitions\")\n",
    "print(int(.5 * num_partitions * (num_partitions - 1)), \"iterations\")"
   ]
  },
  {
   "cell_type": "code",
   "execution_count": 31,
   "metadata": {},
   "outputs": [],
   "source": [
    "## i know this is dumb. i don't care.\n",
    "\n",
    "def calc_num_bins(bounds_a, bounds_b):\n",
    "    a_x, a_y, a_z = project_coordinates(ra=bounds_a[0], dec=bounds_a[1])\n",
    "    b_x, b_y, b_z = project_coordinates(ra=bounds_b[0], dec=bounds_b[1])\n",
    "    args = [\n",
    "            len(a_x),  # number of particles of the left partition\n",
    "            a_x, a_y, a_z,  # X,Y,Z coordinates of particles\n",
    "            len(b_x),  # number of particles of the right partition\n",
    "            b_x, b_y, b_z,  # X,Y,Z coordinates of particles\n",
    "            params.nsept,  # number of angular separation bins\n",
    "            bins,  # bins in angular separation [deg]\n",
    "        ]\n",
    "    bins_populated = cff.mod.th_C_naiveway(*args)\n",
    "    populated_bins = np.flatnonzero(bins_populated)\n",
    "    overlap_width = 0\n",
    "    if len(populated_bins) > 0:\n",
    "        overlap_width = populated_bins.max() - populated_bins.min() + 1\n",
    "    return overlap_width"
   ]
  },
  {
   "cell_type": "code",
   "execution_count": 37,
   "metadata": {},
   "outputs": [
    {
     "name": "stderr",
     "output_type": "stream",
     "text": [
      "100%|██████████| 3933/3933 [05:16<00:00, 12.43it/s] \n"
     ]
    }
   ],
   "source": [
    "num_bins = []\n",
    "\n",
    "for a in tqdm(range(0, num_partitions)):\n",
    "    for b in range(a, num_partitions):\n",
    "        bounds_a = hp.vec2dir(hp.boundaries(2**gaia_full_partition_list[a].order, gaia_full_partition_list[a].pixel, step=step, nest=True), lonlat=True)\n",
    "        bounds_b = hp.vec2dir(hp.boundaries(2**gaia_full_partition_list[b].order, gaia_full_partition_list[b].pixel, step=step, nest=True), lonlat=True)\n",
    "        num_bins.append(calc_num_bins(bounds_a, bounds_b))"
   ]
  },
  {
   "cell_type": "code",
   "execution_count": 38,
   "metadata": {},
   "outputs": [
    {
     "data": {
      "text/plain": [
       "7736211"
      ]
     },
     "execution_count": 38,
     "metadata": {},
     "output_type": "execute_result"
    }
   ],
   "source": [
    "len(num_bins)"
   ]
  },
  {
   "cell_type": "code",
   "execution_count": 40,
   "metadata": {},
   "outputs": [
    {
     "name": "stderr",
     "output_type": "stream",
     "text": [
      "100%|██████████| 3933/3933 [00:01<00:00, 2251.26it/s]\n"
     ]
    }
   ],
   "source": [
    "pix_a_order = []\n",
    "pix_a_pixel = []\n",
    "pix_b_order = []\n",
    "pix_b_pixel = []\n",
    "\n",
    "for a in tqdm(range(0, num_partitions)):\n",
    "    for b in range(a, num_partitions):\n",
    "        pix_a_order.append(gaia_full_partition_list[a].order)\n",
    "        pix_a_pixel.append(gaia_full_partition_list[a].pixel)\n",
    "        pix_b_order.append(gaia_full_partition_list[b].order)\n",
    "        pix_b_pixel.append(gaia_full_partition_list[b].pixel)\n",
    "\n",
    "\n",
    "big_beautiful_frame = pd.DataFrame({\"Norder_a\": pix_a_order,\n",
    "                                    \"Npix_a\": pix_a_pixel,\n",
    "                                    \"Norder_b\": pix_b_order,\n",
    "                                    \"Npix_b\": pix_b_pixel,\n",
    "                                    \"num_bins\": num_bins,\n",
    "                                    })\n",
    "big_beautiful_frame.to_csv(\"num_bins.csv\", index=False)"
   ]
  }
 ],
 "metadata": {
  "kernelspec": {
   "display_name": "hipscatenv",
   "language": "python",
   "name": "python3"
  },
  "language_info": {
   "codemirror_mode": {
    "name": "ipython",
    "version": 3
   },
   "file_extension": ".py",
   "mimetype": "text/x-python",
   "name": "python",
   "nbconvert_exporter": "python",
   "pygments_lexer": "ipython3",
   "version": "3.10.14"
  }
 },
 "nbformat": 4,
 "nbformat_minor": 2
}
