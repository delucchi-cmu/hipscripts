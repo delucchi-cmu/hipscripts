{
 "cells": [
  {
   "cell_type": "code",
   "execution_count": 1,
   "metadata": {},
   "outputs": [],
   "source": [
    "import hipscat\n",
    "import healpy as hp\n",
    "import pandas as pd\n",
    "from tqdm import tqdm\n",
    "from hipscat.inspection import plot_pixel_list\n",
    "from hipscat.pixel_math import HealpixPixel\n",
    "import numpy as np\n",
    "import matplotlib.pyplot as plt\n",
    "import pandas as pd"
   ]
  },
  {
   "cell_type": "code",
   "execution_count": 2,
   "metadata": {},
   "outputs": [
    {
     "data": {
      "text/plain": [
       "15"
      ]
     },
     "execution_count": 2,
     "metadata": {},
     "output_type": "execute_result"
    }
   ],
   "source": [
    "big_beautiful_frame = pd.read_csv(\"num_bins.csv\")\n",
    "\n",
    "big_beautiful_frame[\"num_bins\"].max()"
   ]
  },
  {
   "cell_type": "code",
   "execution_count": 3,
   "metadata": {},
   "outputs": [],
   "source": [
    "bin_hist, bin_bins = np.histogram(big_beautiful_frame[\"num_bins\"], bins = np.arange(0, 15))"
   ]
  },
  {
   "cell_type": "code",
   "execution_count": 4,
   "metadata": {},
   "outputs": [
    {
     "data": {
      "image/png": "[encoded data removed]",
      "text/plain": [
       "<Figure size 1500x300 with 1 Axes>"
      ]
     },
     "metadata": {},
     "output_type": "display_data"
    }
   ],
   "source": [
    "width = np.diff(bin_bins)\n",
    "center = (bin_bins[:-1] + bin_bins[1:]) / 2\n",
    "\n",
    "fig, ax = plt.subplots(figsize=(15,3))\n",
    "ax.bar(center, bin_hist, align='center', width=width)\n",
    "# ax.set_yscale('log')\n",
    "plt.title(f\"num sep bins, for pairwise hipscat pixels\")\n",
    "plt.show()"
   ]
  },
  {
   "cell_type": "code",
   "execution_count": 5,
   "metadata": {},
   "outputs": [
    {
     "data": {
      "text/plain": [
       "array([6672582,  337619,  433515,  165429,   56922,   22745,   18439,\n",
       "          9241,   11312,    4606,    2460,    1026,     216,      97])"
      ]
     },
     "execution_count": 5,
     "metadata": {},
     "output_type": "execute_result"
    }
   ],
   "source": [
    "bin_hist"
   ]
  },
  {
   "cell_type": "code",
   "execution_count": 11,
   "metadata": {},
   "outputs": [
    {
     "data": {
      "text/plain": [
       "array([0.863, 0.044, 0.056, 0.021, 0.007, 0.003, 0.002, 0.001, 0.001,\n",
       "       0.001, 0.   , 0.   , 0.   , 0.   ])"
      ]
     },
     "execution_count": 11,
     "metadata": {},
     "output_type": "execute_result"
    }
   ],
   "source": [
    "num_pairs = np.sum(bin_hist)\n",
    "proportion = bin_hist / num_pairs\n",
    "\n",
    "np.set_printoptions(precision=3)\n",
    "np.set_printoptions(suppress=True)\n",
    "\n",
    "proportion"
   ]
  },
  {
   "cell_type": "markdown",
   "metadata": {},
   "source": [
    "86% of tile pairs will have only NO separation bins (e.g. they are too far away to have any reasonable overlap in the example bins). These pairings can be completely skipped!!!!!"
   ]
  },
  {
   "cell_type": "code",
   "execution_count": 8,
   "metadata": {},
   "outputs": [
    {
     "data": {
      "text/plain": [
       "array([0.317, 0.408, 0.156, 0.054, 0.021, 0.017, 0.009, 0.011, 0.004,\n",
       "       0.002, 0.001, 0.   , 0.   ])"
      ]
     },
     "execution_count": 8,
     "metadata": {},
     "output_type": "execute_result"
    }
   ],
   "source": [
    "nonzero_bins = bin_hist[1:]\n",
    "\n",
    "num_pairs = np.sum(nonzero_bins)\n",
    "proportion = nonzero_bins / num_pairs\n",
    "proportion"
   ]
  },
  {
   "cell_type": "markdown",
   "metadata": {},
   "source": [
    "Considering just the nonzero bins that we'll want to calculate:\n",
    "\n",
    "~30% have only ONE overlapping bin. In this case, we only need the **total** masked count for these tile-pairs. We can just multiply the particle population, and put that product into the single expected bin.\n",
    "\n",
    "~40% will have two possible bins. Once pair separations have been determined, the binning clause can be quickly short-circuited. We will know BEFORE loading the parquet tiles into memory what the possible bins are. Can pass just the dividing line between bins to counting routine! Could just return `count sep less than X`.\n",
    "\n",
    "Remaining ~30% of tile pairs have 3+ possible bins. These are the smallest separations, and the ones that we will spend the most time on (and where we SHOULD be spending the most time getting the counts right!). Considering the full population, this is only around 4% of all pairwise combinations."
   ]
  },
  {
   "cell_type": "code",
   "execution_count": 9,
   "metadata": {},
   "outputs": [
    {
     "data": {
      "text/plain": [
       "0.27499583970696495"
      ]
     },
     "execution_count": 9,
     "metadata": {},
     "output_type": "execute_result"
    }
   ],
   "source": [
    "## \"long tail\" of 3+ possible bins\n",
    "nonzero_bins[2:].sum() / nonzero_bins.sum()"
   ]
  },
  {
   "cell_type": "code",
   "execution_count": 12,
   "metadata": {},
   "outputs": [
    {
     "data": {
      "text/plain": [
       "0.03780831153863604"
      ]
     },
     "execution_count": 12,
     "metadata": {},
     "output_type": "execute_result"
    }
   ],
   "source": [
    "## \"long tail\" of 3+ possible bins, out of the TOTAL number of possible pairwise combinations\n",
    "bin_hist[3:].sum() / bin_hist.sum()"
   ]
  }
 ],
 "metadata": {
  "kernelspec": {
   "display_name": "hipscatenv",
   "language": "python",
   "name": "python3"
  },
  "language_info": {
   "codemirror_mode": {
    "name": "ipython",
    "version": 3
   },
   "file_extension": ".py",
   "mimetype": "text/x-python",
   "name": "python",
   "nbconvert_exporter": "python",
   "pygments_lexer": "ipython3",
   "version": "3.10.14"
  }
 },
 "nbformat": 4,
 "nbformat_minor": 2
}
